{
 "cells": [
  {
   "cell_type": "markdown",
   "metadata": {},
   "source": [
    "## Crypto Clustering Project (Market Movement Approach)"
   ]
  },
  {
   "cell_type": "code",
   "execution_count": 5,
   "metadata": {},
   "outputs": [],
   "source": [
    "import csv\n",
    "import requests\n",
    "import pandas as pd\n",
    "import matplotlib.pyplot as plt\n",
    "import numpy as np\n",
    "import plotly.express as px\n",
    "import pickle as pk\n",
    "from sklearn.preprocessing import StandardScaler, MinMaxScaler\n",
    "from sklearn.decomposition import PCA\n",
    "from sklearn.cluster import KMeans\n",
    "import seaborn as sns\n",
    "import hvplot.pandas \n",
    "%matplotlib inline"
   ]
  },
  {
   "cell_type": "markdown",
   "metadata": {},
   "source": [
    "### Reading the Top 100 Crypto in CoinGecko"
   ]
  },
  {
   "cell_type": "code",
   "execution_count": 6,
   "metadata": {},
   "outputs": [],
   "source": [
    "data = pd.read_csv(\"data/raw/coin_market_1.csv\")\n",
    "coindf = data.copy()"
   ]
  },
  {
   "cell_type": "code",
   "execution_count": 7,
   "metadata": {},
   "outputs": [
    {
     "data": {
      "text/html": [
       "<div>\n",
       "<style scoped>\n",
       "    .dataframe tbody tr th:only-of-type {\n",
       "        vertical-align: middle;\n",
       "    }\n",
       "\n",
       "    .dataframe tbody tr th {\n",
       "        vertical-align: top;\n",
       "    }\n",
       "\n",
       "    .dataframe thead th {\n",
       "        text-align: right;\n",
       "    }\n",
       "</style>\n",
       "<table border=\"1\" class=\"dataframe\">\n",
       "  <thead>\n",
       "    <tr style=\"text-align: right;\">\n",
       "      <th></th>\n",
       "      <th>id</th>\n",
       "      <th>symbol</th>\n",
       "      <th>name</th>\n",
       "      <th>hashing_algo</th>\n",
       "      <th>market_cap</th>\n",
       "      <th>rank</th>\n",
       "      <th>interest_score</th>\n",
       "      <th>p_change_30d</th>\n",
       "      <th>p_change_60d</th>\n",
       "      <th>p_change_200d</th>\n",
       "      <th>p_change_1y</th>\n",
       "      <th>market_cap_usd</th>\n",
       "      <th>total_supply</th>\n",
       "      <th>circulating_supply</th>\n",
       "      <th>twt_followers</th>\n",
       "      <th>rdt_followers</th>\n",
       "    </tr>\n",
       "  </thead>\n",
       "  <tbody>\n",
       "    <tr>\n",
       "      <th>0</th>\n",
       "      <td>bitcoin</td>\n",
       "      <td>btc</td>\n",
       "      <td>Bitcoin</td>\n",
       "      <td>SHA-256</td>\n",
       "      <td>1</td>\n",
       "      <td>1</td>\n",
       "      <td>0.341</td>\n",
       "      <td>2.51977</td>\n",
       "      <td>-4.58115</td>\n",
       "      <td>5.41309</td>\n",
       "      <td>-7.70834</td>\n",
       "      <td>839265356719</td>\n",
       "      <td>2.100000e+07</td>\n",
       "      <td>1.895990e+07</td>\n",
       "      <td>4677076</td>\n",
       "      <td>3911324</td>\n",
       "    </tr>\n",
       "    <tr>\n",
       "      <th>1</th>\n",
       "      <td>ethereum</td>\n",
       "      <td>eth</td>\n",
       "      <td>Ethereum</td>\n",
       "      <td>Ethash</td>\n",
       "      <td>2</td>\n",
       "      <td>2</td>\n",
       "      <td>0.701</td>\n",
       "      <td>-6.25679</td>\n",
       "      <td>-19.05058</td>\n",
       "      <td>27.77369</td>\n",
       "      <td>77.18060</td>\n",
       "      <td>377060274860</td>\n",
       "      <td>NaN</td>\n",
       "      <td>1.196021e+08</td>\n",
       "      <td>2225564</td>\n",
       "      <td>1230328</td>\n",
       "    </tr>\n",
       "    <tr>\n",
       "      <th>2</th>\n",
       "      <td>tether</td>\n",
       "      <td>usdt</td>\n",
       "      <td>Tether</td>\n",
       "      <td>NaN</td>\n",
       "      <td>3</td>\n",
       "      <td>146</td>\n",
       "      <td>0.071</td>\n",
       "      <td>0.05774</td>\n",
       "      <td>0.24979</td>\n",
       "      <td>-0.12995</td>\n",
       "      <td>0.07017</td>\n",
       "      <td>78725451792</td>\n",
       "      <td>7.864105e+10</td>\n",
       "      <td>7.864105e+10</td>\n",
       "      <td>207281</td>\n",
       "      <td>0</td>\n",
       "    </tr>\n",
       "    <tr>\n",
       "      <th>3</th>\n",
       "      <td>binancecoin</td>\n",
       "      <td>bnb</td>\n",
       "      <td>BNB</td>\n",
       "      <td>NaN</td>\n",
       "      <td>4</td>\n",
       "      <td>4</td>\n",
       "      <td>20.192</td>\n",
       "      <td>-13.25981</td>\n",
       "      <td>-17.85405</td>\n",
       "      <td>34.00305</td>\n",
       "      <td>234.28903</td>\n",
       "      <td>72869407075</td>\n",
       "      <td>1.681370e+08</td>\n",
       "      <td>1.681370e+08</td>\n",
       "      <td>7674506</td>\n",
       "      <td>801012</td>\n",
       "    </tr>\n",
       "    <tr>\n",
       "      <th>4</th>\n",
       "      <td>usd-coin</td>\n",
       "      <td>usdc</td>\n",
       "      <td>USD Coin</td>\n",
       "      <td>NaN</td>\n",
       "      <td>5</td>\n",
       "      <td>57</td>\n",
       "      <td>0.086</td>\n",
       "      <td>-0.00990</td>\n",
       "      <td>-0.01310</td>\n",
       "      <td>-0.60260</td>\n",
       "      <td>0.02873</td>\n",
       "      <td>52574341888</td>\n",
       "      <td>5.255863e+10</td>\n",
       "      <td>5.255862e+10</td>\n",
       "      <td>0</td>\n",
       "      <td>0</td>\n",
       "    </tr>\n",
       "  </tbody>\n",
       "</table>\n",
       "</div>"
      ],
      "text/plain": [
       "            id symbol      name hashing_algo  market_cap  rank  \\\n",
       "0      bitcoin    btc   Bitcoin      SHA-256           1     1   \n",
       "1     ethereum    eth  Ethereum       Ethash           2     2   \n",
       "2       tether   usdt    Tether          NaN           3   146   \n",
       "3  binancecoin    bnb       BNB          NaN           4     4   \n",
       "4     usd-coin   usdc  USD Coin          NaN           5    57   \n",
       "\n",
       "   interest_score  p_change_30d  p_change_60d  p_change_200d  p_change_1y  \\\n",
       "0           0.341       2.51977      -4.58115        5.41309     -7.70834   \n",
       "1           0.701      -6.25679     -19.05058       27.77369     77.18060   \n",
       "2           0.071       0.05774       0.24979       -0.12995      0.07017   \n",
       "3          20.192     -13.25981     -17.85405       34.00305    234.28903   \n",
       "4           0.086      -0.00990      -0.01310       -0.60260      0.02873   \n",
       "\n",
       "   market_cap_usd  total_supply  circulating_supply  twt_followers  \\\n",
       "0    839265356719  2.100000e+07        1.895990e+07        4677076   \n",
       "1    377060274860           NaN        1.196021e+08        2225564   \n",
       "2     78725451792  7.864105e+10        7.864105e+10         207281   \n",
       "3     72869407075  1.681370e+08        1.681370e+08        7674506   \n",
       "4     52574341888  5.255863e+10        5.255862e+10              0   \n",
       "\n",
       "   rdt_followers  \n",
       "0        3911324  \n",
       "1        1230328  \n",
       "2              0  \n",
       "3         801012  \n",
       "4              0  "
      ]
     },
     "execution_count": 7,
     "metadata": {},
     "output_type": "execute_result"
    }
   ],
   "source": [
    "coindf.head()"
   ]
  },
  {
   "cell_type": "code",
   "execution_count": 8,
   "metadata": {},
   "outputs": [
    {
     "data": {
      "text/html": [
       "<div>\n",
       "<style scoped>\n",
       "    .dataframe tbody tr th:only-of-type {\n",
       "        vertical-align: middle;\n",
       "    }\n",
       "\n",
       "    .dataframe tbody tr th {\n",
       "        vertical-align: top;\n",
       "    }\n",
       "\n",
       "    .dataframe thead th {\n",
       "        text-align: right;\n",
       "    }\n",
       "</style>\n",
       "<table border=\"1\" class=\"dataframe\">\n",
       "  <thead>\n",
       "    <tr style=\"text-align: right;\">\n",
       "      <th></th>\n",
       "      <th>id</th>\n",
       "      <th>symbol</th>\n",
       "      <th>name</th>\n",
       "      <th>hashing_algo</th>\n",
       "      <th>market_cap</th>\n",
       "      <th>rank</th>\n",
       "      <th>interest_score</th>\n",
       "      <th>p_change_30d</th>\n",
       "      <th>p_change_60d</th>\n",
       "      <th>p_change_200d</th>\n",
       "      <th>p_change_1y</th>\n",
       "      <th>market_cap_usd</th>\n",
       "      <th>total_supply</th>\n",
       "      <th>circulating_supply</th>\n",
       "      <th>twt_followers</th>\n",
       "      <th>rdt_followers</th>\n",
       "    </tr>\n",
       "  </thead>\n",
       "  <tbody>\n",
       "    <tr>\n",
       "      <th>count</th>\n",
       "      <td>100</td>\n",
       "      <td>100</td>\n",
       "      <td>100</td>\n",
       "      <td>22</td>\n",
       "      <td>100.000000</td>\n",
       "      <td>100.0000</td>\n",
       "      <td>100.000000</td>\n",
       "      <td>100.000000</td>\n",
       "      <td>100.000000</td>\n",
       "      <td>100.000000</td>\n",
       "      <td>100.000000</td>\n",
       "      <td>1.000000e+02</td>\n",
       "      <td>9.200000e+01</td>\n",
       "      <td>1.000000e+02</td>\n",
       "      <td>1.000000e+02</td>\n",
       "      <td>1.000000e+02</td>\n",
       "    </tr>\n",
       "    <tr>\n",
       "      <th>unique</th>\n",
       "      <td>100</td>\n",
       "      <td>100</td>\n",
       "      <td>100</td>\n",
       "      <td>10</td>\n",
       "      <td>NaN</td>\n",
       "      <td>NaN</td>\n",
       "      <td>NaN</td>\n",
       "      <td>NaN</td>\n",
       "      <td>NaN</td>\n",
       "      <td>NaN</td>\n",
       "      <td>NaN</td>\n",
       "      <td>NaN</td>\n",
       "      <td>NaN</td>\n",
       "      <td>NaN</td>\n",
       "      <td>NaN</td>\n",
       "      <td>NaN</td>\n",
       "    </tr>\n",
       "    <tr>\n",
       "      <th>top</th>\n",
       "      <td>eos</td>\n",
       "      <td>etc</td>\n",
       "      <td>TerraUSD</td>\n",
       "      <td>Ethash</td>\n",
       "      <td>NaN</td>\n",
       "      <td>NaN</td>\n",
       "      <td>NaN</td>\n",
       "      <td>NaN</td>\n",
       "      <td>NaN</td>\n",
       "      <td>NaN</td>\n",
       "      <td>NaN</td>\n",
       "      <td>NaN</td>\n",
       "      <td>NaN</td>\n",
       "      <td>NaN</td>\n",
       "      <td>NaN</td>\n",
       "      <td>NaN</td>\n",
       "    </tr>\n",
       "    <tr>\n",
       "      <th>freq</th>\n",
       "      <td>1</td>\n",
       "      <td>1</td>\n",
       "      <td>1</td>\n",
       "      <td>4</td>\n",
       "      <td>NaN</td>\n",
       "      <td>NaN</td>\n",
       "      <td>NaN</td>\n",
       "      <td>NaN</td>\n",
       "      <td>NaN</td>\n",
       "      <td>NaN</td>\n",
       "      <td>NaN</td>\n",
       "      <td>NaN</td>\n",
       "      <td>NaN</td>\n",
       "      <td>NaN</td>\n",
       "      <td>NaN</td>\n",
       "      <td>NaN</td>\n",
       "    </tr>\n",
       "    <tr>\n",
       "      <th>mean</th>\n",
       "      <td>NaN</td>\n",
       "      <td>NaN</td>\n",
       "      <td>NaN</td>\n",
       "      <td>NaN</td>\n",
       "      <td>50.500000</td>\n",
       "      <td>188.0600</td>\n",
       "      <td>0.514800</td>\n",
       "      <td>-13.040953</td>\n",
       "      <td>-4.511066</td>\n",
       "      <td>116.421981</td>\n",
       "      <td>4239.751547</td>\n",
       "      <td>1.956796e+10</td>\n",
       "      <td>2.189023e+13</td>\n",
       "      <td>1.502231e+13</td>\n",
       "      <td>5.758412e+05</td>\n",
       "      <td>1.405319e+05</td>\n",
       "    </tr>\n",
       "    <tr>\n",
       "      <th>std</th>\n",
       "      <td>NaN</td>\n",
       "      <td>NaN</td>\n",
       "      <td>NaN</td>\n",
       "      <td>NaN</td>\n",
       "      <td>29.011492</td>\n",
       "      <td>202.5297</td>\n",
       "      <td>2.103119</td>\n",
       "      <td>17.302718</td>\n",
       "      <td>38.548474</td>\n",
       "      <td>323.846592</td>\n",
       "      <td>40198.546816</td>\n",
       "      <td>9.160613e+10</td>\n",
       "      <td>1.458758e+14</td>\n",
       "      <td>1.077271e+14</td>\n",
       "      <td>1.014435e+06</td>\n",
       "      <td>4.776884e+05</td>\n",
       "    </tr>\n",
       "    <tr>\n",
       "      <th>min</th>\n",
       "      <td>NaN</td>\n",
       "      <td>NaN</td>\n",
       "      <td>NaN</td>\n",
       "      <td>NaN</td>\n",
       "      <td>1.000000</td>\n",
       "      <td>1.0000</td>\n",
       "      <td>0.000000</td>\n",
       "      <td>-44.606480</td>\n",
       "      <td>-52.439970</td>\n",
       "      <td>-68.368270</td>\n",
       "      <td>-79.328380</td>\n",
       "      <td>1.042124e+09</td>\n",
       "      <td>3.988408e+04</td>\n",
       "      <td>0.000000e+00</td>\n",
       "      <td>0.000000e+00</td>\n",
       "      <td>0.000000e+00</td>\n",
       "    </tr>\n",
       "    <tr>\n",
       "      <th>25%</th>\n",
       "      <td>NaN</td>\n",
       "      <td>NaN</td>\n",
       "      <td>NaN</td>\n",
       "      <td>NaN</td>\n",
       "      <td>25.750000</td>\n",
       "      <td>25.7500</td>\n",
       "      <td>0.034250</td>\n",
       "      <td>-26.150750</td>\n",
       "      <td>-21.597980</td>\n",
       "      <td>-23.279637</td>\n",
       "      <td>-9.624280</td>\n",
       "      <td>1.648501e+09</td>\n",
       "      <td>1.846829e+08</td>\n",
       "      <td>7.508447e+07</td>\n",
       "      <td>1.384490e+05</td>\n",
       "      <td>0.000000e+00</td>\n",
       "    </tr>\n",
       "    <tr>\n",
       "      <th>50%</th>\n",
       "      <td>NaN</td>\n",
       "      <td>NaN</td>\n",
       "      <td>NaN</td>\n",
       "      <td>NaN</td>\n",
       "      <td>50.500000</td>\n",
       "      <td>111.0000</td>\n",
       "      <td>0.077500</td>\n",
       "      <td>-13.169895</td>\n",
       "      <td>-10.139725</td>\n",
       "      <td>5.527850</td>\n",
       "      <td>15.646745</td>\n",
       "      <td>2.875623e+09</td>\n",
       "      <td>1.000000e+09</td>\n",
       "      <td>4.399528e+08</td>\n",
       "      <td>2.490155e+05</td>\n",
       "      <td>1.841900e+04</td>\n",
       "    </tr>\n",
       "    <tr>\n",
       "      <th>75%</th>\n",
       "      <td>NaN</td>\n",
       "      <td>NaN</td>\n",
       "      <td>NaN</td>\n",
       "      <td>NaN</td>\n",
       "      <td>75.250000</td>\n",
       "      <td>294.5000</td>\n",
       "      <td>0.273250</td>\n",
       "      <td>-0.449863</td>\n",
       "      <td>-0.009848</td>\n",
       "      <td>90.380273</td>\n",
       "      <td>189.239702</td>\n",
       "      <td>6.499715e+09</td>\n",
       "      <td>1.000000e+10</td>\n",
       "      <td>6.680323e+09</td>\n",
       "      <td>5.855278e+05</td>\n",
       "      <td>6.564250e+04</td>\n",
       "    </tr>\n",
       "    <tr>\n",
       "      <th>max</th>\n",
       "      <td>NaN</td>\n",
       "      <td>NaN</td>\n",
       "      <td>NaN</td>\n",
       "      <td>NaN</td>\n",
       "      <td>100.000000</td>\n",
       "      <td>1043.0000</td>\n",
       "      <td>20.192000</td>\n",
       "      <td>58.212970</td>\n",
       "      <td>284.550520</td>\n",
       "      <td>2372.098940</td>\n",
       "      <td>402171.275860</td>\n",
       "      <td>8.392654e+11</td>\n",
       "      <td>1.000000e+15</td>\n",
       "      <td>9.324975e+14</td>\n",
       "      <td>7.674506e+06</td>\n",
       "      <td>3.911324e+06</td>\n",
       "    </tr>\n",
       "  </tbody>\n",
       "</table>\n",
       "</div>"
      ],
      "text/plain": [
       "         id symbol      name hashing_algo  market_cap       rank  \\\n",
       "count   100    100       100           22  100.000000   100.0000   \n",
       "unique  100    100       100           10         NaN        NaN   \n",
       "top     eos    etc  TerraUSD       Ethash         NaN        NaN   \n",
       "freq      1      1         1            4         NaN        NaN   \n",
       "mean    NaN    NaN       NaN          NaN   50.500000   188.0600   \n",
       "std     NaN    NaN       NaN          NaN   29.011492   202.5297   \n",
       "min     NaN    NaN       NaN          NaN    1.000000     1.0000   \n",
       "25%     NaN    NaN       NaN          NaN   25.750000    25.7500   \n",
       "50%     NaN    NaN       NaN          NaN   50.500000   111.0000   \n",
       "75%     NaN    NaN       NaN          NaN   75.250000   294.5000   \n",
       "max     NaN    NaN       NaN          NaN  100.000000  1043.0000   \n",
       "\n",
       "        interest_score  p_change_30d  p_change_60d  p_change_200d  \\\n",
       "count       100.000000    100.000000    100.000000     100.000000   \n",
       "unique             NaN           NaN           NaN            NaN   \n",
       "top                NaN           NaN           NaN            NaN   \n",
       "freq               NaN           NaN           NaN            NaN   \n",
       "mean          0.514800    -13.040953     -4.511066     116.421981   \n",
       "std           2.103119     17.302718     38.548474     323.846592   \n",
       "min           0.000000    -44.606480    -52.439970     -68.368270   \n",
       "25%           0.034250    -26.150750    -21.597980     -23.279637   \n",
       "50%           0.077500    -13.169895    -10.139725       5.527850   \n",
       "75%           0.273250     -0.449863     -0.009848      90.380273   \n",
       "max          20.192000     58.212970    284.550520    2372.098940   \n",
       "\n",
       "          p_change_1y  market_cap_usd  total_supply  circulating_supply  \\\n",
       "count      100.000000    1.000000e+02  9.200000e+01        1.000000e+02   \n",
       "unique            NaN             NaN           NaN                 NaN   \n",
       "top               NaN             NaN           NaN                 NaN   \n",
       "freq              NaN             NaN           NaN                 NaN   \n",
       "mean      4239.751547    1.956796e+10  2.189023e+13        1.502231e+13   \n",
       "std      40198.546816    9.160613e+10  1.458758e+14        1.077271e+14   \n",
       "min        -79.328380    1.042124e+09  3.988408e+04        0.000000e+00   \n",
       "25%         -9.624280    1.648501e+09  1.846829e+08        7.508447e+07   \n",
       "50%         15.646745    2.875623e+09  1.000000e+09        4.399528e+08   \n",
       "75%        189.239702    6.499715e+09  1.000000e+10        6.680323e+09   \n",
       "max     402171.275860    8.392654e+11  1.000000e+15        9.324975e+14   \n",
       "\n",
       "        twt_followers  rdt_followers  \n",
       "count    1.000000e+02   1.000000e+02  \n",
       "unique            NaN            NaN  \n",
       "top               NaN            NaN  \n",
       "freq              NaN            NaN  \n",
       "mean     5.758412e+05   1.405319e+05  \n",
       "std      1.014435e+06   4.776884e+05  \n",
       "min      0.000000e+00   0.000000e+00  \n",
       "25%      1.384490e+05   0.000000e+00  \n",
       "50%      2.490155e+05   1.841900e+04  \n",
       "75%      5.855278e+05   6.564250e+04  \n",
       "max      7.674506e+06   3.911324e+06  "
      ]
     },
     "execution_count": 8,
     "metadata": {},
     "output_type": "execute_result"
    }
   ],
   "source": [
    "coindf.describe(include='all')"
   ]
  },
  {
   "cell_type": "markdown",
   "metadata": {},
   "source": [
    "#### Data Pre-Processing"
   ]
  },
  {
   "cell_type": "code",
   "execution_count": 9,
   "metadata": {},
   "outputs": [],
   "source": [
    "coindf['total_followers'] = (coindf['twt_followers'] + coindf['rdt_followers'])"
   ]
  },
  {
   "cell_type": "code",
   "execution_count": 10,
   "metadata": {},
   "outputs": [],
   "source": [
    "coindf = coindf.dropna(subset=['market_cap', 'rank', 'interest_score', 'p_change_30d', \n",
    "                                'p_change_60d', 'p_change_200d', 'p_change_1y', 'market_cap_usd', \n",
    "                                'total_supply', 'circulating_supply', 'twt_followers', 'rdt_followers'])"
   ]
  },
  {
   "cell_type": "code",
   "execution_count": 11,
   "metadata": {},
   "outputs": [],
   "source": [
    "coindf = coindf[coindf['total_followers'] > 0]\n",
    "coindf = coindf[coindf['p_change_60d'] != 0]\n",
    "coindf = coindf[coindf['p_change_200d'] != 0]\n",
    "coindf = coindf[coindf['p_change_1y'] != 0]"
   ]
  },
  {
   "cell_type": "code",
   "execution_count": 12,
   "metadata": {},
   "outputs": [
    {
     "data": {
      "text/html": [
       "<div>\n",
       "<style scoped>\n",
       "    .dataframe tbody tr th:only-of-type {\n",
       "        vertical-align: middle;\n",
       "    }\n",
       "\n",
       "    .dataframe tbody tr th {\n",
       "        vertical-align: top;\n",
       "    }\n",
       "\n",
       "    .dataframe thead th {\n",
       "        text-align: right;\n",
       "    }\n",
       "</style>\n",
       "<table border=\"1\" class=\"dataframe\">\n",
       "  <thead>\n",
       "    <tr style=\"text-align: right;\">\n",
       "      <th></th>\n",
       "      <th>id</th>\n",
       "      <th>symbol</th>\n",
       "      <th>name</th>\n",
       "      <th>hashing_algo</th>\n",
       "      <th>market_cap</th>\n",
       "      <th>rank</th>\n",
       "      <th>interest_score</th>\n",
       "      <th>p_change_30d</th>\n",
       "      <th>p_change_60d</th>\n",
       "      <th>p_change_200d</th>\n",
       "      <th>p_change_1y</th>\n",
       "      <th>market_cap_usd</th>\n",
       "      <th>total_supply</th>\n",
       "      <th>circulating_supply</th>\n",
       "      <th>twt_followers</th>\n",
       "      <th>rdt_followers</th>\n",
       "      <th>total_followers</th>\n",
       "    </tr>\n",
       "  </thead>\n",
       "  <tbody>\n",
       "    <tr>\n",
       "      <th>count</th>\n",
       "      <td>79</td>\n",
       "      <td>79</td>\n",
       "      <td>79</td>\n",
       "      <td>16</td>\n",
       "      <td>79.000000</td>\n",
       "      <td>79.000000</td>\n",
       "      <td>79.000000</td>\n",
       "      <td>79.000000</td>\n",
       "      <td>79.000000</td>\n",
       "      <td>79.000000</td>\n",
       "      <td>79.000000</td>\n",
       "      <td>7.900000e+01</td>\n",
       "      <td>7.900000e+01</td>\n",
       "      <td>7.900000e+01</td>\n",
       "      <td>7.900000e+01</td>\n",
       "      <td>7.900000e+01</td>\n",
       "      <td>7.900000e+01</td>\n",
       "    </tr>\n",
       "    <tr>\n",
       "      <th>unique</th>\n",
       "      <td>79</td>\n",
       "      <td>79</td>\n",
       "      <td>79</td>\n",
       "      <td>9</td>\n",
       "      <td>NaN</td>\n",
       "      <td>NaN</td>\n",
       "      <td>NaN</td>\n",
       "      <td>NaN</td>\n",
       "      <td>NaN</td>\n",
       "      <td>NaN</td>\n",
       "      <td>NaN</td>\n",
       "      <td>NaN</td>\n",
       "      <td>NaN</td>\n",
       "      <td>NaN</td>\n",
       "      <td>NaN</td>\n",
       "      <td>NaN</td>\n",
       "      <td>NaN</td>\n",
       "    </tr>\n",
       "    <tr>\n",
       "      <th>top</th>\n",
       "      <td>compound-usd-coin</td>\n",
       "      <td>ftm</td>\n",
       "      <td>THORChain</td>\n",
       "      <td>Ethash</td>\n",
       "      <td>NaN</td>\n",
       "      <td>NaN</td>\n",
       "      <td>NaN</td>\n",
       "      <td>NaN</td>\n",
       "      <td>NaN</td>\n",
       "      <td>NaN</td>\n",
       "      <td>NaN</td>\n",
       "      <td>NaN</td>\n",
       "      <td>NaN</td>\n",
       "      <td>NaN</td>\n",
       "      <td>NaN</td>\n",
       "      <td>NaN</td>\n",
       "      <td>NaN</td>\n",
       "    </tr>\n",
       "    <tr>\n",
       "      <th>freq</th>\n",
       "      <td>1</td>\n",
       "      <td>1</td>\n",
       "      <td>1</td>\n",
       "      <td>3</td>\n",
       "      <td>NaN</td>\n",
       "      <td>NaN</td>\n",
       "      <td>NaN</td>\n",
       "      <td>NaN</td>\n",
       "      <td>NaN</td>\n",
       "      <td>NaN</td>\n",
       "      <td>NaN</td>\n",
       "      <td>NaN</td>\n",
       "      <td>NaN</td>\n",
       "      <td>NaN</td>\n",
       "      <td>NaN</td>\n",
       "      <td>NaN</td>\n",
       "      <td>NaN</td>\n",
       "    </tr>\n",
       "    <tr>\n",
       "      <th>mean</th>\n",
       "      <td>NaN</td>\n",
       "      <td>NaN</td>\n",
       "      <td>NaN</td>\n",
       "      <td>NaN</td>\n",
       "      <td>50.949367</td>\n",
       "      <td>174.974684</td>\n",
       "      <td>0.585165</td>\n",
       "      <td>-13.497305</td>\n",
       "      <td>-8.799631</td>\n",
       "      <td>131.375532</td>\n",
       "      <td>5361.498838</td>\n",
       "      <td>1.829451e+10</td>\n",
       "      <td>1.269399e+13</td>\n",
       "      <td>6.968981e+12</td>\n",
       "      <td>6.031296e+05</td>\n",
       "      <td>1.265138e+05</td>\n",
       "      <td>7.296433e+05</td>\n",
       "    </tr>\n",
       "    <tr>\n",
       "      <th>std</th>\n",
       "      <td>NaN</td>\n",
       "      <td>NaN</td>\n",
       "      <td>NaN</td>\n",
       "      <td>NaN</td>\n",
       "      <td>29.781641</td>\n",
       "      <td>183.085238</td>\n",
       "      <td>2.344517</td>\n",
       "      <td>16.753993</td>\n",
       "      <td>22.774358</td>\n",
       "      <td>352.833292</td>\n",
       "      <td>45220.678011</td>\n",
       "      <td>9.452675e+10</td>\n",
       "      <td>1.125048e+14</td>\n",
       "      <td>6.178191e+13</td>\n",
       "      <td>1.065807e+06</td>\n",
       "      <td>4.606241e+05</td>\n",
       "      <td>1.389878e+06</td>\n",
       "    </tr>\n",
       "    <tr>\n",
       "      <th>min</th>\n",
       "      <td>NaN</td>\n",
       "      <td>NaN</td>\n",
       "      <td>NaN</td>\n",
       "      <td>NaN</td>\n",
       "      <td>1.000000</td>\n",
       "      <td>1.000000</td>\n",
       "      <td>0.000000</td>\n",
       "      <td>-44.606480</td>\n",
       "      <td>-52.439970</td>\n",
       "      <td>-68.368270</td>\n",
       "      <td>-79.328380</td>\n",
       "      <td>1.042124e+09</td>\n",
       "      <td>3.988408e+04</td>\n",
       "      <td>0.000000e+00</td>\n",
       "      <td>0.000000e+00</td>\n",
       "      <td>0.000000e+00</td>\n",
       "      <td>2.560200e+04</td>\n",
       "    </tr>\n",
       "    <tr>\n",
       "      <th>25%</th>\n",
       "      <td>NaN</td>\n",
       "      <td>NaN</td>\n",
       "      <td>NaN</td>\n",
       "      <td>NaN</td>\n",
       "      <td>25.500000</td>\n",
       "      <td>26.500000</td>\n",
       "      <td>0.037000</td>\n",
       "      <td>-26.909280</td>\n",
       "      <td>-22.562920</td>\n",
       "      <td>-22.156420</td>\n",
       "      <td>-15.895980</td>\n",
       "      <td>1.570714e+09</td>\n",
       "      <td>2.004491e+08</td>\n",
       "      <td>8.821483e+07</td>\n",
       "      <td>1.644310e+05</td>\n",
       "      <td>0.000000e+00</td>\n",
       "      <td>2.020735e+05</td>\n",
       "    </tr>\n",
       "    <tr>\n",
       "      <th>50%</th>\n",
       "      <td>NaN</td>\n",
       "      <td>NaN</td>\n",
       "      <td>NaN</td>\n",
       "      <td>NaN</td>\n",
       "      <td>50.000000</td>\n",
       "      <td>110.000000</td>\n",
       "      <td>0.079000</td>\n",
       "      <td>-12.802350</td>\n",
       "      <td>-12.167120</td>\n",
       "      <td>10.365750</td>\n",
       "      <td>28.180400</td>\n",
       "      <td>2.959570e+09</td>\n",
       "      <td>1.000000e+09</td>\n",
       "      <td>4.670095e+08</td>\n",
       "      <td>2.549920e+05</td>\n",
       "      <td>2.239600e+04</td>\n",
       "      <td>3.182220e+05</td>\n",
       "    </tr>\n",
       "    <tr>\n",
       "      <th>75%</th>\n",
       "      <td>NaN</td>\n",
       "      <td>NaN</td>\n",
       "      <td>NaN</td>\n",
       "      <td>NaN</td>\n",
       "      <td>77.500000</td>\n",
       "      <td>279.000000</td>\n",
       "      <td>0.307000</td>\n",
       "      <td>-0.295965</td>\n",
       "      <td>-0.203560</td>\n",
       "      <td>97.998180</td>\n",
       "      <td>256.992965</td>\n",
       "      <td>6.522391e+09</td>\n",
       "      <td>1.000000e+10</td>\n",
       "      <td>6.744512e+09</td>\n",
       "      <td>6.051195e+05</td>\n",
       "      <td>7.046900e+04</td>\n",
       "      <td>7.349725e+05</td>\n",
       "    </tr>\n",
       "    <tr>\n",
       "      <th>max</th>\n",
       "      <td>NaN</td>\n",
       "      <td>NaN</td>\n",
       "      <td>NaN</td>\n",
       "      <td>NaN</td>\n",
       "      <td>100.000000</td>\n",
       "      <td>804.000000</td>\n",
       "      <td>20.192000</td>\n",
       "      <td>51.708220</td>\n",
       "      <td>73.854900</td>\n",
       "      <td>2372.098940</td>\n",
       "      <td>402171.275860</td>\n",
       "      <td>8.392654e+11</td>\n",
       "      <td>1.000000e+15</td>\n",
       "      <td>5.491473e+14</td>\n",
       "      <td>7.674506e+06</td>\n",
       "      <td>3.911324e+06</td>\n",
       "      <td>8.588400e+06</td>\n",
       "    </tr>\n",
       "  </tbody>\n",
       "</table>\n",
       "</div>"
      ],
      "text/plain": [
       "                       id symbol       name hashing_algo  market_cap  \\\n",
       "count                  79     79         79           16   79.000000   \n",
       "unique                 79     79         79            9         NaN   \n",
       "top     compound-usd-coin    ftm  THORChain       Ethash         NaN   \n",
       "freq                    1      1          1            3         NaN   \n",
       "mean                  NaN    NaN        NaN          NaN   50.949367   \n",
       "std                   NaN    NaN        NaN          NaN   29.781641   \n",
       "min                   NaN    NaN        NaN          NaN    1.000000   \n",
       "25%                   NaN    NaN        NaN          NaN   25.500000   \n",
       "50%                   NaN    NaN        NaN          NaN   50.000000   \n",
       "75%                   NaN    NaN        NaN          NaN   77.500000   \n",
       "max                   NaN    NaN        NaN          NaN  100.000000   \n",
       "\n",
       "              rank  interest_score  p_change_30d  p_change_60d  p_change_200d  \\\n",
       "count    79.000000       79.000000     79.000000     79.000000      79.000000   \n",
       "unique         NaN             NaN           NaN           NaN            NaN   \n",
       "top            NaN             NaN           NaN           NaN            NaN   \n",
       "freq           NaN             NaN           NaN           NaN            NaN   \n",
       "mean    174.974684        0.585165    -13.497305     -8.799631     131.375532   \n",
       "std     183.085238        2.344517     16.753993     22.774358     352.833292   \n",
       "min       1.000000        0.000000    -44.606480    -52.439970     -68.368270   \n",
       "25%      26.500000        0.037000    -26.909280    -22.562920     -22.156420   \n",
       "50%     110.000000        0.079000    -12.802350    -12.167120      10.365750   \n",
       "75%     279.000000        0.307000     -0.295965     -0.203560      97.998180   \n",
       "max     804.000000       20.192000     51.708220     73.854900    2372.098940   \n",
       "\n",
       "          p_change_1y  market_cap_usd  total_supply  circulating_supply  \\\n",
       "count       79.000000    7.900000e+01  7.900000e+01        7.900000e+01   \n",
       "unique            NaN             NaN           NaN                 NaN   \n",
       "top               NaN             NaN           NaN                 NaN   \n",
       "freq              NaN             NaN           NaN                 NaN   \n",
       "mean      5361.498838    1.829451e+10  1.269399e+13        6.968981e+12   \n",
       "std      45220.678011    9.452675e+10  1.125048e+14        6.178191e+13   \n",
       "min        -79.328380    1.042124e+09  3.988408e+04        0.000000e+00   \n",
       "25%        -15.895980    1.570714e+09  2.004491e+08        8.821483e+07   \n",
       "50%         28.180400    2.959570e+09  1.000000e+09        4.670095e+08   \n",
       "75%        256.992965    6.522391e+09  1.000000e+10        6.744512e+09   \n",
       "max     402171.275860    8.392654e+11  1.000000e+15        5.491473e+14   \n",
       "\n",
       "        twt_followers  rdt_followers  total_followers  \n",
       "count    7.900000e+01   7.900000e+01     7.900000e+01  \n",
       "unique            NaN            NaN              NaN  \n",
       "top               NaN            NaN              NaN  \n",
       "freq              NaN            NaN              NaN  \n",
       "mean     6.031296e+05   1.265138e+05     7.296433e+05  \n",
       "std      1.065807e+06   4.606241e+05     1.389878e+06  \n",
       "min      0.000000e+00   0.000000e+00     2.560200e+04  \n",
       "25%      1.644310e+05   0.000000e+00     2.020735e+05  \n",
       "50%      2.549920e+05   2.239600e+04     3.182220e+05  \n",
       "75%      6.051195e+05   7.046900e+04     7.349725e+05  \n",
       "max      7.674506e+06   3.911324e+06     8.588400e+06  "
      ]
     },
     "execution_count": 12,
     "metadata": {},
     "output_type": "execute_result"
    }
   ],
   "source": [
    "coindf.describe(include='all')"
   ]
  },
  {
   "cell_type": "markdown",
   "metadata": {},
   "source": [
    "### Data Inspection"
   ]
  },
  {
   "cell_type": "code",
   "execution_count": 13,
   "metadata": {},
   "outputs": [
    {
     "data": {
      "application/vnd.plotly.v1+json": {
       "config": {
        "plotlyServerURL": "https://plot.ly"
       },
       "data": [
        {
         "alignmentgroup": "True",
         "customdata": [
          [
           "Bitcoin"
          ],
          [
           "Tether"
          ],
          [
           "BNB"
          ],
          [
           "XRP"
          ],
          [
           "Cardano"
          ],
          [
           "Solana"
          ],
          [
           "Avalanche"
          ],
          [
           "Terra"
          ],
          [
           "Polkadot"
          ],
          [
           "Binance USD"
          ],
          [
           "Shiba Inu"
          ],
          [
           "Polygon"
          ],
          [
           "Crypto.com Coin"
          ],
          [
           "TerraUSD"
          ],
          [
           "Dai"
          ],
          [
           "Litecoin"
          ],
          [
           "Chainlink"
          ],
          [
           "Near"
          ],
          [
           "TRON"
          ],
          [
           "Algorand"
          ],
          [
           "FTX Token"
          ],
          [
           "Bitcoin Cash"
          ],
          [
           "Lido Staked Ether"
          ],
          [
           "Stellar"
          ],
          [
           "LEO Token"
          ],
          [
           "Fantom"
          ],
          [
           "Uniswap"
          ],
          [
           "Decentraland"
          ],
          [
           "Hedera"
          ],
          [
           "The Sandbox"
          ],
          [
           "Axie Infinity"
          ],
          [
           "Ethereum Classic"
          ],
          [
           "Elrond"
          ],
          [
           "VeChain"
          ],
          [
           "Theta Network"
          ],
          [
           "ECOMI"
          ],
          [
           "Filecoin"
          ],
          [
           "cETH"
          ],
          [
           "The Graph"
          ],
          [
           "cDAI"
          ],
          [
           "Helium"
          ],
          [
           "Frax"
          ],
          [
           "cUSDC"
          ],
          [
           "Gala"
          ],
          [
           "IOTA"
          ],
          [
           "Flow"
          ],
          [
           "Aave"
          ],
          [
           "Harmony"
          ],
          [
           "BitTorrent [OLD]"
          ],
          [
           "Maker"
          ],
          [
           "Theta Fuel"
          ],
          [
           "Enjin Coin"
          ],
          [
           "Quant"
          ],
          [
           "Arweave"
          ],
          [
           "Huobi BTC"
          ],
          [
           "NEO"
          ],
          [
           "Frax Share"
          ],
          [
           "Stacks"
          ],
          [
           "KuCoin Token"
          ],
          [
           "Kusama"
          ],
          [
           "Huobi Token"
          ],
          [
           "Zcash"
          ],
          [
           "Amp"
          ],
          [
           "TrueUSD"
          ],
          [
           "Celsius Network"
          ],
          [
           "Kadena"
          ],
          [
           "THORChain"
          ],
          [
           "Basic Attention Token"
          ],
          [
           "Celo"
          ],
          [
           "Curve DAO Token"
          ],
          [
           "Loopring"
          ],
          [
           "NEXO"
          ],
          [
           "Chiliz"
          ],
          [
           "Dash"
          ],
          [
           "Oasis Network"
          ],
          [
           "Secret"
          ],
          [
           "Synthetix Network Token"
          ],
          [
           "Waves"
          ],
          [
           "NEM"
          ]
         ],
         "hovertemplate": "market_cap=%{x}<br>name=%{customdata[0]}<extra></extra>",
         "legendgroup": "",
         "marker": {
          "color": "#636efa"
         },
         "name": "",
         "notched": false,
         "offsetgroup": "",
         "orientation": "h",
         "showlegend": false,
         "type": "box",
         "x": [
          1,
          3,
          4,
          6,
          7,
          8,
          9,
          10,
          11,
          13,
          14,
          15,
          16,
          17,
          19,
          20,
          22,
          23,
          24,
          25,
          26,
          27,
          28,
          30,
          31,
          32,
          33,
          34,
          35,
          36,
          37,
          39,
          40,
          41,
          42,
          43,
          44,
          48,
          49,
          50,
          52,
          54,
          55,
          56,
          57,
          59,
          60,
          61,
          63,
          65,
          66,
          67,
          69,
          70,
          72,
          73,
          74,
          75,
          77,
          78,
          79,
          80,
          81,
          82,
          83,
          85,
          86,
          89,
          90,
          91,
          92,
          93,
          94,
          95,
          96,
          97,
          98,
          99,
          100
         ],
         "x0": " ",
         "xaxis": "x",
         "y0": " ",
         "yaxis": "y"
        }
       ],
       "layout": {
        "boxmode": "group",
        "legend": {
         "tracegroupgap": 0
        },
        "margin": {
         "t": 60
        },
        "template": {
         "data": {
          "bar": [
           {
            "error_x": {
             "color": "#2a3f5f"
            },
            "error_y": {
             "color": "#2a3f5f"
            },
            "marker": {
             "line": {
              "color": "#E5ECF6",
              "width": 0.5
             },
             "pattern": {
              "fillmode": "overlay",
              "size": 10,
              "solidity": 0.2
             }
            },
            "type": "bar"
           }
          ],
          "barpolar": [
           {
            "marker": {
             "line": {
              "color": "#E5ECF6",
              "width": 0.5
             },
             "pattern": {
              "fillmode": "overlay",
              "size": 10,
              "solidity": 0.2
             }
            },
            "type": "barpolar"
           }
          ],
          "carpet": [
           {
            "aaxis": {
             "endlinecolor": "#2a3f5f",
             "gridcolor": "white",
             "linecolor": "white",
             "minorgridcolor": "white",
             "startlinecolor": "#2a3f5f"
            },
            "baxis": {
             "endlinecolor": "#2a3f5f",
             "gridcolor": "white",
             "linecolor": "white",
             "minorgridcolor": "white",
             "startlinecolor": "#2a3f5f"
            },
            "type": "carpet"
           }
          ],
          "choropleth": [
           {
            "colorbar": {
             "outlinewidth": 0,
             "ticks": ""
            },
            "type": "choropleth"
           }
          ],
          "contour": [
           {
            "colorbar": {
             "outlinewidth": 0,
             "ticks": ""
            },
            "colorscale": [
             [
              0,
              "#0d0887"
             ],
             [
              0.1111111111111111,
              "#46039f"
             ],
             [
              0.2222222222222222,
              "#7201a8"
             ],
             [
              0.3333333333333333,
              "#9c179e"
             ],
             [
              0.4444444444444444,
              "#bd3786"
             ],
             [
              0.5555555555555556,
              "#d8576b"
             ],
             [
              0.6666666666666666,
              "#ed7953"
             ],
             [
              0.7777777777777778,
              "#fb9f3a"
             ],
             [
              0.8888888888888888,
              "#fdca26"
             ],
             [
              1,
              "#f0f921"
             ]
            ],
            "type": "contour"
           }
          ],
          "contourcarpet": [
           {
            "colorbar": {
             "outlinewidth": 0,
             "ticks": ""
            },
            "type": "contourcarpet"
           }
          ],
          "heatmap": [
           {
            "colorbar": {
             "outlinewidth": 0,
             "ticks": ""
            },
            "colorscale": [
             [
              0,
              "#0d0887"
             ],
             [
              0.1111111111111111,
              "#46039f"
             ],
             [
              0.2222222222222222,
              "#7201a8"
             ],
             [
              0.3333333333333333,
              "#9c179e"
             ],
             [
              0.4444444444444444,
              "#bd3786"
             ],
             [
              0.5555555555555556,
              "#d8576b"
             ],
             [
              0.6666666666666666,
              "#ed7953"
             ],
             [
              0.7777777777777778,
              "#fb9f3a"
             ],
             [
              0.8888888888888888,
              "#fdca26"
             ],
             [
              1,
              "#f0f921"
             ]
            ],
            "type": "heatmap"
           }
          ],
          "heatmapgl": [
           {
            "colorbar": {
             "outlinewidth": 0,
             "ticks": ""
            },
            "colorscale": [
             [
              0,
              "#0d0887"
             ],
             [
              0.1111111111111111,
              "#46039f"
             ],
             [
              0.2222222222222222,
              "#7201a8"
             ],
             [
              0.3333333333333333,
              "#9c179e"
             ],
             [
              0.4444444444444444,
              "#bd3786"
             ],
             [
              0.5555555555555556,
              "#d8576b"
             ],
             [
              0.6666666666666666,
              "#ed7953"
             ],
             [
              0.7777777777777778,
              "#fb9f3a"
             ],
             [
              0.8888888888888888,
              "#fdca26"
             ],
             [
              1,
              "#f0f921"
             ]
            ],
            "type": "heatmapgl"
           }
          ],
          "histogram": [
           {
            "marker": {
             "pattern": {
              "fillmode": "overlay",
              "size": 10,
              "solidity": 0.2
             }
            },
            "type": "histogram"
           }
          ],
          "histogram2d": [
           {
            "colorbar": {
             "outlinewidth": 0,
             "ticks": ""
            },
            "colorscale": [
             [
              0,
              "#0d0887"
             ],
             [
              0.1111111111111111,
              "#46039f"
             ],
             [
              0.2222222222222222,
              "#7201a8"
             ],
             [
              0.3333333333333333,
              "#9c179e"
             ],
             [
              0.4444444444444444,
              "#bd3786"
             ],
             [
              0.5555555555555556,
              "#d8576b"
             ],
             [
              0.6666666666666666,
              "#ed7953"
             ],
             [
              0.7777777777777778,
              "#fb9f3a"
             ],
             [
              0.8888888888888888,
              "#fdca26"
             ],
             [
              1,
              "#f0f921"
             ]
            ],
            "type": "histogram2d"
           }
          ],
          "histogram2dcontour": [
           {
            "colorbar": {
             "outlinewidth": 0,
             "ticks": ""
            },
            "colorscale": [
             [
              0,
              "#0d0887"
             ],
             [
              0.1111111111111111,
              "#46039f"
             ],
             [
              0.2222222222222222,
              "#7201a8"
             ],
             [
              0.3333333333333333,
              "#9c179e"
             ],
             [
              0.4444444444444444,
              "#bd3786"
             ],
             [
              0.5555555555555556,
              "#d8576b"
             ],
             [
              0.6666666666666666,
              "#ed7953"
             ],
             [
              0.7777777777777778,
              "#fb9f3a"
             ],
             [
              0.8888888888888888,
              "#fdca26"
             ],
             [
              1,
              "#f0f921"
             ]
            ],
            "type": "histogram2dcontour"
           }
          ],
          "mesh3d": [
           {
            "colorbar": {
             "outlinewidth": 0,
             "ticks": ""
            },
            "type": "mesh3d"
           }
          ],
          "parcoords": [
           {
            "line": {
             "colorbar": {
              "outlinewidth": 0,
              "ticks": ""
             }
            },
            "type": "parcoords"
           }
          ],
          "pie": [
           {
            "automargin": true,
            "type": "pie"
           }
          ],
          "scatter": [
           {
            "marker": {
             "colorbar": {
              "outlinewidth": 0,
              "ticks": ""
             }
            },
            "type": "scatter"
           }
          ],
          "scatter3d": [
           {
            "line": {
             "colorbar": {
              "outlinewidth": 0,
              "ticks": ""
             }
            },
            "marker": {
             "colorbar": {
              "outlinewidth": 0,
              "ticks": ""
             }
            },
            "type": "scatter3d"
           }
          ],
          "scattercarpet": [
           {
            "marker": {
             "colorbar": {
              "outlinewidth": 0,
              "ticks": ""
             }
            },
            "type": "scattercarpet"
           }
          ],
          "scattergeo": [
           {
            "marker": {
             "colorbar": {
              "outlinewidth": 0,
              "ticks": ""
             }
            },
            "type": "scattergeo"
           }
          ],
          "scattergl": [
           {
            "marker": {
             "colorbar": {
              "outlinewidth": 0,
              "ticks": ""
             }
            },
            "type": "scattergl"
           }
          ],
          "scattermapbox": [
           {
            "marker": {
             "colorbar": {
              "outlinewidth": 0,
              "ticks": ""
             }
            },
            "type": "scattermapbox"
           }
          ],
          "scatterpolar": [
           {
            "marker": {
             "colorbar": {
              "outlinewidth": 0,
              "ticks": ""
             }
            },
            "type": "scatterpolar"
           }
          ],
          "scatterpolargl": [
           {
            "marker": {
             "colorbar": {
              "outlinewidth": 0,
              "ticks": ""
             }
            },
            "type": "scatterpolargl"
           }
          ],
          "scatterternary": [
           {
            "marker": {
             "colorbar": {
              "outlinewidth": 0,
              "ticks": ""
             }
            },
            "type": "scatterternary"
           }
          ],
          "surface": [
           {
            "colorbar": {
             "outlinewidth": 0,
             "ticks": ""
            },
            "colorscale": [
             [
              0,
              "#0d0887"
             ],
             [
              0.1111111111111111,
              "#46039f"
             ],
             [
              0.2222222222222222,
              "#7201a8"
             ],
             [
              0.3333333333333333,
              "#9c179e"
             ],
             [
              0.4444444444444444,
              "#bd3786"
             ],
             [
              0.5555555555555556,
              "#d8576b"
             ],
             [
              0.6666666666666666,
              "#ed7953"
             ],
             [
              0.7777777777777778,
              "#fb9f3a"
             ],
             [
              0.8888888888888888,
              "#fdca26"
             ],
             [
              1,
              "#f0f921"
             ]
            ],
            "type": "surface"
           }
          ],
          "table": [
           {
            "cells": {
             "fill": {
              "color": "#EBF0F8"
             },
             "line": {
              "color": "white"
             }
            },
            "header": {
             "fill": {
              "color": "#C8D4E3"
             },
             "line": {
              "color": "white"
             }
            },
            "type": "table"
           }
          ]
         },
         "layout": {
          "annotationdefaults": {
           "arrowcolor": "#2a3f5f",
           "arrowhead": 0,
           "arrowwidth": 1
          },
          "autotypenumbers": "strict",
          "coloraxis": {
           "colorbar": {
            "outlinewidth": 0,
            "ticks": ""
           }
          },
          "colorscale": {
           "diverging": [
            [
             0,
             "#8e0152"
            ],
            [
             0.1,
             "#c51b7d"
            ],
            [
             0.2,
             "#de77ae"
            ],
            [
             0.3,
             "#f1b6da"
            ],
            [
             0.4,
             "#fde0ef"
            ],
            [
             0.5,
             "#f7f7f7"
            ],
            [
             0.6,
             "#e6f5d0"
            ],
            [
             0.7,
             "#b8e186"
            ],
            [
             0.8,
             "#7fbc41"
            ],
            [
             0.9,
             "#4d9221"
            ],
            [
             1,
             "#276419"
            ]
           ],
           "sequential": [
            [
             0,
             "#0d0887"
            ],
            [
             0.1111111111111111,
             "#46039f"
            ],
            [
             0.2222222222222222,
             "#7201a8"
            ],
            [
             0.3333333333333333,
             "#9c179e"
            ],
            [
             0.4444444444444444,
             "#bd3786"
            ],
            [
             0.5555555555555556,
             "#d8576b"
            ],
            [
             0.6666666666666666,
             "#ed7953"
            ],
            [
             0.7777777777777778,
             "#fb9f3a"
            ],
            [
             0.8888888888888888,
             "#fdca26"
            ],
            [
             1,
             "#f0f921"
            ]
           ],
           "sequentialminus": [
            [
             0,
             "#0d0887"
            ],
            [
             0.1111111111111111,
             "#46039f"
            ],
            [
             0.2222222222222222,
             "#7201a8"
            ],
            [
             0.3333333333333333,
             "#9c179e"
            ],
            [
             0.4444444444444444,
             "#bd3786"
            ],
            [
             0.5555555555555556,
             "#d8576b"
            ],
            [
             0.6666666666666666,
             "#ed7953"
            ],
            [
             0.7777777777777778,
             "#fb9f3a"
            ],
            [
             0.8888888888888888,
             "#fdca26"
            ],
            [
             1,
             "#f0f921"
            ]
           ]
          },
          "colorway": [
           "#636efa",
           "#EF553B",
           "#00cc96",
           "#ab63fa",
           "#FFA15A",
           "#19d3f3",
           "#FF6692",
           "#B6E880",
           "#FF97FF",
           "#FECB52"
          ],
          "font": {
           "color": "#2a3f5f"
          },
          "geo": {
           "bgcolor": "white",
           "lakecolor": "white",
           "landcolor": "#E5ECF6",
           "showlakes": true,
           "showland": true,
           "subunitcolor": "white"
          },
          "hoverlabel": {
           "align": "left"
          },
          "hovermode": "closest",
          "mapbox": {
           "style": "light"
          },
          "paper_bgcolor": "white",
          "plot_bgcolor": "#E5ECF6",
          "polar": {
           "angularaxis": {
            "gridcolor": "white",
            "linecolor": "white",
            "ticks": ""
           },
           "bgcolor": "#E5ECF6",
           "radialaxis": {
            "gridcolor": "white",
            "linecolor": "white",
            "ticks": ""
           }
          },
          "scene": {
           "xaxis": {
            "backgroundcolor": "#E5ECF6",
            "gridcolor": "white",
            "gridwidth": 2,
            "linecolor": "white",
            "showbackground": true,
            "ticks": "",
            "zerolinecolor": "white"
           },
           "yaxis": {
            "backgroundcolor": "#E5ECF6",
            "gridcolor": "white",
            "gridwidth": 2,
            "linecolor": "white",
            "showbackground": true,
            "ticks": "",
            "zerolinecolor": "white"
           },
           "zaxis": {
            "backgroundcolor": "#E5ECF6",
            "gridcolor": "white",
            "gridwidth": 2,
            "linecolor": "white",
            "showbackground": true,
            "ticks": "",
            "zerolinecolor": "white"
           }
          },
          "shapedefaults": {
           "line": {
            "color": "#2a3f5f"
           }
          },
          "ternary": {
           "aaxis": {
            "gridcolor": "white",
            "linecolor": "white",
            "ticks": ""
           },
           "baxis": {
            "gridcolor": "white",
            "linecolor": "white",
            "ticks": ""
           },
           "bgcolor": "#E5ECF6",
           "caxis": {
            "gridcolor": "white",
            "linecolor": "white",
            "ticks": ""
           }
          },
          "title": {
           "x": 0.05
          },
          "xaxis": {
           "automargin": true,
           "gridcolor": "white",
           "linecolor": "white",
           "ticks": "",
           "title": {
            "standoff": 15
           },
           "zerolinecolor": "white",
           "zerolinewidth": 2
          },
          "yaxis": {
           "automargin": true,
           "gridcolor": "white",
           "linecolor": "white",
           "ticks": "",
           "title": {
            "standoff": 15
           },
           "zerolinecolor": "white",
           "zerolinewidth": 2
          }
         }
        },
        "xaxis": {
         "anchor": "y",
         "domain": [
          0,
          1
         ],
         "title": {
          "text": "market_cap"
         }
        },
        "yaxis": {
         "anchor": "x",
         "domain": [
          0,
          1
         ]
        }
       }
      }
     },
     "metadata": {},
     "output_type": "display_data"
    }
   ],
   "source": [
    "fig = px.box(coindf, x=\"market_cap\", \n",
    "                   hover_data=['name'])\n",
    "fig.show()"
   ]
  },
  {
   "cell_type": "code",
   "execution_count": 14,
   "metadata": {},
   "outputs": [
    {
     "data": {
      "application/vnd.plotly.v1+json": {
       "config": {
        "plotlyServerURL": "https://plot.ly"
       },
       "data": [
        {
         "alignmentgroup": "True",
         "customdata": [
          [
           "Bitcoin"
          ],
          [
           "Tether"
          ],
          [
           "BNB"
          ],
          [
           "XRP"
          ],
          [
           "Cardano"
          ],
          [
           "Solana"
          ],
          [
           "Avalanche"
          ],
          [
           "Terra"
          ],
          [
           "Polkadot"
          ],
          [
           "Binance USD"
          ],
          [
           "Shiba Inu"
          ],
          [
           "Polygon"
          ],
          [
           "Crypto.com Coin"
          ],
          [
           "TerraUSD"
          ],
          [
           "Dai"
          ],
          [
           "Litecoin"
          ],
          [
           "Chainlink"
          ],
          [
           "Near"
          ],
          [
           "TRON"
          ],
          [
           "Algorand"
          ],
          [
           "FTX Token"
          ],
          [
           "Bitcoin Cash"
          ],
          [
           "Lido Staked Ether"
          ],
          [
           "Stellar"
          ],
          [
           "LEO Token"
          ],
          [
           "Fantom"
          ],
          [
           "Uniswap"
          ],
          [
           "Decentraland"
          ],
          [
           "Hedera"
          ],
          [
           "The Sandbox"
          ],
          [
           "Axie Infinity"
          ],
          [
           "Ethereum Classic"
          ],
          [
           "Elrond"
          ],
          [
           "VeChain"
          ],
          [
           "Theta Network"
          ],
          [
           "ECOMI"
          ],
          [
           "Filecoin"
          ],
          [
           "cETH"
          ],
          [
           "The Graph"
          ],
          [
           "cDAI"
          ],
          [
           "Helium"
          ],
          [
           "Frax"
          ],
          [
           "cUSDC"
          ],
          [
           "Gala"
          ],
          [
           "IOTA"
          ],
          [
           "Flow"
          ],
          [
           "Aave"
          ],
          [
           "Harmony"
          ],
          [
           "BitTorrent [OLD]"
          ],
          [
           "Maker"
          ],
          [
           "Theta Fuel"
          ],
          [
           "Enjin Coin"
          ],
          [
           "Quant"
          ],
          [
           "Arweave"
          ],
          [
           "Huobi BTC"
          ],
          [
           "NEO"
          ],
          [
           "Frax Share"
          ],
          [
           "Stacks"
          ],
          [
           "KuCoin Token"
          ],
          [
           "Kusama"
          ],
          [
           "Huobi Token"
          ],
          [
           "Zcash"
          ],
          [
           "Amp"
          ],
          [
           "TrueUSD"
          ],
          [
           "Celsius Network"
          ],
          [
           "Kadena"
          ],
          [
           "THORChain"
          ],
          [
           "Basic Attention Token"
          ],
          [
           "Celo"
          ],
          [
           "Curve DAO Token"
          ],
          [
           "Loopring"
          ],
          [
           "NEXO"
          ],
          [
           "Chiliz"
          ],
          [
           "Dash"
          ],
          [
           "Oasis Network"
          ],
          [
           "Secret"
          ],
          [
           "Synthetix Network Token"
          ],
          [
           "Waves"
          ],
          [
           "NEM"
          ]
         ],
         "hovertemplate": "p_change_1y=%{x}<br>name=%{customdata[0]}<extra></extra>",
         "legendgroup": "",
         "marker": {
          "color": "#636efa"
         },
         "name": "",
         "notched": false,
         "offsetgroup": "",
         "orientation": "h",
         "showlegend": false,
         "type": "box",
         "x": [
          -7.70834,
          0.07017000000000001,
          234.28902999999997,
          51.95091,
          28.1804,
          1069.36435,
          151.90801000000002,
          967.40045,
          -28.24553,
          0.12775,
          402171.27586,
          1610.25615,
          469.16191,
          1.23738,
          -0.17861,
          -37.25172,
          -46.95319,
          187.61003,
          32.13386,
          -26.406370000000003,
          132.72974,
          -51.955,
          75.56189,
          -55.415369999999996,
          289.17067000000003,
          1096.8111199999998,
          -43.532109999999996,
          1020.50875,
          79.28278,
          1704.3598,
          3082.3305100000002,
          123.38217,
          37.98075,
          19.790210000000002,
          17.127470000000002,
          872.12995,
          -47.80255,
          77.33924,
          -77.06264,
          3.2223,
          587.76689,
          1.05043,
          3.8154199999999996,
          2404.9821899999997,
          -27.768720000000002,
          -60.73819,
          -62.136669999999995,
          537.61231,
          48.971340000000005,
          -13.87788,
          279.6969,
          282.07755,
          216.64068999999998,
          386.66157999999996,
          -8.49427,
          -39.84237,
          225.78772,
          126.47946,
          790.8890200000001,
          -7.590960000000001,
          -17.91408,
          -21.584,
          -12.746739999999999,
          0.17401,
          -37.85029,
          1916.44493,
          14.89281,
          58.07499,
          -24.0512,
          16.400679999999998,
          36.56395,
          27.99503,
          541.10153,
          -57.86175,
          219.25587000000002,
          194.12872,
          -79.32838000000001,
          -1.8992900000000001,
          -69.55319
         ],
         "x0": " ",
         "xaxis": "x",
         "y0": " ",
         "yaxis": "y"
        }
       ],
       "layout": {
        "boxmode": "group",
        "legend": {
         "tracegroupgap": 0
        },
        "margin": {
         "t": 60
        },
        "template": {
         "data": {
          "bar": [
           {
            "error_x": {
             "color": "#2a3f5f"
            },
            "error_y": {
             "color": "#2a3f5f"
            },
            "marker": {
             "line": {
              "color": "#E5ECF6",
              "width": 0.5
             },
             "pattern": {
              "fillmode": "overlay",
              "size": 10,
              "solidity": 0.2
             }
            },
            "type": "bar"
           }
          ],
          "barpolar": [
           {
            "marker": {
             "line": {
              "color": "#E5ECF6",
              "width": 0.5
             },
             "pattern": {
              "fillmode": "overlay",
              "size": 10,
              "solidity": 0.2
             }
            },
            "type": "barpolar"
           }
          ],
          "carpet": [
           {
            "aaxis": {
             "endlinecolor": "#2a3f5f",
             "gridcolor": "white",
             "linecolor": "white",
             "minorgridcolor": "white",
             "startlinecolor": "#2a3f5f"
            },
            "baxis": {
             "endlinecolor": "#2a3f5f",
             "gridcolor": "white",
             "linecolor": "white",
             "minorgridcolor": "white",
             "startlinecolor": "#2a3f5f"
            },
            "type": "carpet"
           }
          ],
          "choropleth": [
           {
            "colorbar": {
             "outlinewidth": 0,
             "ticks": ""
            },
            "type": "choropleth"
           }
          ],
          "contour": [
           {
            "colorbar": {
             "outlinewidth": 0,
             "ticks": ""
            },
            "colorscale": [
             [
              0,
              "#0d0887"
             ],
             [
              0.1111111111111111,
              "#46039f"
             ],
             [
              0.2222222222222222,
              "#7201a8"
             ],
             [
              0.3333333333333333,
              "#9c179e"
             ],
             [
              0.4444444444444444,
              "#bd3786"
             ],
             [
              0.5555555555555556,
              "#d8576b"
             ],
             [
              0.6666666666666666,
              "#ed7953"
             ],
             [
              0.7777777777777778,
              "#fb9f3a"
             ],
             [
              0.8888888888888888,
              "#fdca26"
             ],
             [
              1,
              "#f0f921"
             ]
            ],
            "type": "contour"
           }
          ],
          "contourcarpet": [
           {
            "colorbar": {
             "outlinewidth": 0,
             "ticks": ""
            },
            "type": "contourcarpet"
           }
          ],
          "heatmap": [
           {
            "colorbar": {
             "outlinewidth": 0,
             "ticks": ""
            },
            "colorscale": [
             [
              0,
              "#0d0887"
             ],
             [
              0.1111111111111111,
              "#46039f"
             ],
             [
              0.2222222222222222,
              "#7201a8"
             ],
             [
              0.3333333333333333,
              "#9c179e"
             ],
             [
              0.4444444444444444,
              "#bd3786"
             ],
             [
              0.5555555555555556,
              "#d8576b"
             ],
             [
              0.6666666666666666,
              "#ed7953"
             ],
             [
              0.7777777777777778,
              "#fb9f3a"
             ],
             [
              0.8888888888888888,
              "#fdca26"
             ],
             [
              1,
              "#f0f921"
             ]
            ],
            "type": "heatmap"
           }
          ],
          "heatmapgl": [
           {
            "colorbar": {
             "outlinewidth": 0,
             "ticks": ""
            },
            "colorscale": [
             [
              0,
              "#0d0887"
             ],
             [
              0.1111111111111111,
              "#46039f"
             ],
             [
              0.2222222222222222,
              "#7201a8"
             ],
             [
              0.3333333333333333,
              "#9c179e"
             ],
             [
              0.4444444444444444,
              "#bd3786"
             ],
             [
              0.5555555555555556,
              "#d8576b"
             ],
             [
              0.6666666666666666,
              "#ed7953"
             ],
             [
              0.7777777777777778,
              "#fb9f3a"
             ],
             [
              0.8888888888888888,
              "#fdca26"
             ],
             [
              1,
              "#f0f921"
             ]
            ],
            "type": "heatmapgl"
           }
          ],
          "histogram": [
           {
            "marker": {
             "pattern": {
              "fillmode": "overlay",
              "size": 10,
              "solidity": 0.2
             }
            },
            "type": "histogram"
           }
          ],
          "histogram2d": [
           {
            "colorbar": {
             "outlinewidth": 0,
             "ticks": ""
            },
            "colorscale": [
             [
              0,
              "#0d0887"
             ],
             [
              0.1111111111111111,
              "#46039f"
             ],
             [
              0.2222222222222222,
              "#7201a8"
             ],
             [
              0.3333333333333333,
              "#9c179e"
             ],
             [
              0.4444444444444444,
              "#bd3786"
             ],
             [
              0.5555555555555556,
              "#d8576b"
             ],
             [
              0.6666666666666666,
              "#ed7953"
             ],
             [
              0.7777777777777778,
              "#fb9f3a"
             ],
             [
              0.8888888888888888,
              "#fdca26"
             ],
             [
              1,
              "#f0f921"
             ]
            ],
            "type": "histogram2d"
           }
          ],
          "histogram2dcontour": [
           {
            "colorbar": {
             "outlinewidth": 0,
             "ticks": ""
            },
            "colorscale": [
             [
              0,
              "#0d0887"
             ],
             [
              0.1111111111111111,
              "#46039f"
             ],
             [
              0.2222222222222222,
              "#7201a8"
             ],
             [
              0.3333333333333333,
              "#9c179e"
             ],
             [
              0.4444444444444444,
              "#bd3786"
             ],
             [
              0.5555555555555556,
              "#d8576b"
             ],
             [
              0.6666666666666666,
              "#ed7953"
             ],
             [
              0.7777777777777778,
              "#fb9f3a"
             ],
             [
              0.8888888888888888,
              "#fdca26"
             ],
             [
              1,
              "#f0f921"
             ]
            ],
            "type": "histogram2dcontour"
           }
          ],
          "mesh3d": [
           {
            "colorbar": {
             "outlinewidth": 0,
             "ticks": ""
            },
            "type": "mesh3d"
           }
          ],
          "parcoords": [
           {
            "line": {
             "colorbar": {
              "outlinewidth": 0,
              "ticks": ""
             }
            },
            "type": "parcoords"
           }
          ],
          "pie": [
           {
            "automargin": true,
            "type": "pie"
           }
          ],
          "scatter": [
           {
            "marker": {
             "colorbar": {
              "outlinewidth": 0,
              "ticks": ""
             }
            },
            "type": "scatter"
           }
          ],
          "scatter3d": [
           {
            "line": {
             "colorbar": {
              "outlinewidth": 0,
              "ticks": ""
             }
            },
            "marker": {
             "colorbar": {
              "outlinewidth": 0,
              "ticks": ""
             }
            },
            "type": "scatter3d"
           }
          ],
          "scattercarpet": [
           {
            "marker": {
             "colorbar": {
              "outlinewidth": 0,
              "ticks": ""
             }
            },
            "type": "scattercarpet"
           }
          ],
          "scattergeo": [
           {
            "marker": {
             "colorbar": {
              "outlinewidth": 0,
              "ticks": ""
             }
            },
            "type": "scattergeo"
           }
          ],
          "scattergl": [
           {
            "marker": {
             "colorbar": {
              "outlinewidth": 0,
              "ticks": ""
             }
            },
            "type": "scattergl"
           }
          ],
          "scattermapbox": [
           {
            "marker": {
             "colorbar": {
              "outlinewidth": 0,
              "ticks": ""
             }
            },
            "type": "scattermapbox"
           }
          ],
          "scatterpolar": [
           {
            "marker": {
             "colorbar": {
              "outlinewidth": 0,
              "ticks": ""
             }
            },
            "type": "scatterpolar"
           }
          ],
          "scatterpolargl": [
           {
            "marker": {
             "colorbar": {
              "outlinewidth": 0,
              "ticks": ""
             }
            },
            "type": "scatterpolargl"
           }
          ],
          "scatterternary": [
           {
            "marker": {
             "colorbar": {
              "outlinewidth": 0,
              "ticks": ""
             }
            },
            "type": "scatterternary"
           }
          ],
          "surface": [
           {
            "colorbar": {
             "outlinewidth": 0,
             "ticks": ""
            },
            "colorscale": [
             [
              0,
              "#0d0887"
             ],
             [
              0.1111111111111111,
              "#46039f"
             ],
             [
              0.2222222222222222,
              "#7201a8"
             ],
             [
              0.3333333333333333,
              "#9c179e"
             ],
             [
              0.4444444444444444,
              "#bd3786"
             ],
             [
              0.5555555555555556,
              "#d8576b"
             ],
             [
              0.6666666666666666,
              "#ed7953"
             ],
             [
              0.7777777777777778,
              "#fb9f3a"
             ],
             [
              0.8888888888888888,
              "#fdca26"
             ],
             [
              1,
              "#f0f921"
             ]
            ],
            "type": "surface"
           }
          ],
          "table": [
           {
            "cells": {
             "fill": {
              "color": "#EBF0F8"
             },
             "line": {
              "color": "white"
             }
            },
            "header": {
             "fill": {
              "color": "#C8D4E3"
             },
             "line": {
              "color": "white"
             }
            },
            "type": "table"
           }
          ]
         },
         "layout": {
          "annotationdefaults": {
           "arrowcolor": "#2a3f5f",
           "arrowhead": 0,
           "arrowwidth": 1
          },
          "autotypenumbers": "strict",
          "coloraxis": {
           "colorbar": {
            "outlinewidth": 0,
            "ticks": ""
           }
          },
          "colorscale": {
           "diverging": [
            [
             0,
             "#8e0152"
            ],
            [
             0.1,
             "#c51b7d"
            ],
            [
             0.2,
             "#de77ae"
            ],
            [
             0.3,
             "#f1b6da"
            ],
            [
             0.4,
             "#fde0ef"
            ],
            [
             0.5,
             "#f7f7f7"
            ],
            [
             0.6,
             "#e6f5d0"
            ],
            [
             0.7,
             "#b8e186"
            ],
            [
             0.8,
             "#7fbc41"
            ],
            [
             0.9,
             "#4d9221"
            ],
            [
             1,
             "#276419"
            ]
           ],
           "sequential": [
            [
             0,
             "#0d0887"
            ],
            [
             0.1111111111111111,
             "#46039f"
            ],
            [
             0.2222222222222222,
             "#7201a8"
            ],
            [
             0.3333333333333333,
             "#9c179e"
            ],
            [
             0.4444444444444444,
             "#bd3786"
            ],
            [
             0.5555555555555556,
             "#d8576b"
            ],
            [
             0.6666666666666666,
             "#ed7953"
            ],
            [
             0.7777777777777778,
             "#fb9f3a"
            ],
            [
             0.8888888888888888,
             "#fdca26"
            ],
            [
             1,
             "#f0f921"
            ]
           ],
           "sequentialminus": [
            [
             0,
             "#0d0887"
            ],
            [
             0.1111111111111111,
             "#46039f"
            ],
            [
             0.2222222222222222,
             "#7201a8"
            ],
            [
             0.3333333333333333,
             "#9c179e"
            ],
            [
             0.4444444444444444,
             "#bd3786"
            ],
            [
             0.5555555555555556,
             "#d8576b"
            ],
            [
             0.6666666666666666,
             "#ed7953"
            ],
            [
             0.7777777777777778,
             "#fb9f3a"
            ],
            [
             0.8888888888888888,
             "#fdca26"
            ],
            [
             1,
             "#f0f921"
            ]
           ]
          },
          "colorway": [
           "#636efa",
           "#EF553B",
           "#00cc96",
           "#ab63fa",
           "#FFA15A",
           "#19d3f3",
           "#FF6692",
           "#B6E880",
           "#FF97FF",
           "#FECB52"
          ],
          "font": {
           "color": "#2a3f5f"
          },
          "geo": {
           "bgcolor": "white",
           "lakecolor": "white",
           "landcolor": "#E5ECF6",
           "showlakes": true,
           "showland": true,
           "subunitcolor": "white"
          },
          "hoverlabel": {
           "align": "left"
          },
          "hovermode": "closest",
          "mapbox": {
           "style": "light"
          },
          "paper_bgcolor": "white",
          "plot_bgcolor": "#E5ECF6",
          "polar": {
           "angularaxis": {
            "gridcolor": "white",
            "linecolor": "white",
            "ticks": ""
           },
           "bgcolor": "#E5ECF6",
           "radialaxis": {
            "gridcolor": "white",
            "linecolor": "white",
            "ticks": ""
           }
          },
          "scene": {
           "xaxis": {
            "backgroundcolor": "#E5ECF6",
            "gridcolor": "white",
            "gridwidth": 2,
            "linecolor": "white",
            "showbackground": true,
            "ticks": "",
            "zerolinecolor": "white"
           },
           "yaxis": {
            "backgroundcolor": "#E5ECF6",
            "gridcolor": "white",
            "gridwidth": 2,
            "linecolor": "white",
            "showbackground": true,
            "ticks": "",
            "zerolinecolor": "white"
           },
           "zaxis": {
            "backgroundcolor": "#E5ECF6",
            "gridcolor": "white",
            "gridwidth": 2,
            "linecolor": "white",
            "showbackground": true,
            "ticks": "",
            "zerolinecolor": "white"
           }
          },
          "shapedefaults": {
           "line": {
            "color": "#2a3f5f"
           }
          },
          "ternary": {
           "aaxis": {
            "gridcolor": "white",
            "linecolor": "white",
            "ticks": ""
           },
           "baxis": {
            "gridcolor": "white",
            "linecolor": "white",
            "ticks": ""
           },
           "bgcolor": "#E5ECF6",
           "caxis": {
            "gridcolor": "white",
            "linecolor": "white",
            "ticks": ""
           }
          },
          "title": {
           "x": 0.05
          },
          "xaxis": {
           "automargin": true,
           "gridcolor": "white",
           "linecolor": "white",
           "ticks": "",
           "title": {
            "standoff": 15
           },
           "zerolinecolor": "white",
           "zerolinewidth": 2
          },
          "yaxis": {
           "automargin": true,
           "gridcolor": "white",
           "linecolor": "white",
           "ticks": "",
           "title": {
            "standoff": 15
           },
           "zerolinecolor": "white",
           "zerolinewidth": 2
          }
         }
        },
        "xaxis": {
         "anchor": "y",
         "domain": [
          0,
          1
         ],
         "title": {
          "text": "p_change_1y"
         }
        },
        "yaxis": {
         "anchor": "x",
         "domain": [
          0,
          1
         ]
        }
       }
      }
     },
     "metadata": {},
     "output_type": "display_data"
    }
   ],
   "source": [
    "# sns.set(rc={'figure.figsize':(15,4)})\n",
    "# sns.boxplot(coindf['p_change_1y'])\n",
    "fig = px.box(coindf, x=\"p_change_1y\", \n",
    "                   hover_data=['name'])\n",
    "fig.show()"
   ]
  },
  {
   "cell_type": "code",
   "execution_count": 15,
   "metadata": {},
   "outputs": [
    {
     "data": {
      "application/vnd.plotly.v1+json": {
       "config": {
        "plotlyServerURL": "https://plot.ly"
       },
       "data": [
        {
         "coloraxis": "coloraxis",
         "hovertemplate": "x: %{x}<br>y: %{y}<br>color: %{z}<extra></extra>",
         "name": "0",
         "type": "heatmap",
         "x": [
          "market_cap",
          "rank",
          "interest_score",
          "p_change_30d",
          "p_change_60d",
          "p_change_200d",
          "p_change_1y",
          "market_cap_usd",
          "total_supply",
          "circulating_supply",
          "twt_followers",
          "rdt_followers",
          "total_followers"
         ],
         "xaxis": "x",
         "y": [
          "market_cap",
          "rank",
          "interest_score",
          "p_change_30d",
          "p_change_60d",
          "p_change_200d",
          "p_change_1y",
          "market_cap_usd",
          "total_supply",
          "circulating_supply",
          "twt_followers",
          "rdt_followers",
          "total_followers"
         ],
         "yaxis": "y",
         "z": [
          [
           1,
           0.20978993312982033,
           -0.23979093562522488,
           -0.1947049748985284,
           -0.07001227977704315,
           0.03784227365447724,
           -0.142809634067891,
           -0.2761263892783902,
           -0.14141069146952306,
           -0.14149288067852567,
           -0.40835170429737583,
           -0.31280329508470817,
           -0.41680544209632897
          ],
          [
           0.20978993312982033,
           1,
           -0.07726539498724083,
           0.12708548954542132,
           0.18875214540572485,
           0.0303282359387573,
           -0.042568232638304344,
           -0.14067713371855597,
           -0.0431243471508033,
           -0.04322914452020344,
           -0.208683871824569,
           -0.20485130263361992,
           -0.2279164901342717
          ],
          [
           -0.23979093562522488,
           -0.07726539498724083,
           1,
           0.071830722596083,
           -0.017832019588000802,
           -0.014070762851016624,
           -0.018800948092603683,
           0.06409806888299797,
           -0.021011868350986826,
           -0.02101535304995247,
           0.7667981934957074,
           0.1535691728774538,
           0.638902325331223
          ],
          [
           -0.1947049748985284,
           0.12708548954542132,
           0.071830722596083,
           1,
           0.28308776218051596,
           -0.0015018614324884096,
           0.10121515631733607,
           0.12126136163053905,
           0.10122925019675735,
           0.1014211774919411,
           0.13520072183861329,
           0.11192643751732347,
           0.14077051989122252
          ],
          [
           -0.07001227977704315,
           0.18875214540572485,
           -0.017832019588000802,
           0.28308776218051596,
           1,
           0.1583358431859693,
           0.039646863048486775,
           0.020579057330573934,
           0.04015112120090679,
           0.04030980236178904,
           -0.012064267283708215,
           -0.014168296249720424,
           -0.013946861310303059
          ],
          [
           0.03784227365447724,
           0.0303282359387573,
           -0.014070762851016624,
           -0.0015018614324884096,
           0.1583358431859693,
           1,
           0.09259531792952168,
           -0.0448140675336684,
           0.08483337348034388,
           0.0848655946212997,
           -0.03449344016759044,
           -0.07294092908560806,
           -0.050624365015101605
          ],
          [
           -0.142809634067891,
           -0.042568232638304344,
           -0.018800948092603683,
           0.10121515631733607,
           0.039646863048486775,
           0.09259531792952168,
           1,
           -0.0021716183116094437,
           0.9999171094120566,
           0.9999178984070036,
           0.23949828059611156,
           0.08291366113646213,
           0.21113428333728373
          ],
          [
           -0.2761263892783902,
           -0.14067713371855597,
           0.06409806888299797,
           0.12126136163053905,
           0.020579057330573934,
           -0.0448140675336684,
           -0.0021716183116094437,
           1,
           -0.001505030980857359,
           -0.001491756896651863,
           0.5112140381043367,
           0.9509018732819694,
           0.7071582444596939
          ],
          [
           -0.14141069146952306,
           -0.0431243471508033,
           -0.021011868350986826,
           0.10122925019675735,
           0.04015112120090679,
           0.08483337348034388,
           0.9999171094120566,
           -0.001505030980857359,
           1,
           0.9999994372901193,
           0.23863416307871926,
           0.08405392411325334,
           0.2108495464462718
          ],
          [
           -0.14149288067852567,
           -0.04322914452020344,
           -0.02101535304995247,
           0.1014211774919411,
           0.04030980236178904,
           0.0848655946212997,
           0.9999178984070036,
           -0.001491756896651863,
           0.9999994372901193,
           1,
           0.2386005469702384,
           0.08405959037664827,
           0.21082564632383446
          ],
          [
           -0.40835170429737583,
           -0.208683871824569,
           0.7667981934957074,
           0.13520072183861329,
           -0.012064267283708215,
           -0.03449344016759044,
           0.23949828059611156,
           0.5112140381043367,
           0.23863416307871926,
           0.2386005469702384,
           1,
           0.5944176989331088,
           0.9638326521739249
          ],
          [
           -0.31280329508470817,
           -0.20485130263361992,
           0.1535691728774538,
           0.11192643751732347,
           -0.014168296249720424,
           -0.07294092908560806,
           0.08291366113646213,
           0.9509018732819694,
           0.08405392411325334,
           0.08405959037664827,
           0.5944176989331088,
           1,
           0.7872334726727308
          ],
          [
           -0.41680544209632897,
           -0.2279164901342717,
           0.638902325331223,
           0.14077051989122252,
           -0.013946861310303059,
           -0.050624365015101605,
           0.21113428333728373,
           0.7071582444596939,
           0.2108495464462718,
           0.21082564632383446,
           0.9638326521739249,
           0.7872334726727308,
           1
          ]
         ]
        }
       ],
       "layout": {
        "coloraxis": {
         "colorscale": [
          [
           0,
           "#0d0887"
          ],
          [
           0.1111111111111111,
           "#46039f"
          ],
          [
           0.2222222222222222,
           "#7201a8"
          ],
          [
           0.3333333333333333,
           "#9c179e"
          ],
          [
           0.4444444444444444,
           "#bd3786"
          ],
          [
           0.5555555555555556,
           "#d8576b"
          ],
          [
           0.6666666666666666,
           "#ed7953"
          ],
          [
           0.7777777777777778,
           "#fb9f3a"
          ],
          [
           0.8888888888888888,
           "#fdca26"
          ],
          [
           1,
           "#f0f921"
          ]
         ]
        },
        "margin": {
         "t": 60
        },
        "template": {
         "data": {
          "bar": [
           {
            "error_x": {
             "color": "#2a3f5f"
            },
            "error_y": {
             "color": "#2a3f5f"
            },
            "marker": {
             "line": {
              "color": "#E5ECF6",
              "width": 0.5
             },
             "pattern": {
              "fillmode": "overlay",
              "size": 10,
              "solidity": 0.2
             }
            },
            "type": "bar"
           }
          ],
          "barpolar": [
           {
            "marker": {
             "line": {
              "color": "#E5ECF6",
              "width": 0.5
             },
             "pattern": {
              "fillmode": "overlay",
              "size": 10,
              "solidity": 0.2
             }
            },
            "type": "barpolar"
           }
          ],
          "carpet": [
           {
            "aaxis": {
             "endlinecolor": "#2a3f5f",
             "gridcolor": "white",
             "linecolor": "white",
             "minorgridcolor": "white",
             "startlinecolor": "#2a3f5f"
            },
            "baxis": {
             "endlinecolor": "#2a3f5f",
             "gridcolor": "white",
             "linecolor": "white",
             "minorgridcolor": "white",
             "startlinecolor": "#2a3f5f"
            },
            "type": "carpet"
           }
          ],
          "choropleth": [
           {
            "colorbar": {
             "outlinewidth": 0,
             "ticks": ""
            },
            "type": "choropleth"
           }
          ],
          "contour": [
           {
            "colorbar": {
             "outlinewidth": 0,
             "ticks": ""
            },
            "colorscale": [
             [
              0,
              "#0d0887"
             ],
             [
              0.1111111111111111,
              "#46039f"
             ],
             [
              0.2222222222222222,
              "#7201a8"
             ],
             [
              0.3333333333333333,
              "#9c179e"
             ],
             [
              0.4444444444444444,
              "#bd3786"
             ],
             [
              0.5555555555555556,
              "#d8576b"
             ],
             [
              0.6666666666666666,
              "#ed7953"
             ],
             [
              0.7777777777777778,
              "#fb9f3a"
             ],
             [
              0.8888888888888888,
              "#fdca26"
             ],
             [
              1,
              "#f0f921"
             ]
            ],
            "type": "contour"
           }
          ],
          "contourcarpet": [
           {
            "colorbar": {
             "outlinewidth": 0,
             "ticks": ""
            },
            "type": "contourcarpet"
           }
          ],
          "heatmap": [
           {
            "colorbar": {
             "outlinewidth": 0,
             "ticks": ""
            },
            "colorscale": [
             [
              0,
              "#0d0887"
             ],
             [
              0.1111111111111111,
              "#46039f"
             ],
             [
              0.2222222222222222,
              "#7201a8"
             ],
             [
              0.3333333333333333,
              "#9c179e"
             ],
             [
              0.4444444444444444,
              "#bd3786"
             ],
             [
              0.5555555555555556,
              "#d8576b"
             ],
             [
              0.6666666666666666,
              "#ed7953"
             ],
             [
              0.7777777777777778,
              "#fb9f3a"
             ],
             [
              0.8888888888888888,
              "#fdca26"
             ],
             [
              1,
              "#f0f921"
             ]
            ],
            "type": "heatmap"
           }
          ],
          "heatmapgl": [
           {
            "colorbar": {
             "outlinewidth": 0,
             "ticks": ""
            },
            "colorscale": [
             [
              0,
              "#0d0887"
             ],
             [
              0.1111111111111111,
              "#46039f"
             ],
             [
              0.2222222222222222,
              "#7201a8"
             ],
             [
              0.3333333333333333,
              "#9c179e"
             ],
             [
              0.4444444444444444,
              "#bd3786"
             ],
             [
              0.5555555555555556,
              "#d8576b"
             ],
             [
              0.6666666666666666,
              "#ed7953"
             ],
             [
              0.7777777777777778,
              "#fb9f3a"
             ],
             [
              0.8888888888888888,
              "#fdca26"
             ],
             [
              1,
              "#f0f921"
             ]
            ],
            "type": "heatmapgl"
           }
          ],
          "histogram": [
           {
            "marker": {
             "pattern": {
              "fillmode": "overlay",
              "size": 10,
              "solidity": 0.2
             }
            },
            "type": "histogram"
           }
          ],
          "histogram2d": [
           {
            "colorbar": {
             "outlinewidth": 0,
             "ticks": ""
            },
            "colorscale": [
             [
              0,
              "#0d0887"
             ],
             [
              0.1111111111111111,
              "#46039f"
             ],
             [
              0.2222222222222222,
              "#7201a8"
             ],
             [
              0.3333333333333333,
              "#9c179e"
             ],
             [
              0.4444444444444444,
              "#bd3786"
             ],
             [
              0.5555555555555556,
              "#d8576b"
             ],
             [
              0.6666666666666666,
              "#ed7953"
             ],
             [
              0.7777777777777778,
              "#fb9f3a"
             ],
             [
              0.8888888888888888,
              "#fdca26"
             ],
             [
              1,
              "#f0f921"
             ]
            ],
            "type": "histogram2d"
           }
          ],
          "histogram2dcontour": [
           {
            "colorbar": {
             "outlinewidth": 0,
             "ticks": ""
            },
            "colorscale": [
             [
              0,
              "#0d0887"
             ],
             [
              0.1111111111111111,
              "#46039f"
             ],
             [
              0.2222222222222222,
              "#7201a8"
             ],
             [
              0.3333333333333333,
              "#9c179e"
             ],
             [
              0.4444444444444444,
              "#bd3786"
             ],
             [
              0.5555555555555556,
              "#d8576b"
             ],
             [
              0.6666666666666666,
              "#ed7953"
             ],
             [
              0.7777777777777778,
              "#fb9f3a"
             ],
             [
              0.8888888888888888,
              "#fdca26"
             ],
             [
              1,
              "#f0f921"
             ]
            ],
            "type": "histogram2dcontour"
           }
          ],
          "mesh3d": [
           {
            "colorbar": {
             "outlinewidth": 0,
             "ticks": ""
            },
            "type": "mesh3d"
           }
          ],
          "parcoords": [
           {
            "line": {
             "colorbar": {
              "outlinewidth": 0,
              "ticks": ""
             }
            },
            "type": "parcoords"
           }
          ],
          "pie": [
           {
            "automargin": true,
            "type": "pie"
           }
          ],
          "scatter": [
           {
            "marker": {
             "colorbar": {
              "outlinewidth": 0,
              "ticks": ""
             }
            },
            "type": "scatter"
           }
          ],
          "scatter3d": [
           {
            "line": {
             "colorbar": {
              "outlinewidth": 0,
              "ticks": ""
             }
            },
            "marker": {
             "colorbar": {
              "outlinewidth": 0,
              "ticks": ""
             }
            },
            "type": "scatter3d"
           }
          ],
          "scattercarpet": [
           {
            "marker": {
             "colorbar": {
              "outlinewidth": 0,
              "ticks": ""
             }
            },
            "type": "scattercarpet"
           }
          ],
          "scattergeo": [
           {
            "marker": {
             "colorbar": {
              "outlinewidth": 0,
              "ticks": ""
             }
            },
            "type": "scattergeo"
           }
          ],
          "scattergl": [
           {
            "marker": {
             "colorbar": {
              "outlinewidth": 0,
              "ticks": ""
             }
            },
            "type": "scattergl"
           }
          ],
          "scattermapbox": [
           {
            "marker": {
             "colorbar": {
              "outlinewidth": 0,
              "ticks": ""
             }
            },
            "type": "scattermapbox"
           }
          ],
          "scatterpolar": [
           {
            "marker": {
             "colorbar": {
              "outlinewidth": 0,
              "ticks": ""
             }
            },
            "type": "scatterpolar"
           }
          ],
          "scatterpolargl": [
           {
            "marker": {
             "colorbar": {
              "outlinewidth": 0,
              "ticks": ""
             }
            },
            "type": "scatterpolargl"
           }
          ],
          "scatterternary": [
           {
            "marker": {
             "colorbar": {
              "outlinewidth": 0,
              "ticks": ""
             }
            },
            "type": "scatterternary"
           }
          ],
          "surface": [
           {
            "colorbar": {
             "outlinewidth": 0,
             "ticks": ""
            },
            "colorscale": [
             [
              0,
              "#0d0887"
             ],
             [
              0.1111111111111111,
              "#46039f"
             ],
             [
              0.2222222222222222,
              "#7201a8"
             ],
             [
              0.3333333333333333,
              "#9c179e"
             ],
             [
              0.4444444444444444,
              "#bd3786"
             ],
             [
              0.5555555555555556,
              "#d8576b"
             ],
             [
              0.6666666666666666,
              "#ed7953"
             ],
             [
              0.7777777777777778,
              "#fb9f3a"
             ],
             [
              0.8888888888888888,
              "#fdca26"
             ],
             [
              1,
              "#f0f921"
             ]
            ],
            "type": "surface"
           }
          ],
          "table": [
           {
            "cells": {
             "fill": {
              "color": "#EBF0F8"
             },
             "line": {
              "color": "white"
             }
            },
            "header": {
             "fill": {
              "color": "#C8D4E3"
             },
             "line": {
              "color": "white"
             }
            },
            "type": "table"
           }
          ]
         },
         "layout": {
          "annotationdefaults": {
           "arrowcolor": "#2a3f5f",
           "arrowhead": 0,
           "arrowwidth": 1
          },
          "autotypenumbers": "strict",
          "coloraxis": {
           "colorbar": {
            "outlinewidth": 0,
            "ticks": ""
           }
          },
          "colorscale": {
           "diverging": [
            [
             0,
             "#8e0152"
            ],
            [
             0.1,
             "#c51b7d"
            ],
            [
             0.2,
             "#de77ae"
            ],
            [
             0.3,
             "#f1b6da"
            ],
            [
             0.4,
             "#fde0ef"
            ],
            [
             0.5,
             "#f7f7f7"
            ],
            [
             0.6,
             "#e6f5d0"
            ],
            [
             0.7,
             "#b8e186"
            ],
            [
             0.8,
             "#7fbc41"
            ],
            [
             0.9,
             "#4d9221"
            ],
            [
             1,
             "#276419"
            ]
           ],
           "sequential": [
            [
             0,
             "#0d0887"
            ],
            [
             0.1111111111111111,
             "#46039f"
            ],
            [
             0.2222222222222222,
             "#7201a8"
            ],
            [
             0.3333333333333333,
             "#9c179e"
            ],
            [
             0.4444444444444444,
             "#bd3786"
            ],
            [
             0.5555555555555556,
             "#d8576b"
            ],
            [
             0.6666666666666666,
             "#ed7953"
            ],
            [
             0.7777777777777778,
             "#fb9f3a"
            ],
            [
             0.8888888888888888,
             "#fdca26"
            ],
            [
             1,
             "#f0f921"
            ]
           ],
           "sequentialminus": [
            [
             0,
             "#0d0887"
            ],
            [
             0.1111111111111111,
             "#46039f"
            ],
            [
             0.2222222222222222,
             "#7201a8"
            ],
            [
             0.3333333333333333,
             "#9c179e"
            ],
            [
             0.4444444444444444,
             "#bd3786"
            ],
            [
             0.5555555555555556,
             "#d8576b"
            ],
            [
             0.6666666666666666,
             "#ed7953"
            ],
            [
             0.7777777777777778,
             "#fb9f3a"
            ],
            [
             0.8888888888888888,
             "#fdca26"
            ],
            [
             1,
             "#f0f921"
            ]
           ]
          },
          "colorway": [
           "#636efa",
           "#EF553B",
           "#00cc96",
           "#ab63fa",
           "#FFA15A",
           "#19d3f3",
           "#FF6692",
           "#B6E880",
           "#FF97FF",
           "#FECB52"
          ],
          "font": {
           "color": "#2a3f5f"
          },
          "geo": {
           "bgcolor": "white",
           "lakecolor": "white",
           "landcolor": "#E5ECF6",
           "showlakes": true,
           "showland": true,
           "subunitcolor": "white"
          },
          "hoverlabel": {
           "align": "left"
          },
          "hovermode": "closest",
          "mapbox": {
           "style": "light"
          },
          "paper_bgcolor": "white",
          "plot_bgcolor": "#E5ECF6",
          "polar": {
           "angularaxis": {
            "gridcolor": "white",
            "linecolor": "white",
            "ticks": ""
           },
           "bgcolor": "#E5ECF6",
           "radialaxis": {
            "gridcolor": "white",
            "linecolor": "white",
            "ticks": ""
           }
          },
          "scene": {
           "xaxis": {
            "backgroundcolor": "#E5ECF6",
            "gridcolor": "white",
            "gridwidth": 2,
            "linecolor": "white",
            "showbackground": true,
            "ticks": "",
            "zerolinecolor": "white"
           },
           "yaxis": {
            "backgroundcolor": "#E5ECF6",
            "gridcolor": "white",
            "gridwidth": 2,
            "linecolor": "white",
            "showbackground": true,
            "ticks": "",
            "zerolinecolor": "white"
           },
           "zaxis": {
            "backgroundcolor": "#E5ECF6",
            "gridcolor": "white",
            "gridwidth": 2,
            "linecolor": "white",
            "showbackground": true,
            "ticks": "",
            "zerolinecolor": "white"
           }
          },
          "shapedefaults": {
           "line": {
            "color": "#2a3f5f"
           }
          },
          "ternary": {
           "aaxis": {
            "gridcolor": "white",
            "linecolor": "white",
            "ticks": ""
           },
           "baxis": {
            "gridcolor": "white",
            "linecolor": "white",
            "ticks": ""
           },
           "bgcolor": "#E5ECF6",
           "caxis": {
            "gridcolor": "white",
            "linecolor": "white",
            "ticks": ""
           }
          },
          "title": {
           "x": 0.05
          },
          "xaxis": {
           "automargin": true,
           "gridcolor": "white",
           "linecolor": "white",
           "ticks": "",
           "title": {
            "standoff": 15
           },
           "zerolinecolor": "white",
           "zerolinewidth": 2
          },
          "yaxis": {
           "automargin": true,
           "gridcolor": "white",
           "linecolor": "white",
           "ticks": "",
           "title": {
            "standoff": 15
           },
           "zerolinecolor": "white",
           "zerolinewidth": 2
          }
         }
        },
        "xaxis": {
         "anchor": "y",
         "constrain": "domain",
         "domain": [
          0,
          1
         ],
         "scaleanchor": "y"
        },
        "yaxis": {
         "anchor": "x",
         "autorange": "reversed",
         "constrain": "domain",
         "domain": [
          0,
          1
         ]
        }
       }
      }
     },
     "metadata": {},
     "output_type": "display_data"
    }
   ],
   "source": [
    "corr = coindf.corr()\n",
    "fig = px.imshow(corr,  template=\"plotly\")\n",
    "fig.show()"
   ]
  },
  {
   "cell_type": "markdown",
   "metadata": {},
   "source": [
    "### PCA - Find out the proper dimension"
   ]
  },
  {
   "cell_type": "code",
   "execution_count": 16,
   "metadata": {},
   "outputs": [],
   "source": [
    "# Store the supplemetary information\n",
    "coin_supp = coindf.reset_index()"
   ]
  },
  {
   "cell_type": "code",
   "execution_count": 17,
   "metadata": {},
   "outputs": [],
   "source": [
    "# Drop columns that are not used in PCA\n",
    "coin_pca = coindf.drop(columns=['twt_followers', 'rdt_followers'])\n"
   ]
  },
  {
   "cell_type": "markdown",
   "metadata": {},
   "source": [
    "Standardization"
   ]
  },
  {
   "cell_type": "code",
   "execution_count": 18,
   "metadata": {},
   "outputs": [],
   "source": [
    "# Standardization\n",
    "sc = StandardScaler()\n",
    "coin_standardized = sc.fit_transform(coin_pca.iloc[:, 7:])\n",
    "coin_pca = pd.DataFrame(coin_standardized, columns = ['p_change_30d','p_change_60d','p_change_200d','p_change_1y',\n",
    "                                                        'market_cap_usd','total_supply','circulating_supply','total_followers'])"
   ]
  },
  {
   "cell_type": "code",
   "execution_count": 19,
   "metadata": {},
   "outputs": [
    {
     "data": {
      "text/html": [
       "<div>\n",
       "<style scoped>\n",
       "    .dataframe tbody tr th:only-of-type {\n",
       "        vertical-align: middle;\n",
       "    }\n",
       "\n",
       "    .dataframe tbody tr th {\n",
       "        vertical-align: top;\n",
       "    }\n",
       "\n",
       "    .dataframe thead th {\n",
       "        text-align: right;\n",
       "    }\n",
       "</style>\n",
       "<table border=\"1\" class=\"dataframe\">\n",
       "  <thead>\n",
       "    <tr style=\"text-align: right;\">\n",
       "      <th></th>\n",
       "      <th>p_change_30d</th>\n",
       "      <th>p_change_60d</th>\n",
       "      <th>p_change_200d</th>\n",
       "      <th>p_change_1y</th>\n",
       "      <th>market_cap_usd</th>\n",
       "      <th>total_supply</th>\n",
       "      <th>circulating_supply</th>\n",
       "      <th>total_followers</th>\n",
       "    </tr>\n",
       "  </thead>\n",
       "  <tbody>\n",
       "    <tr>\n",
       "      <th>0</th>\n",
       "      <td>0.962124</td>\n",
       "      <td>0.186413</td>\n",
       "      <td>-0.359284</td>\n",
       "      <td>-0.119492</td>\n",
       "      <td>8.740560</td>\n",
       "      <td>-0.113551</td>\n",
       "      <td>-0.113520</td>\n",
       "      <td>5.690409</td>\n",
       "    </tr>\n",
       "    <tr>\n",
       "      <th>1</th>\n",
       "      <td>0.814233</td>\n",
       "      <td>0.399890</td>\n",
       "      <td>-0.375094</td>\n",
       "      <td>-0.119319</td>\n",
       "      <td>0.643385</td>\n",
       "      <td>-0.112848</td>\n",
       "      <td>-0.112239</td>\n",
       "      <td>-0.378235</td>\n",
       "    </tr>\n",
       "    <tr>\n",
       "      <th>2</th>\n",
       "      <td>0.014266</td>\n",
       "      <td>-0.400111</td>\n",
       "      <td>-0.277736</td>\n",
       "      <td>-0.114106</td>\n",
       "      <td>0.581038</td>\n",
       "      <td>-0.113550</td>\n",
       "      <td>-0.113518</td>\n",
       "      <td>5.608673</td>\n",
       "    </tr>\n",
       "    <tr>\n",
       "      <th>3</th>\n",
       "      <td>1.219989</td>\n",
       "      <td>0.559773</td>\n",
       "      <td>-0.345157</td>\n",
       "      <td>-0.118164</td>\n",
       "      <td>0.231031</td>\n",
       "      <td>-0.112657</td>\n",
       "      <td>-0.112740</td>\n",
       "      <td>1.478464</td>\n",
       "    </tr>\n",
       "    <tr>\n",
       "      <th>4</th>\n",
       "      <td>-0.497223</td>\n",
       "      <td>-0.044646</td>\n",
       "      <td>-0.419200</td>\n",
       "      <td>-0.118693</td>\n",
       "      <td>0.182376</td>\n",
       "      <td>-0.113149</td>\n",
       "      <td>-0.112998</td>\n",
       "      <td>0.570228</td>\n",
       "    </tr>\n",
       "    <tr>\n",
       "      <th>...</th>\n",
       "      <td>...</td>\n",
       "      <td>...</td>\n",
       "      <td>...</td>\n",
       "      <td>...</td>\n",
       "      <td>...</td>\n",
       "      <td>...</td>\n",
       "      <td>...</td>\n",
       "      <td>...</td>\n",
       "    </tr>\n",
       "    <tr>\n",
       "      <th>74</th>\n",
       "      <td>-1.567381</td>\n",
       "      <td>1.446342</td>\n",
       "      <td>0.499568</td>\n",
       "      <td>-0.114441</td>\n",
       "      <td>-0.183044</td>\n",
       "      <td>-0.113462</td>\n",
       "      <td>-0.113464</td>\n",
       "      <td>-0.422429</td>\n",
       "    </tr>\n",
       "    <tr>\n",
       "      <th>75</th>\n",
       "      <td>-0.682689</td>\n",
       "      <td>3.652471</td>\n",
       "      <td>1.144858</td>\n",
       "      <td>-0.115000</td>\n",
       "      <td>-0.183133</td>\n",
       "      <td>-0.113550</td>\n",
       "      <td>-0.113518</td>\n",
       "      <td>-0.421011</td>\n",
       "    </tr>\n",
       "    <tr>\n",
       "      <th>76</th>\n",
       "      <td>0.450472</td>\n",
       "      <td>0.432371</td>\n",
       "      <td>-0.509508</td>\n",
       "      <td>-0.121086</td>\n",
       "      <td>-0.183364</td>\n",
       "      <td>-0.113549</td>\n",
       "      <td>-0.113517</td>\n",
       "      <td>-0.385776</td>\n",
       "    </tr>\n",
       "    <tr>\n",
       "      <th>77</th>\n",
       "      <td>-0.736446</td>\n",
       "      <td>-1.386965</td>\n",
       "      <td>-0.473475</td>\n",
       "      <td>-0.119363</td>\n",
       "      <td>-0.183416</td>\n",
       "      <td>-0.113551</td>\n",
       "      <td>-0.113519</td>\n",
       "      <td>-0.332541</td>\n",
       "    </tr>\n",
       "    <tr>\n",
       "      <th>78</th>\n",
       "      <td>0.611187</td>\n",
       "      <td>-0.017136</td>\n",
       "      <td>-0.468935</td>\n",
       "      <td>-0.120869</td>\n",
       "      <td>-0.183680</td>\n",
       "      <td>-0.113471</td>\n",
       "      <td>-0.113374</td>\n",
       "      <td>-0.256021</td>\n",
       "    </tr>\n",
       "  </tbody>\n",
       "</table>\n",
       "<p>79 rows × 8 columns</p>\n",
       "</div>"
      ],
      "text/plain": [
       "    p_change_30d  p_change_60d  p_change_200d  p_change_1y  market_cap_usd  \\\n",
       "0       0.962124      0.186413      -0.359284    -0.119492        8.740560   \n",
       "1       0.814233      0.399890      -0.375094    -0.119319        0.643385   \n",
       "2       0.014266     -0.400111      -0.277736    -0.114106        0.581038   \n",
       "3       1.219989      0.559773      -0.345157    -0.118164        0.231031   \n",
       "4      -0.497223     -0.044646      -0.419200    -0.118693        0.182376   \n",
       "..           ...           ...            ...          ...             ...   \n",
       "74     -1.567381      1.446342       0.499568    -0.114441       -0.183044   \n",
       "75     -0.682689      3.652471       1.144858    -0.115000       -0.183133   \n",
       "76      0.450472      0.432371      -0.509508    -0.121086       -0.183364   \n",
       "77     -0.736446     -1.386965      -0.473475    -0.119363       -0.183416   \n",
       "78      0.611187     -0.017136      -0.468935    -0.120869       -0.183680   \n",
       "\n",
       "    total_supply  circulating_supply  total_followers  \n",
       "0      -0.113551           -0.113520         5.690409  \n",
       "1      -0.112848           -0.112239        -0.378235  \n",
       "2      -0.113550           -0.113518         5.608673  \n",
       "3      -0.112657           -0.112740         1.478464  \n",
       "4      -0.113149           -0.112998         0.570228  \n",
       "..           ...                 ...              ...  \n",
       "74     -0.113462           -0.113464        -0.422429  \n",
       "75     -0.113550           -0.113518        -0.421011  \n",
       "76     -0.113549           -0.113517        -0.385776  \n",
       "77     -0.113551           -0.113519        -0.332541  \n",
       "78     -0.113471           -0.113374        -0.256021  \n",
       "\n",
       "[79 rows x 8 columns]"
      ]
     },
     "execution_count": 19,
     "metadata": {},
     "output_type": "execute_result"
    }
   ],
   "source": [
    "coin_pca"
   ]
  },
  {
   "cell_type": "markdown",
   "metadata": {},
   "source": [
    "Feature Scaling"
   ]
  },
  {
   "cell_type": "code",
   "execution_count": 20,
   "metadata": {},
   "outputs": [],
   "source": [
    "# Feature Scaling\n",
    "coin_pca['market_cap_usd'] *= 0.7\n",
    "coin_pca['total_followers'] *= 0.5\n",
    "# coin_pca['total_supply'] *= 0.7\n",
    "# coin_pca['circulating_supply'] *= 0.7"
   ]
  },
  {
   "cell_type": "code",
   "execution_count": 21,
   "metadata": {},
   "outputs": [
    {
     "data": {
      "text/html": [
       "<div>\n",
       "<style scoped>\n",
       "    .dataframe tbody tr th:only-of-type {\n",
       "        vertical-align: middle;\n",
       "    }\n",
       "\n",
       "    .dataframe tbody tr th {\n",
       "        vertical-align: top;\n",
       "    }\n",
       "\n",
       "    .dataframe thead th {\n",
       "        text-align: right;\n",
       "    }\n",
       "</style>\n",
       "<table border=\"1\" class=\"dataframe\">\n",
       "  <thead>\n",
       "    <tr style=\"text-align: right;\">\n",
       "      <th></th>\n",
       "      <th>p_change_30d</th>\n",
       "      <th>p_change_60d</th>\n",
       "      <th>p_change_200d</th>\n",
       "      <th>p_change_1y</th>\n",
       "      <th>market_cap_usd</th>\n",
       "      <th>total_supply</th>\n",
       "      <th>circulating_supply</th>\n",
       "      <th>total_followers</th>\n",
       "    </tr>\n",
       "  </thead>\n",
       "  <tbody>\n",
       "    <tr>\n",
       "      <th>0</th>\n",
       "      <td>0.962124</td>\n",
       "      <td>0.186413</td>\n",
       "      <td>-0.359284</td>\n",
       "      <td>-0.119492</td>\n",
       "      <td>6.118392</td>\n",
       "      <td>-0.113551</td>\n",
       "      <td>-0.113520</td>\n",
       "      <td>2.845204</td>\n",
       "    </tr>\n",
       "    <tr>\n",
       "      <th>1</th>\n",
       "      <td>0.814233</td>\n",
       "      <td>0.399890</td>\n",
       "      <td>-0.375094</td>\n",
       "      <td>-0.119319</td>\n",
       "      <td>0.450369</td>\n",
       "      <td>-0.112848</td>\n",
       "      <td>-0.112239</td>\n",
       "      <td>-0.189117</td>\n",
       "    </tr>\n",
       "    <tr>\n",
       "      <th>2</th>\n",
       "      <td>0.014266</td>\n",
       "      <td>-0.400111</td>\n",
       "      <td>-0.277736</td>\n",
       "      <td>-0.114106</td>\n",
       "      <td>0.406726</td>\n",
       "      <td>-0.113550</td>\n",
       "      <td>-0.113518</td>\n",
       "      <td>2.804336</td>\n",
       "    </tr>\n",
       "    <tr>\n",
       "      <th>3</th>\n",
       "      <td>1.219989</td>\n",
       "      <td>0.559773</td>\n",
       "      <td>-0.345157</td>\n",
       "      <td>-0.118164</td>\n",
       "      <td>0.161722</td>\n",
       "      <td>-0.112657</td>\n",
       "      <td>-0.112740</td>\n",
       "      <td>0.739232</td>\n",
       "    </tr>\n",
       "    <tr>\n",
       "      <th>4</th>\n",
       "      <td>-0.497223</td>\n",
       "      <td>-0.044646</td>\n",
       "      <td>-0.419200</td>\n",
       "      <td>-0.118693</td>\n",
       "      <td>0.127664</td>\n",
       "      <td>-0.113149</td>\n",
       "      <td>-0.112998</td>\n",
       "      <td>0.285114</td>\n",
       "    </tr>\n",
       "    <tr>\n",
       "      <th>...</th>\n",
       "      <td>...</td>\n",
       "      <td>...</td>\n",
       "      <td>...</td>\n",
       "      <td>...</td>\n",
       "      <td>...</td>\n",
       "      <td>...</td>\n",
       "      <td>...</td>\n",
       "      <td>...</td>\n",
       "    </tr>\n",
       "    <tr>\n",
       "      <th>74</th>\n",
       "      <td>-1.567381</td>\n",
       "      <td>1.446342</td>\n",
       "      <td>0.499568</td>\n",
       "      <td>-0.114441</td>\n",
       "      <td>-0.128131</td>\n",
       "      <td>-0.113462</td>\n",
       "      <td>-0.113464</td>\n",
       "      <td>-0.211215</td>\n",
       "    </tr>\n",
       "    <tr>\n",
       "      <th>75</th>\n",
       "      <td>-0.682689</td>\n",
       "      <td>3.652471</td>\n",
       "      <td>1.144858</td>\n",
       "      <td>-0.115000</td>\n",
       "      <td>-0.128193</td>\n",
       "      <td>-0.113550</td>\n",
       "      <td>-0.113518</td>\n",
       "      <td>-0.210505</td>\n",
       "    </tr>\n",
       "    <tr>\n",
       "      <th>76</th>\n",
       "      <td>0.450472</td>\n",
       "      <td>0.432371</td>\n",
       "      <td>-0.509508</td>\n",
       "      <td>-0.121086</td>\n",
       "      <td>-0.128354</td>\n",
       "      <td>-0.113549</td>\n",
       "      <td>-0.113517</td>\n",
       "      <td>-0.192888</td>\n",
       "    </tr>\n",
       "    <tr>\n",
       "      <th>77</th>\n",
       "      <td>-0.736446</td>\n",
       "      <td>-1.386965</td>\n",
       "      <td>-0.473475</td>\n",
       "      <td>-0.119363</td>\n",
       "      <td>-0.128391</td>\n",
       "      <td>-0.113551</td>\n",
       "      <td>-0.113519</td>\n",
       "      <td>-0.166270</td>\n",
       "    </tr>\n",
       "    <tr>\n",
       "      <th>78</th>\n",
       "      <td>0.611187</td>\n",
       "      <td>-0.017136</td>\n",
       "      <td>-0.468935</td>\n",
       "      <td>-0.120869</td>\n",
       "      <td>-0.128576</td>\n",
       "      <td>-0.113471</td>\n",
       "      <td>-0.113374</td>\n",
       "      <td>-0.128010</td>\n",
       "    </tr>\n",
       "  </tbody>\n",
       "</table>\n",
       "<p>79 rows × 8 columns</p>\n",
       "</div>"
      ],
      "text/plain": [
       "    p_change_30d  p_change_60d  p_change_200d  p_change_1y  market_cap_usd  \\\n",
       "0       0.962124      0.186413      -0.359284    -0.119492        6.118392   \n",
       "1       0.814233      0.399890      -0.375094    -0.119319        0.450369   \n",
       "2       0.014266     -0.400111      -0.277736    -0.114106        0.406726   \n",
       "3       1.219989      0.559773      -0.345157    -0.118164        0.161722   \n",
       "4      -0.497223     -0.044646      -0.419200    -0.118693        0.127664   \n",
       "..           ...           ...            ...          ...             ...   \n",
       "74     -1.567381      1.446342       0.499568    -0.114441       -0.128131   \n",
       "75     -0.682689      3.652471       1.144858    -0.115000       -0.128193   \n",
       "76      0.450472      0.432371      -0.509508    -0.121086       -0.128354   \n",
       "77     -0.736446     -1.386965      -0.473475    -0.119363       -0.128391   \n",
       "78      0.611187     -0.017136      -0.468935    -0.120869       -0.128576   \n",
       "\n",
       "    total_supply  circulating_supply  total_followers  \n",
       "0      -0.113551           -0.113520         2.845204  \n",
       "1      -0.112848           -0.112239        -0.189117  \n",
       "2      -0.113550           -0.113518         2.804336  \n",
       "3      -0.112657           -0.112740         0.739232  \n",
       "4      -0.113149           -0.112998         0.285114  \n",
       "..           ...                 ...              ...  \n",
       "74     -0.113462           -0.113464        -0.211215  \n",
       "75     -0.113550           -0.113518        -0.210505  \n",
       "76     -0.113549           -0.113517        -0.192888  \n",
       "77     -0.113551           -0.113519        -0.166270  \n",
       "78     -0.113471           -0.113374        -0.128010  \n",
       "\n",
       "[79 rows x 8 columns]"
      ]
     },
     "execution_count": 21,
     "metadata": {},
     "output_type": "execute_result"
    }
   ],
   "source": [
    "coin_pca"
   ]
  },
  {
   "cell_type": "code",
   "execution_count": 22,
   "metadata": {},
   "outputs": [],
   "source": [
    "coin_cov = coin_pca.corr()"
   ]
  },
  {
   "cell_type": "code",
   "execution_count": 23,
   "metadata": {},
   "outputs": [
    {
     "data": {
      "text/html": [
       "<div>\n",
       "<style scoped>\n",
       "    .dataframe tbody tr th:only-of-type {\n",
       "        vertical-align: middle;\n",
       "    }\n",
       "\n",
       "    .dataframe tbody tr th {\n",
       "        vertical-align: top;\n",
       "    }\n",
       "\n",
       "    .dataframe thead th {\n",
       "        text-align: right;\n",
       "    }\n",
       "</style>\n",
       "<table border=\"1\" class=\"dataframe\">\n",
       "  <thead>\n",
       "    <tr style=\"text-align: right;\">\n",
       "      <th></th>\n",
       "      <th>p_change_30d</th>\n",
       "      <th>p_change_60d</th>\n",
       "      <th>p_change_200d</th>\n",
       "      <th>p_change_1y</th>\n",
       "      <th>market_cap_usd</th>\n",
       "      <th>total_supply</th>\n",
       "      <th>circulating_supply</th>\n",
       "      <th>total_followers</th>\n",
       "    </tr>\n",
       "  </thead>\n",
       "  <tbody>\n",
       "    <tr>\n",
       "      <th>p_change_30d</th>\n",
       "      <td>1.000000</td>\n",
       "      <td>0.283088</td>\n",
       "      <td>-0.001502</td>\n",
       "      <td>0.101215</td>\n",
       "      <td>0.121261</td>\n",
       "      <td>0.101229</td>\n",
       "      <td>0.101421</td>\n",
       "      <td>0.140771</td>\n",
       "    </tr>\n",
       "    <tr>\n",
       "      <th>p_change_60d</th>\n",
       "      <td>0.283088</td>\n",
       "      <td>1.000000</td>\n",
       "      <td>0.158336</td>\n",
       "      <td>0.039647</td>\n",
       "      <td>0.020579</td>\n",
       "      <td>0.040151</td>\n",
       "      <td>0.040310</td>\n",
       "      <td>-0.013947</td>\n",
       "    </tr>\n",
       "    <tr>\n",
       "      <th>p_change_200d</th>\n",
       "      <td>-0.001502</td>\n",
       "      <td>0.158336</td>\n",
       "      <td>1.000000</td>\n",
       "      <td>0.092595</td>\n",
       "      <td>-0.044814</td>\n",
       "      <td>0.084833</td>\n",
       "      <td>0.084866</td>\n",
       "      <td>-0.050624</td>\n",
       "    </tr>\n",
       "    <tr>\n",
       "      <th>p_change_1y</th>\n",
       "      <td>0.101215</td>\n",
       "      <td>0.039647</td>\n",
       "      <td>0.092595</td>\n",
       "      <td>1.000000</td>\n",
       "      <td>-0.002172</td>\n",
       "      <td>0.999917</td>\n",
       "      <td>0.999918</td>\n",
       "      <td>0.211134</td>\n",
       "    </tr>\n",
       "    <tr>\n",
       "      <th>market_cap_usd</th>\n",
       "      <td>0.121261</td>\n",
       "      <td>0.020579</td>\n",
       "      <td>-0.044814</td>\n",
       "      <td>-0.002172</td>\n",
       "      <td>1.000000</td>\n",
       "      <td>-0.001505</td>\n",
       "      <td>-0.001492</td>\n",
       "      <td>0.707158</td>\n",
       "    </tr>\n",
       "    <tr>\n",
       "      <th>total_supply</th>\n",
       "      <td>0.101229</td>\n",
       "      <td>0.040151</td>\n",
       "      <td>0.084833</td>\n",
       "      <td>0.999917</td>\n",
       "      <td>-0.001505</td>\n",
       "      <td>1.000000</td>\n",
       "      <td>0.999999</td>\n",
       "      <td>0.210850</td>\n",
       "    </tr>\n",
       "    <tr>\n",
       "      <th>circulating_supply</th>\n",
       "      <td>0.101421</td>\n",
       "      <td>0.040310</td>\n",
       "      <td>0.084866</td>\n",
       "      <td>0.999918</td>\n",
       "      <td>-0.001492</td>\n",
       "      <td>0.999999</td>\n",
       "      <td>1.000000</td>\n",
       "      <td>0.210826</td>\n",
       "    </tr>\n",
       "    <tr>\n",
       "      <th>total_followers</th>\n",
       "      <td>0.140771</td>\n",
       "      <td>-0.013947</td>\n",
       "      <td>-0.050624</td>\n",
       "      <td>0.211134</td>\n",
       "      <td>0.707158</td>\n",
       "      <td>0.210850</td>\n",
       "      <td>0.210826</td>\n",
       "      <td>1.000000</td>\n",
       "    </tr>\n",
       "  </tbody>\n",
       "</table>\n",
       "</div>"
      ],
      "text/plain": [
       "                    p_change_30d  p_change_60d  p_change_200d  p_change_1y  \\\n",
       "p_change_30d            1.000000      0.283088      -0.001502     0.101215   \n",
       "p_change_60d            0.283088      1.000000       0.158336     0.039647   \n",
       "p_change_200d          -0.001502      0.158336       1.000000     0.092595   \n",
       "p_change_1y             0.101215      0.039647       0.092595     1.000000   \n",
       "market_cap_usd          0.121261      0.020579      -0.044814    -0.002172   \n",
       "total_supply            0.101229      0.040151       0.084833     0.999917   \n",
       "circulating_supply      0.101421      0.040310       0.084866     0.999918   \n",
       "total_followers         0.140771     -0.013947      -0.050624     0.211134   \n",
       "\n",
       "                    market_cap_usd  total_supply  circulating_supply  \\\n",
       "p_change_30d              0.121261      0.101229            0.101421   \n",
       "p_change_60d              0.020579      0.040151            0.040310   \n",
       "p_change_200d            -0.044814      0.084833            0.084866   \n",
       "p_change_1y              -0.002172      0.999917            0.999918   \n",
       "market_cap_usd            1.000000     -0.001505           -0.001492   \n",
       "total_supply             -0.001505      1.000000            0.999999   \n",
       "circulating_supply       -0.001492      0.999999            1.000000   \n",
       "total_followers           0.707158      0.210850            0.210826   \n",
       "\n",
       "                    total_followers  \n",
       "p_change_30d               0.140771  \n",
       "p_change_60d              -0.013947  \n",
       "p_change_200d             -0.050624  \n",
       "p_change_1y                0.211134  \n",
       "market_cap_usd             0.707158  \n",
       "total_supply               0.210850  \n",
       "circulating_supply         0.210826  \n",
       "total_followers            1.000000  "
      ]
     },
     "execution_count": 23,
     "metadata": {},
     "output_type": "execute_result"
    }
   ],
   "source": [
    "coin_cov"
   ]
  },
  {
   "cell_type": "code",
   "execution_count": 24,
   "metadata": {},
   "outputs": [
    {
     "data": {
      "text/plain": [
       "<AxesSubplot:>"
      ]
     },
     "execution_count": 24,
     "metadata": {},
     "output_type": "execute_result"
    },
    {
     "data": {
      "image/png": "[encoded data removed]",
      "text/plain": [
       "<Figure size 720x720 with 2 Axes>"
      ]
     },
     "metadata": {
      "needs_background": "light"
     },
     "output_type": "display_data"
    }
   ],
   "source": [
    "fig, ax = plt.subplots(figsize=(10, 10))\n",
    "sns.heatmap(coin_cov, cmap = 'GnBu', ax=ax)"
   ]
  },
  {
   "cell_type": "markdown",
   "metadata": {},
   "source": [
    "Get the eigenvalues and determine how many components we need"
   ]
  },
  {
   "cell_type": "code",
   "execution_count": 25,
   "metadata": {},
   "outputs": [
    {
     "data": {
      "application/vnd.plotly.v1+json": {
       "config": {
        "plotlyServerURL": "https://plot.ly"
       },
       "data": [
        {
         "hovertemplate": "variable=0<br>index=%{x}<br>value=%{y}<extra></extra>",
         "legendgroup": "0",
         "line": {
          "color": "#636efa",
          "dash": "solid"
         },
         "marker": {
          "symbol": "circle"
         },
         "mode": "lines",
         "name": "0",
         "orientation": "v",
         "showlegend": true,
         "type": "scatter",
         "x": [
          0,
          1,
          2,
          3,
          4,
          5,
          6,
          7
         ],
         "xaxis": "x",
         "y": [
          3.1067772258777766,
          4.812007387037964,
          6.10299002033973,
          7.070198271368156,
          7.734090980166762,
          7.999933887949018,
          7.999999466684107,
          8.000000000000004
         ],
         "yaxis": "y"
        }
       ],
       "layout": {
        "legend": {
         "title": {
          "text": "variable"
         },
         "tracegroupgap": 0
        },
        "template": {
         "data": {
          "bar": [
           {
            "error_x": {
             "color": "#2a3f5f"
            },
            "error_y": {
             "color": "#2a3f5f"
            },
            "marker": {
             "line": {
              "color": "#E5ECF6",
              "width": 0.5
             },
             "pattern": {
              "fillmode": "overlay",
              "size": 10,
              "solidity": 0.2
             }
            },
            "type": "bar"
           }
          ],
          "barpolar": [
           {
            "marker": {
             "line": {
              "color": "#E5ECF6",
              "width": 0.5
             },
             "pattern": {
              "fillmode": "overlay",
              "size": 10,
              "solidity": 0.2
             }
            },
            "type": "barpolar"
           }
          ],
          "carpet": [
           {
            "aaxis": {
             "endlinecolor": "#2a3f5f",
             "gridcolor": "white",
             "linecolor": "white",
             "minorgridcolor": "white",
             "startlinecolor": "#2a3f5f"
            },
            "baxis": {
             "endlinecolor": "#2a3f5f",
             "gridcolor": "white",
             "linecolor": "white",
             "minorgridcolor": "white",
             "startlinecolor": "#2a3f5f"
            },
            "type": "carpet"
           }
          ],
          "choropleth": [
           {
            "colorbar": {
             "outlinewidth": 0,
             "ticks": ""
            },
            "type": "choropleth"
           }
          ],
          "contour": [
           {
            "colorbar": {
             "outlinewidth": 0,
             "ticks": ""
            },
            "colorscale": [
             [
              0,
              "#0d0887"
             ],
             [
              0.1111111111111111,
              "#46039f"
             ],
             [
              0.2222222222222222,
              "#7201a8"
             ],
             [
              0.3333333333333333,
              "#9c179e"
             ],
             [
              0.4444444444444444,
              "#bd3786"
             ],
             [
              0.5555555555555556,
              "#d8576b"
             ],
             [
              0.6666666666666666,
              "#ed7953"
             ],
             [
              0.7777777777777778,
              "#fb9f3a"
             ],
             [
              0.8888888888888888,
              "#fdca26"
             ],
             [
              1,
              "#f0f921"
             ]
            ],
            "type": "contour"
           }
          ],
          "contourcarpet": [
           {
            "colorbar": {
             "outlinewidth": 0,
             "ticks": ""
            },
            "type": "contourcarpet"
           }
          ],
          "heatmap": [
           {
            "colorbar": {
             "outlinewidth": 0,
             "ticks": ""
            },
            "colorscale": [
             [
              0,
              "#0d0887"
             ],
             [
              0.1111111111111111,
              "#46039f"
             ],
             [
              0.2222222222222222,
              "#7201a8"
             ],
             [
              0.3333333333333333,
              "#9c179e"
             ],
             [
              0.4444444444444444,
              "#bd3786"
             ],
             [
              0.5555555555555556,
              "#d8576b"
             ],
             [
              0.6666666666666666,
              "#ed7953"
             ],
             [
              0.7777777777777778,
              "#fb9f3a"
             ],
             [
              0.8888888888888888,
              "#fdca26"
             ],
             [
              1,
              "#f0f921"
             ]
            ],
            "type": "heatmap"
           }
          ],
          "heatmapgl": [
           {
            "colorbar": {
             "outlinewidth": 0,
             "ticks": ""
            },
            "colorscale": [
             [
              0,
              "#0d0887"
             ],
             [
              0.1111111111111111,
              "#46039f"
             ],
             [
              0.2222222222222222,
              "#7201a8"
             ],
             [
              0.3333333333333333,
              "#9c179e"
             ],
             [
              0.4444444444444444,
              "#bd3786"
             ],
             [
              0.5555555555555556,
              "#d8576b"
             ],
             [
              0.6666666666666666,
              "#ed7953"
             ],
             [
              0.7777777777777778,
              "#fb9f3a"
             ],
             [
              0.8888888888888888,
              "#fdca26"
             ],
             [
              1,
              "#f0f921"
             ]
            ],
            "type": "heatmapgl"
           }
          ],
          "histogram": [
           {
            "marker": {
             "pattern": {
              "fillmode": "overlay",
              "size": 10,
              "solidity": 0.2
             }
            },
            "type": "histogram"
           }
          ],
          "histogram2d": [
           {
            "colorbar": {
             "outlinewidth": 0,
             "ticks": ""
            },
            "colorscale": [
             [
              0,
              "#0d0887"
             ],
             [
              0.1111111111111111,
              "#46039f"
             ],
             [
              0.2222222222222222,
              "#7201a8"
             ],
             [
              0.3333333333333333,
              "#9c179e"
             ],
             [
              0.4444444444444444,
              "#bd3786"
             ],
             [
              0.5555555555555556,
              "#d8576b"
             ],
             [
              0.6666666666666666,
              "#ed7953"
             ],
             [
              0.7777777777777778,
              "#fb9f3a"
             ],
             [
              0.8888888888888888,
              "#fdca26"
             ],
             [
              1,
              "#f0f921"
             ]
            ],
            "type": "histogram2d"
           }
          ],
          "histogram2dcontour": [
           {
            "colorbar": {
             "outlinewidth": 0,
             "ticks": ""
            },
            "colorscale": [
             [
              0,
              "#0d0887"
             ],
             [
              0.1111111111111111,
              "#46039f"
             ],
             [
              0.2222222222222222,
              "#7201a8"
             ],
             [
              0.3333333333333333,
              "#9c179e"
             ],
             [
              0.4444444444444444,
              "#bd3786"
             ],
             [
              0.5555555555555556,
              "#d8576b"
             ],
             [
              0.6666666666666666,
              "#ed7953"
             ],
             [
              0.7777777777777778,
              "#fb9f3a"
             ],
             [
              0.8888888888888888,
              "#fdca26"
             ],
             [
              1,
              "#f0f921"
             ]
            ],
            "type": "histogram2dcontour"
           }
          ],
          "mesh3d": [
           {
            "colorbar": {
             "outlinewidth": 0,
             "ticks": ""
            },
            "type": "mesh3d"
           }
          ],
          "parcoords": [
           {
            "line": {
             "colorbar": {
              "outlinewidth": 0,
              "ticks": ""
             }
            },
            "type": "parcoords"
           }
          ],
          "pie": [
           {
            "automargin": true,
            "type": "pie"
           }
          ],
          "scatter": [
           {
            "marker": {
             "colorbar": {
              "outlinewidth": 0,
              "ticks": ""
             }
            },
            "type": "scatter"
           }
          ],
          "scatter3d": [
           {
            "line": {
             "colorbar": {
              "outlinewidth": 0,
              "ticks": ""
             }
            },
            "marker": {
             "colorbar": {
              "outlinewidth": 0,
              "ticks": ""
             }
            },
            "type": "scatter3d"
           }
          ],
          "scattercarpet": [
           {
            "marker": {
             "colorbar": {
              "outlinewidth": 0,
              "ticks": ""
             }
            },
            "type": "scattercarpet"
           }
          ],
          "scattergeo": [
           {
            "marker": {
             "colorbar": {
              "outlinewidth": 0,
              "ticks": ""
             }
            },
            "type": "scattergeo"
           }
          ],
          "scattergl": [
           {
            "marker": {
             "colorbar": {
              "outlinewidth": 0,
              "ticks": ""
             }
            },
            "type": "scattergl"
           }
          ],
          "scattermapbox": [
           {
            "marker": {
             "colorbar": {
              "outlinewidth": 0,
              "ticks": ""
             }
            },
            "type": "scattermapbox"
           }
          ],
          "scatterpolar": [
           {
            "marker": {
             "colorbar": {
              "outlinewidth": 0,
              "ticks": ""
             }
            },
            "type": "scatterpolar"
           }
          ],
          "scatterpolargl": [
           {
            "marker": {
             "colorbar": {
              "outlinewidth": 0,
              "ticks": ""
             }
            },
            "type": "scatterpolargl"
           }
          ],
          "scatterternary": [
           {
            "marker": {
             "colorbar": {
              "outlinewidth": 0,
              "ticks": ""
             }
            },
            "type": "scatterternary"
           }
          ],
          "surface": [
           {
            "colorbar": {
             "outlinewidth": 0,
             "ticks": ""
            },
            "colorscale": [
             [
              0,
              "#0d0887"
             ],
             [
              0.1111111111111111,
              "#46039f"
             ],
             [
              0.2222222222222222,
              "#7201a8"
             ],
             [
              0.3333333333333333,
              "#9c179e"
             ],
             [
              0.4444444444444444,
              "#bd3786"
             ],
             [
              0.5555555555555556,
              "#d8576b"
             ],
             [
              0.6666666666666666,
              "#ed7953"
             ],
             [
              0.7777777777777778,
              "#fb9f3a"
             ],
             [
              0.8888888888888888,
              "#fdca26"
             ],
             [
              1,
              "#f0f921"
             ]
            ],
            "type": "surface"
           }
          ],
          "table": [
           {
            "cells": {
             "fill": {
              "color": "#EBF0F8"
             },
             "line": {
              "color": "white"
             }
            },
            "header": {
             "fill": {
              "color": "#C8D4E3"
             },
             "line": {
              "color": "white"
             }
            },
            "type": "table"
           }
          ]
         },
         "layout": {
          "annotationdefaults": {
           "arrowcolor": "#2a3f5f",
           "arrowhead": 0,
           "arrowwidth": 1
          },
          "autotypenumbers": "strict",
          "coloraxis": {
           "colorbar": {
            "outlinewidth": 0,
            "ticks": ""
           }
          },
          "colorscale": {
           "diverging": [
            [
             0,
             "#8e0152"
            ],
            [
             0.1,
             "#c51b7d"
            ],
            [
             0.2,
             "#de77ae"
            ],
            [
             0.3,
             "#f1b6da"
            ],
            [
             0.4,
             "#fde0ef"
            ],
            [
             0.5,
             "#f7f7f7"
            ],
            [
             0.6,
             "#e6f5d0"
            ],
            [
             0.7,
             "#b8e186"
            ],
            [
             0.8,
             "#7fbc41"
            ],
            [
             0.9,
             "#4d9221"
            ],
            [
             1,
             "#276419"
            ]
           ],
           "sequential": [
            [
             0,
             "#0d0887"
            ],
            [
             0.1111111111111111,
             "#46039f"
            ],
            [
             0.2222222222222222,
             "#7201a8"
            ],
            [
             0.3333333333333333,
             "#9c179e"
            ],
            [
             0.4444444444444444,
             "#bd3786"
            ],
            [
             0.5555555555555556,
             "#d8576b"
            ],
            [
             0.6666666666666666,
             "#ed7953"
            ],
            [
             0.7777777777777778,
             "#fb9f3a"
            ],
            [
             0.8888888888888888,
             "#fdca26"
            ],
            [
             1,
             "#f0f921"
            ]
           ],
           "sequentialminus": [
            [
             0,
             "#0d0887"
            ],
            [
             0.1111111111111111,
             "#46039f"
            ],
            [
             0.2222222222222222,
             "#7201a8"
            ],
            [
             0.3333333333333333,
             "#9c179e"
            ],
            [
             0.4444444444444444,
             "#bd3786"
            ],
            [
             0.5555555555555556,
             "#d8576b"
            ],
            [
             0.6666666666666666,
             "#ed7953"
            ],
            [
             0.7777777777777778,
             "#fb9f3a"
            ],
            [
             0.8888888888888888,
             "#fdca26"
            ],
            [
             1,
             "#f0f921"
            ]
           ]
          },
          "colorway": [
           "#636efa",
           "#EF553B",
           "#00cc96",
           "#ab63fa",
           "#FFA15A",
           "#19d3f3",
           "#FF6692",
           "#B6E880",
           "#FF97FF",
           "#FECB52"
          ],
          "font": {
           "color": "#2a3f5f"
          },
          "geo": {
           "bgcolor": "white",
           "lakecolor": "white",
           "landcolor": "#E5ECF6",
           "showlakes": true,
           "showland": true,
           "subunitcolor": "white"
          },
          "hoverlabel": {
           "align": "left"
          },
          "hovermode": "closest",
          "mapbox": {
           "style": "light"
          },
          "paper_bgcolor": "white",
          "plot_bgcolor": "#E5ECF6",
          "polar": {
           "angularaxis": {
            "gridcolor": "white",
            "linecolor": "white",
            "ticks": ""
           },
           "bgcolor": "#E5ECF6",
           "radialaxis": {
            "gridcolor": "white",
            "linecolor": "white",
            "ticks": ""
           }
          },
          "scene": {
           "xaxis": {
            "backgroundcolor": "#E5ECF6",
            "gridcolor": "white",
            "gridwidth": 2,
            "linecolor": "white",
            "showbackground": true,
            "ticks": "",
            "zerolinecolor": "white"
           },
           "yaxis": {
            "backgroundcolor": "#E5ECF6",
            "gridcolor": "white",
            "gridwidth": 2,
            "linecolor": "white",
            "showbackground": true,
            "ticks": "",
            "zerolinecolor": "white"
           },
           "zaxis": {
            "backgroundcolor": "#E5ECF6",
            "gridcolor": "white",
            "gridwidth": 2,
            "linecolor": "white",
            "showbackground": true,
            "ticks": "",
            "zerolinecolor": "white"
           }
          },
          "shapedefaults": {
           "line": {
            "color": "#2a3f5f"
           }
          },
          "ternary": {
           "aaxis": {
            "gridcolor": "white",
            "linecolor": "white",
            "ticks": ""
           },
           "baxis": {
            "gridcolor": "white",
            "linecolor": "white",
            "ticks": ""
           },
           "bgcolor": "#E5ECF6",
           "caxis": {
            "gridcolor": "white",
            "linecolor": "white",
            "ticks": ""
           }
          },
          "title": {
           "x": 0.05
          },
          "xaxis": {
           "automargin": true,
           "gridcolor": "white",
           "linecolor": "white",
           "ticks": "",
           "title": {
            "standoff": 15
           },
           "zerolinecolor": "white",
           "zerolinewidth": 2
          },
          "yaxis": {
           "automargin": true,
           "gridcolor": "white",
           "linecolor": "white",
           "ticks": "",
           "title": {
            "standoff": 15
           },
           "zerolinecolor": "white",
           "zerolinewidth": 2
          }
         }
        },
        "title": {
         "text": "Cumulative Variance"
        },
        "xaxis": {
         "anchor": "y",
         "domain": [
          0,
          1
         ],
         "title": {
          "text": "index"
         }
        },
        "yaxis": {
         "anchor": "x",
         "domain": [
          0,
          1
         ],
         "title": {
          "text": "value"
         }
        }
       }
      }
     },
     "metadata": {},
     "output_type": "display_data"
    }
   ],
   "source": [
    "values, vectors = np.linalg.eig(coin_cov)\n",
    "# print(values)\n",
    "values_cul = np.cumsum(values)\n",
    "# print(values_cul)\n",
    "fig = px.line(values_cul, title='Cumulative Variance')\n",
    "fig.show()"
   ]
  },
  {
   "cell_type": "markdown",
   "metadata": {},
   "source": [
    "#### PCA Operation"
   ]
  },
  {
   "cell_type": "code",
   "execution_count": 26,
   "metadata": {},
   "outputs": [
    {
     "data": {
      "text/html": [
       "<div>\n",
       "<style scoped>\n",
       "    .dataframe tbody tr th:only-of-type {\n",
       "        vertical-align: middle;\n",
       "    }\n",
       "\n",
       "    .dataframe tbody tr th {\n",
       "        vertical-align: top;\n",
       "    }\n",
       "\n",
       "    .dataframe thead th {\n",
       "        text-align: right;\n",
       "    }\n",
       "</style>\n",
       "<table border=\"1\" class=\"dataframe\">\n",
       "  <thead>\n",
       "    <tr style=\"text-align: right;\">\n",
       "      <th></th>\n",
       "      <th>p_change_30d</th>\n",
       "      <th>p_change_60d</th>\n",
       "      <th>p_change_200d</th>\n",
       "      <th>p_change_1y</th>\n",
       "      <th>market_cap_usd</th>\n",
       "      <th>total_supply</th>\n",
       "      <th>circulating_supply</th>\n",
       "      <th>total_followers</th>\n",
       "    </tr>\n",
       "  </thead>\n",
       "  <tbody>\n",
       "    <tr>\n",
       "      <th>0</th>\n",
       "      <td>0.962124</td>\n",
       "      <td>0.186413</td>\n",
       "      <td>-0.359284</td>\n",
       "      <td>-0.119492</td>\n",
       "      <td>6.118392</td>\n",
       "      <td>-0.113551</td>\n",
       "      <td>-0.113520</td>\n",
       "      <td>2.845204</td>\n",
       "    </tr>\n",
       "    <tr>\n",
       "      <th>1</th>\n",
       "      <td>0.814233</td>\n",
       "      <td>0.399890</td>\n",
       "      <td>-0.375094</td>\n",
       "      <td>-0.119319</td>\n",
       "      <td>0.450369</td>\n",
       "      <td>-0.112848</td>\n",
       "      <td>-0.112239</td>\n",
       "      <td>-0.189117</td>\n",
       "    </tr>\n",
       "    <tr>\n",
       "      <th>2</th>\n",
       "      <td>0.014266</td>\n",
       "      <td>-0.400111</td>\n",
       "      <td>-0.277736</td>\n",
       "      <td>-0.114106</td>\n",
       "      <td>0.406726</td>\n",
       "      <td>-0.113550</td>\n",
       "      <td>-0.113518</td>\n",
       "      <td>2.804336</td>\n",
       "    </tr>\n",
       "    <tr>\n",
       "      <th>3</th>\n",
       "      <td>1.219989</td>\n",
       "      <td>0.559773</td>\n",
       "      <td>-0.345157</td>\n",
       "      <td>-0.118164</td>\n",
       "      <td>0.161722</td>\n",
       "      <td>-0.112657</td>\n",
       "      <td>-0.112740</td>\n",
       "      <td>0.739232</td>\n",
       "    </tr>\n",
       "    <tr>\n",
       "      <th>4</th>\n",
       "      <td>-0.497223</td>\n",
       "      <td>-0.044646</td>\n",
       "      <td>-0.419200</td>\n",
       "      <td>-0.118693</td>\n",
       "      <td>0.127664</td>\n",
       "      <td>-0.113149</td>\n",
       "      <td>-0.112998</td>\n",
       "      <td>0.285114</td>\n",
       "    </tr>\n",
       "    <tr>\n",
       "      <th>...</th>\n",
       "      <td>...</td>\n",
       "      <td>...</td>\n",
       "      <td>...</td>\n",
       "      <td>...</td>\n",
       "      <td>...</td>\n",
       "      <td>...</td>\n",
       "      <td>...</td>\n",
       "      <td>...</td>\n",
       "    </tr>\n",
       "    <tr>\n",
       "      <th>74</th>\n",
       "      <td>-1.567381</td>\n",
       "      <td>1.446342</td>\n",
       "      <td>0.499568</td>\n",
       "      <td>-0.114441</td>\n",
       "      <td>-0.128131</td>\n",
       "      <td>-0.113462</td>\n",
       "      <td>-0.113464</td>\n",
       "      <td>-0.211215</td>\n",
       "    </tr>\n",
       "    <tr>\n",
       "      <th>75</th>\n",
       "      <td>-0.682689</td>\n",
       "      <td>3.652471</td>\n",
       "      <td>1.144858</td>\n",
       "      <td>-0.115000</td>\n",
       "      <td>-0.128193</td>\n",
       "      <td>-0.113550</td>\n",
       "      <td>-0.113518</td>\n",
       "      <td>-0.210505</td>\n",
       "    </tr>\n",
       "    <tr>\n",
       "      <th>76</th>\n",
       "      <td>0.450472</td>\n",
       "      <td>0.432371</td>\n",
       "      <td>-0.509508</td>\n",
       "      <td>-0.121086</td>\n",
       "      <td>-0.128354</td>\n",
       "      <td>-0.113549</td>\n",
       "      <td>-0.113517</td>\n",
       "      <td>-0.192888</td>\n",
       "    </tr>\n",
       "    <tr>\n",
       "      <th>77</th>\n",
       "      <td>-0.736446</td>\n",
       "      <td>-1.386965</td>\n",
       "      <td>-0.473475</td>\n",
       "      <td>-0.119363</td>\n",
       "      <td>-0.128391</td>\n",
       "      <td>-0.113551</td>\n",
       "      <td>-0.113519</td>\n",
       "      <td>-0.166270</td>\n",
       "    </tr>\n",
       "    <tr>\n",
       "      <th>78</th>\n",
       "      <td>0.611187</td>\n",
       "      <td>-0.017136</td>\n",
       "      <td>-0.468935</td>\n",
       "      <td>-0.120869</td>\n",
       "      <td>-0.128576</td>\n",
       "      <td>-0.113471</td>\n",
       "      <td>-0.113374</td>\n",
       "      <td>-0.128010</td>\n",
       "    </tr>\n",
       "  </tbody>\n",
       "</table>\n",
       "<p>79 rows × 8 columns</p>\n",
       "</div>"
      ],
      "text/plain": [
       "    p_change_30d  p_change_60d  p_change_200d  p_change_1y  market_cap_usd  \\\n",
       "0       0.962124      0.186413      -0.359284    -0.119492        6.118392   \n",
       "1       0.814233      0.399890      -0.375094    -0.119319        0.450369   \n",
       "2       0.014266     -0.400111      -0.277736    -0.114106        0.406726   \n",
       "3       1.219989      0.559773      -0.345157    -0.118164        0.161722   \n",
       "4      -0.497223     -0.044646      -0.419200    -0.118693        0.127664   \n",
       "..           ...           ...            ...          ...             ...   \n",
       "74     -1.567381      1.446342       0.499568    -0.114441       -0.128131   \n",
       "75     -0.682689      3.652471       1.144858    -0.115000       -0.128193   \n",
       "76      0.450472      0.432371      -0.509508    -0.121086       -0.128354   \n",
       "77     -0.736446     -1.386965      -0.473475    -0.119363       -0.128391   \n",
       "78      0.611187     -0.017136      -0.468935    -0.120869       -0.128576   \n",
       "\n",
       "    total_supply  circulating_supply  total_followers  \n",
       "0      -0.113551           -0.113520         2.845204  \n",
       "1      -0.112848           -0.112239        -0.189117  \n",
       "2      -0.113550           -0.113518         2.804336  \n",
       "3      -0.112657           -0.112740         0.739232  \n",
       "4      -0.113149           -0.112998         0.285114  \n",
       "..           ...                 ...              ...  \n",
       "74     -0.113462           -0.113464        -0.211215  \n",
       "75     -0.113550           -0.113518        -0.210505  \n",
       "76     -0.113549           -0.113517        -0.192888  \n",
       "77     -0.113551           -0.113519        -0.166270  \n",
       "78     -0.113471           -0.113374        -0.128010  \n",
       "\n",
       "[79 rows x 8 columns]"
      ]
     },
     "execution_count": 26,
     "metadata": {},
     "output_type": "execute_result"
    }
   ],
   "source": [
    "coin_pca"
   ]
  },
  {
   "cell_type": "code",
   "execution_count": 27,
   "metadata": {},
   "outputs": [],
   "source": [
    "pca_price = PCA(n_components=2)\n",
    "pca_market = PCA(n_components=1)\n",
    "pca_price.fit(coin_pca.iloc[:, 0:4])\n",
    "pca_market.fit(coin_pca.iloc[:, 4:])\n",
    "price_mvt = pca_price. transform(coin_pca.iloc[:, 0:4]) # the price movement\n",
    "market_mvt = pca_market. transform(coin_pca.iloc[:, 4:]) # the market data\n",
    "# pk.dump(pca_price, open(\"pca_price.pkl\",\"wb\"))\n",
    "# pk.dump(pca_market, open(\"pca_market.pkl\",\"wb\"))\n"
   ]
  },
  {
   "cell_type": "code",
   "execution_count": 28,
   "metadata": {},
   "outputs": [],
   "source": [
    "df1 = pd.DataFrame(data = price_mvt, columns = ['PCA1', 'PCA2'])\n",
    "df2 = pd.DataFrame(data = market_mvt, columns = ['PCA3'])"
   ]
  },
  {
   "cell_type": "code",
   "execution_count": 29,
   "metadata": {},
   "outputs": [],
   "source": [
    "coin_pca = df1.join(df2)"
   ]
  },
  {
   "cell_type": "code",
   "execution_count": 30,
   "metadata": {},
   "outputs": [
    {
     "data": {
      "text/html": [
       "<div>\n",
       "<style scoped>\n",
       "    .dataframe tbody tr th:only-of-type {\n",
       "        vertical-align: middle;\n",
       "    }\n",
       "\n",
       "    .dataframe tbody tr th {\n",
       "        vertical-align: top;\n",
       "    }\n",
       "\n",
       "    .dataframe thead th {\n",
       "        text-align: right;\n",
       "    }\n",
       "</style>\n",
       "<table border=\"1\" class=\"dataframe\">\n",
       "  <thead>\n",
       "    <tr style=\"text-align: right;\">\n",
       "      <th></th>\n",
       "      <th>PCA1</th>\n",
       "      <th>PCA2</th>\n",
       "      <th>PCA3</th>\n",
       "    </tr>\n",
       "  </thead>\n",
       "  <tbody>\n",
       "    <tr>\n",
       "      <th>0</th>\n",
       "      <td>0.519304</td>\n",
       "      <td>-0.807629</td>\n",
       "      <td>0.164609</td>\n",
       "    </tr>\n",
       "    <tr>\n",
       "      <th>1</th>\n",
       "      <td>0.564657</td>\n",
       "      <td>-0.791154</td>\n",
       "      <td>-0.168972</td>\n",
       "    </tr>\n",
       "    <tr>\n",
       "      <th>2</th>\n",
       "      <td>-0.387346</td>\n",
       "      <td>-0.177755</td>\n",
       "      <td>0.086731</td>\n",
       "    </tr>\n",
       "    <tr>\n",
       "      <th>3</th>\n",
       "      <td>0.918231</td>\n",
       "      <td>-0.994946</td>\n",
       "      <td>-0.093039</td>\n",
       "    </tr>\n",
       "    <tr>\n",
       "      <th>4</th>\n",
       "      <td>-0.511062</td>\n",
       "      <td>-0.107663</td>\n",
       "      <td>-0.133099</td>\n",
       "    </tr>\n",
       "    <tr>\n",
       "      <th>...</th>\n",
       "      <td>...</td>\n",
       "      <td>...</td>\n",
       "      <td>...</td>\n",
       "    </tr>\n",
       "    <tr>\n",
       "      <th>74</th>\n",
       "      <td>0.155015</td>\n",
       "      <td>0.754184</td>\n",
       "      <td>-0.179700</td>\n",
       "    </tr>\n",
       "    <tr>\n",
       "      <th>75</th>\n",
       "      <td>2.335227</td>\n",
       "      <td>0.344992</td>\n",
       "      <td>-0.179740</td>\n",
       "    </tr>\n",
       "    <tr>\n",
       "      <th>76</th>\n",
       "      <td>0.322472</td>\n",
       "      <td>-0.720196</td>\n",
       "      <td>-0.178225</td>\n",
       "    </tr>\n",
       "    <tr>\n",
       "      <th>77</th>\n",
       "      <td>-1.540051</td>\n",
       "      <td>0.237483</td>\n",
       "      <td>-0.175936</td>\n",
       "    </tr>\n",
       "    <tr>\n",
       "      <th>78</th>\n",
       "      <td>0.141023</td>\n",
       "      <td>-0.677643</td>\n",
       "      <td>-0.172487</td>\n",
       "    </tr>\n",
       "  </tbody>\n",
       "</table>\n",
       "<p>79 rows × 3 columns</p>\n",
       "</div>"
      ],
      "text/plain": [
       "        PCA1      PCA2      PCA3\n",
       "0   0.519304 -0.807629  0.164609\n",
       "1   0.564657 -0.791154 -0.168972\n",
       "2  -0.387346 -0.177755  0.086731\n",
       "3   0.918231 -0.994946 -0.093039\n",
       "4  -0.511062 -0.107663 -0.133099\n",
       "..       ...       ...       ...\n",
       "74  0.155015  0.754184 -0.179700\n",
       "75  2.335227  0.344992 -0.179740\n",
       "76  0.322472 -0.720196 -0.178225\n",
       "77 -1.540051  0.237483 -0.175936\n",
       "78  0.141023 -0.677643 -0.172487\n",
       "\n",
       "[79 rows x 3 columns]"
      ]
     },
     "execution_count": 30,
     "metadata": {},
     "output_type": "execute_result"
    }
   ],
   "source": [
    "coin_pca"
   ]
  },
  {
   "cell_type": "markdown",
   "metadata": {},
   "source": [
    "### K-Means Clustering"
   ]
  },
  {
   "cell_type": "markdown",
   "metadata": {},
   "source": [
    "#### Finding best value of K using Elbow Method"
   ]
  },
  {
   "cell_type": "code",
   "execution_count": 31,
   "metadata": {},
   "outputs": [
    {
     "data": {
      "text/html": [
       "<div>\n",
       "<style scoped>\n",
       "    .dataframe tbody tr th:only-of-type {\n",
       "        vertical-align: middle;\n",
       "    }\n",
       "\n",
       "    .dataframe tbody tr th {\n",
       "        vertical-align: top;\n",
       "    }\n",
       "\n",
       "    .dataframe thead th {\n",
       "        text-align: right;\n",
       "    }\n",
       "</style>\n",
       "<table border=\"1\" class=\"dataframe\">\n",
       "  <thead>\n",
       "    <tr style=\"text-align: right;\">\n",
       "      <th></th>\n",
       "      <th>PCA1</th>\n",
       "      <th>PCA2</th>\n",
       "      <th>PCA3</th>\n",
       "    </tr>\n",
       "  </thead>\n",
       "  <tbody>\n",
       "    <tr>\n",
       "      <th>0</th>\n",
       "      <td>0.519304</td>\n",
       "      <td>-0.807629</td>\n",
       "      <td>0.164609</td>\n",
       "    </tr>\n",
       "    <tr>\n",
       "      <th>1</th>\n",
       "      <td>0.564657</td>\n",
       "      <td>-0.791154</td>\n",
       "      <td>-0.168972</td>\n",
       "    </tr>\n",
       "    <tr>\n",
       "      <th>2</th>\n",
       "      <td>-0.387346</td>\n",
       "      <td>-0.177755</td>\n",
       "      <td>0.086731</td>\n",
       "    </tr>\n",
       "    <tr>\n",
       "      <th>3</th>\n",
       "      <td>0.918231</td>\n",
       "      <td>-0.994946</td>\n",
       "      <td>-0.093039</td>\n",
       "    </tr>\n",
       "    <tr>\n",
       "      <th>4</th>\n",
       "      <td>-0.511062</td>\n",
       "      <td>-0.107663</td>\n",
       "      <td>-0.133099</td>\n",
       "    </tr>\n",
       "    <tr>\n",
       "      <th>...</th>\n",
       "      <td>...</td>\n",
       "      <td>...</td>\n",
       "      <td>...</td>\n",
       "    </tr>\n",
       "    <tr>\n",
       "      <th>74</th>\n",
       "      <td>0.155015</td>\n",
       "      <td>0.754184</td>\n",
       "      <td>-0.179700</td>\n",
       "    </tr>\n",
       "    <tr>\n",
       "      <th>75</th>\n",
       "      <td>2.335227</td>\n",
       "      <td>0.344992</td>\n",
       "      <td>-0.179740</td>\n",
       "    </tr>\n",
       "    <tr>\n",
       "      <th>76</th>\n",
       "      <td>0.322472</td>\n",
       "      <td>-0.720196</td>\n",
       "      <td>-0.178225</td>\n",
       "    </tr>\n",
       "    <tr>\n",
       "      <th>77</th>\n",
       "      <td>-1.540051</td>\n",
       "      <td>0.237483</td>\n",
       "      <td>-0.175936</td>\n",
       "    </tr>\n",
       "    <tr>\n",
       "      <th>78</th>\n",
       "      <td>0.141023</td>\n",
       "      <td>-0.677643</td>\n",
       "      <td>-0.172487</td>\n",
       "    </tr>\n",
       "  </tbody>\n",
       "</table>\n",
       "<p>79 rows × 3 columns</p>\n",
       "</div>"
      ],
      "text/plain": [
       "        PCA1      PCA2      PCA3\n",
       "0   0.519304 -0.807629  0.164609\n",
       "1   0.564657 -0.791154 -0.168972\n",
       "2  -0.387346 -0.177755  0.086731\n",
       "3   0.918231 -0.994946 -0.093039\n",
       "4  -0.511062 -0.107663 -0.133099\n",
       "..       ...       ...       ...\n",
       "74  0.155015  0.754184 -0.179700\n",
       "75  2.335227  0.344992 -0.179740\n",
       "76  0.322472 -0.720196 -0.178225\n",
       "77 -1.540051  0.237483 -0.175936\n",
       "78  0.141023 -0.677643 -0.172487\n",
       "\n",
       "[79 rows x 3 columns]"
      ]
     },
     "execution_count": 31,
     "metadata": {},
     "output_type": "execute_result"
    }
   ],
   "source": [
    "coin_pca"
   ]
  },
  {
   "cell_type": "code",
   "execution_count": 32,
   "metadata": {},
   "outputs": [
    {
     "name": "stderr",
     "output_type": "stream",
     "text": [
      "c:\\Users\\Jeff\\anaconda3\\envs\\tensorflow-use-2\\lib\\site-packages\\sklearn\\cluster\\_kmeans.py:882: UserWarning:\n",
      "\n",
      "KMeans is known to have a memory leak on Windows with MKL, when there are less chunks than available threads. You can avoid it by setting the environment variable OMP_NUM_THREADS=1.\n",
      "\n"
     ]
    },
    {
     "data": {},
     "metadata": {},
     "output_type": "display_data"
    },
    {
     "data": {
      "application/vnd.holoviews_exec.v0+json": "",
      "text/html": [
       "<div id='1002'>\n",
       "\n",
       "\n",
       "\n",
       "\n",
       "\n",
       "  <div class=\"bk-root\" id=\"1beb3cc4-f87a-42eb-9f62-7c2dd19c62a6\" data-root-id=\"1002\"></div>\n",
       "</div>\n",
       "<script type=\"application/javascript\">(function(root) {\n",
       "  function embed_document(root) {\n",
       "    var docs_json = {\"15a4a573-1503-492f-81a4-1156d66cf7d7\":{\"defs\":[{\"extends\":null,\"module\":null,\"name\":\"ReactiveHTML1\",\"overrides\":[],\"properties\":[]},{\"extends\":null,\"module\":null,\"name\":\"FlexBox1\",\"overrides\":[],\"properties\":[{\"default\":\"flex-start\",\"kind\":null,\"name\":\"align_content\"},{\"default\":\"flex-start\",\"kind\":null,\"name\":\"align_items\"},{\"default\":\"row\",\"kind\":null,\"name\":\"flex_direction\"},{\"default\":\"wrap\",\"kind\":null,\"name\":\"flex_wrap\"},{\"default\":\"flex-start\",\"kind\":null,\"name\":\"justify_content\"}]},{\"extends\":null,\"module\":null,\"name\":\"TemplateActions1\",\"overrides\":[],\"properties\":[{\"default\":0,\"kind\":null,\"name\":\"open_modal\"},{\"default\":0,\"kind\":null,\"name\":\"close_modal\"}]},{\"extends\":null,\"module\":null,\"name\":\"MaterialTemplateActions1\",\"overrides\":[],\"properties\":[{\"default\":0,\"kind\":null,\"name\":\"open_modal\"},{\"default\":0,\"kind\":null,\"name\":\"close_modal\"}]}],\"roots\":{\"references\":[{\"attributes\":{\"children\":[{\"id\":\"1003\"},{\"id\":\"1007\"},{\"id\":\"1073\"}],\"margin\":[0,0,0,0],\"name\":\"Row01682\",\"tags\":[\"embedded\"]},\"id\":\"1002\",\"type\":\"Row\"},{\"attributes\":{},\"id\":\"1047\",\"type\":\"AllLabels\"},{\"attributes\":{\"data\":{\"k\":[1,2,3,4,5,6,7,8,9,10],\"wcss\":{\"__ndarray__\":\"66dhF722dUAlev75WFNjQPjLNBkJcVdAO2KaThSMTEAr6vItOflDQFOygb+QED1AfmFOuCxFNUCFReKS4FQwQHJ6nIZAMCtAiJ3Llvw6JUA=\",\"dtype\":\"float64\",\"order\":\"little\",\"shape\":[10]}},\"selected\":{\"id\":\"1038\"},\"selection_policy\":{\"id\":\"1061\"}},\"id\":\"1037\",\"type\":\"ColumnDataSource\"},{\"attributes\":{\"active_multi\":null,\"tools\":[{\"id\":\"1006\"},{\"id\":\"1024\"},{\"id\":\"1025\"},{\"id\":\"1026\"},{\"id\":\"1027\"},{\"id\":\"1028\"}]},\"id\":\"1030\",\"type\":\"Toolbar\"},{\"attributes\":{\"below\":[{\"id\":\"1016\"}],\"center\":[{\"id\":\"1019\"},{\"id\":\"1023\"}],\"height\":300,\"left\":[{\"id\":\"1020\"}],\"margin\":[5,5,5,5],\"min_border_bottom\":10,\"min_border_left\":10,\"min_border_right\":10,\"min_border_top\":10,\"renderers\":[{\"id\":\"1043\"}],\"sizing_mode\":\"fixed\",\"title\":{\"id\":\"1008\"},\"toolbar\":{\"id\":\"1030\"},\"width\":700,\"x_range\":{\"id\":\"1004\"},\"x_scale\":{\"id\":\"1012\"},\"y_range\":{\"id\":\"1005\"},\"y_scale\":{\"id\":\"1014\"}},\"id\":\"1007\",\"subtype\":\"Figure\",\"type\":\"Plot\"},{\"attributes\":{\"text\":\"Elbow Curve\",\"text_color\":\"black\",\"text_font_size\":\"12pt\"},\"id\":\"1008\",\"type\":\"Title\"},{\"attributes\":{\"margin\":[5,5,5,5],\"name\":\"HSpacer01687\",\"sizing_mode\":\"stretch_width\"},\"id\":\"1073\",\"type\":\"Spacer\"},{\"attributes\":{},\"id\":\"1012\",\"type\":\"LinearScale\"},{\"attributes\":{\"bottom_units\":\"screen\",\"fill_alpha\":0.5,\"fill_color\":\"lightgrey\",\"left_units\":\"screen\",\"level\":\"overlay\",\"line_alpha\":1.0,\"line_color\":\"black\",\"line_dash\":[4,4],\"line_width\":2,\"right_units\":\"screen\",\"syncable\":false,\"top_units\":\"screen\"},\"id\":\"1029\",\"type\":\"BoxAnnotation\"},{\"attributes\":{},\"id\":\"1014\",\"type\":\"LinearScale\"},{\"attributes\":{\"axis_label\":\"k\",\"formatter\":{\"id\":\"1049\"},\"major_label_policy\":{\"id\":\"1047\"},\"ticker\":{\"id\":\"1046\"}},\"id\":\"1016\",\"type\":\"LinearAxis\"},{\"attributes\":{\"line_alpha\":0.2,\"line_color\":\"#30a2da\",\"line_width\":2,\"x\":{\"field\":\"k\"},\"y\":{\"field\":\"wcss\"}},\"id\":\"1042\",\"type\":\"Line\"},{\"attributes\":{},\"id\":\"1038\",\"type\":\"Selection\"},{\"attributes\":{},\"id\":\"1052\",\"type\":\"AllLabels\"},{\"attributes\":{\"line_alpha\":0.1,\"line_color\":\"#30a2da\",\"line_width\":2,\"x\":{\"field\":\"k\"},\"y\":{\"field\":\"wcss\"}},\"id\":\"1041\",\"type\":\"Line\"},{\"attributes\":{\"data_source\":{\"id\":\"1037\"},\"glyph\":{\"id\":\"1040\"},\"hover_glyph\":null,\"muted_glyph\":{\"id\":\"1042\"},\"nonselection_glyph\":{\"id\":\"1041\"},\"selection_glyph\":{\"id\":\"1045\"},\"view\":{\"id\":\"1044\"}},\"id\":\"1043\",\"type\":\"GlyphRenderer\"},{\"attributes\":{\"axis\":{\"id\":\"1016\"},\"grid_line_color\":null,\"ticker\":null},\"id\":\"1019\",\"type\":\"Grid\"},{\"attributes\":{\"line_color\":\"#30a2da\",\"line_width\":2,\"x\":{\"field\":\"k\"},\"y\":{\"field\":\"wcss\"}},\"id\":\"1040\",\"type\":\"Line\"},{\"attributes\":{\"source\":{\"id\":\"1037\"}},\"id\":\"1044\",\"type\":\"CDSView\"},{\"attributes\":{\"axis_label\":\"wcss\",\"formatter\":{\"id\":\"1054\"},\"major_label_policy\":{\"id\":\"1052\"},\"ticker\":{\"id\":\"1021\"}},\"id\":\"1020\",\"type\":\"LinearAxis\"},{\"attributes\":{},\"id\":\"1021\",\"type\":\"BasicTicker\"},{\"attributes\":{\"axis\":{\"id\":\"1020\"},\"dimension\":1,\"grid_line_color\":null,\"ticker\":null},\"id\":\"1023\",\"type\":\"Grid\"},{\"attributes\":{\"end\":381.10176052892666,\"reset_end\":381.10176052892666,\"reset_start\":-23.065387301021502,\"start\":-23.065387301021502,\"tags\":[[[\"wcss\",\"wcss\",null]]]},\"id\":\"1005\",\"type\":\"Range1d\"},{\"attributes\":{\"line_color\":\"#30a2da\",\"line_width\":2,\"x\":{\"field\":\"k\"},\"y\":{\"field\":\"wcss\"}},\"id\":\"1045\",\"type\":\"Line\"},{\"attributes\":{\"margin\":[5,5,5,5],\"name\":\"HSpacer01686\",\"sizing_mode\":\"stretch_width\"},\"id\":\"1003\",\"type\":\"Spacer\"},{\"attributes\":{},\"id\":\"1024\",\"type\":\"SaveTool\"},{\"attributes\":{\"ticks\":[1,2,3,4,5,6,7,8,9,10]},\"id\":\"1046\",\"type\":\"FixedTicker\"},{\"attributes\":{},\"id\":\"1061\",\"type\":\"UnionRenderers\"},{\"attributes\":{},\"id\":\"1049\",\"type\":\"BasicTickFormatter\"},{\"attributes\":{},\"id\":\"1025\",\"type\":\"PanTool\"},{\"attributes\":{\"end\":10.0,\"reset_end\":10.0,\"reset_start\":1.0,\"start\":1.0,\"tags\":[[[\"k\",\"k\",null]]]},\"id\":\"1004\",\"type\":\"Range1d\"},{\"attributes\":{},\"id\":\"1026\",\"type\":\"WheelZoomTool\"},{\"attributes\":{},\"id\":\"1054\",\"type\":\"BasicTickFormatter\"},{\"attributes\":{\"overlay\":{\"id\":\"1029\"}},\"id\":\"1027\",\"type\":\"BoxZoomTool\"},{\"attributes\":{\"callback\":null,\"renderers\":[{\"id\":\"1043\"}],\"tags\":[\"hv_created\"],\"tooltips\":[[\"k\",\"@{k}\"],[\"wcss\",\"@{wcss}\"]]},\"id\":\"1006\",\"type\":\"HoverTool\"},{\"attributes\":{},\"id\":\"1028\",\"type\":\"ResetTool\"}],\"root_ids\":[\"1002\"]},\"title\":\"Bokeh Application\",\"version\":\"2.3.3\"}};\n",
       "    var render_items = [{\"docid\":\"15a4a573-1503-492f-81a4-1156d66cf7d7\",\"root_ids\":[\"1002\"],\"roots\":{\"1002\":\"1beb3cc4-f87a-42eb-9f62-7c2dd19c62a6\"}}];\n",
       "    root.Bokeh.embed.embed_items_notebook(docs_json, render_items);\n",
       "  }\n",
       "  if (root.Bokeh !== undefined && root.Bokeh.Panel !== undefined) {\n",
       "    embed_document(root);\n",
       "  } else {\n",
       "    var attempts = 0;\n",
       "    var timer = setInterval(function(root) {\n",
       "      if (root.Bokeh !== undefined && root.Bokeh.Panel !== undefined) {\n",
       "        clearInterval(timer);\n",
       "        embed_document(root);\n",
       "      } else if (document.readyState == \"complete\") {\n",
       "        attempts++;\n",
       "        if (attempts > 200) {\n",
       "          clearInterval(timer);\n",
       "          console.log(\"Bokeh: ERROR: Unable to run BokehJS code because BokehJS library is missing\");\n",
       "        }\n",
       "      }\n",
       "    }, 25, root)\n",
       "  }\n",
       "})(window);</script>"
      ],
      "text/plain": [
       ":Curve   [k]   (wcss)"
      ]
     },
     "execution_count": 32,
     "metadata": {
      "application/vnd.holoviews_exec.v0+json": {
       "id": "1002"
      }
     },
     "output_type": "execute_result"
    }
   ],
   "source": [
    "wcss = []\n",
    "k = list(range(1, 11))\n",
    "\n",
    "# Calculate the wcss for the range of k values\n",
    "for i in k:\n",
    "    km = KMeans(n_clusters=i, init='k-means++', random_state=2)\n",
    "    km.fit(coin_pca)\n",
    "    wcss.append(km.inertia_)\n",
    "\n",
    "# Create the Elbow Curve using hvPlot\n",
    "elbow_data = {\"k\": k, \"wcss\": wcss}\n",
    "df_elbow = pd.DataFrame(elbow_data)\n",
    "df_elbow.hvplot.line(x=\"k\", y=\"wcss\", xticks=k, title=\"Elbow Curve\")"
   ]
  },
  {
   "cell_type": "markdown",
   "metadata": {},
   "source": [
    "#### The Best Value for `k` is 6 using the elbow curve"
   ]
  },
  {
   "cell_type": "code",
   "execution_count": 33,
   "metadata": {},
   "outputs": [],
   "source": [
    "model = KMeans(n_clusters=6, init='k-means++', random_state=0)\n",
    "# Fit the model\n",
    "model.fit(coin_pca)\n",
    "# Predict clusters\n",
    "predictions = model.predict(coin_pca)\n",
    "\n",
    "coin_pca['class'] = model.labels_"
   ]
  },
  {
   "cell_type": "code",
   "execution_count": 34,
   "metadata": {},
   "outputs": [],
   "source": [
    "coin_class = coin_pca.join(coin_supp, how='outer')"
   ]
  },
  {
   "cell_type": "markdown",
   "metadata": {},
   "source": [
    "### Visualization"
   ]
  },
  {
   "cell_type": "code",
   "execution_count": 35,
   "metadata": {},
   "outputs": [
    {
     "data": {
      "application/vnd.plotly.v1+json": {
       "config": {
        "plotlyServerURL": "https://plot.ly"
       },
       "data": [
        {
         "customdata": [
          [
           2.5197700000000003,
           -4.58115,
           5.41309,
           -7.70834,
           839265356719
          ],
          [
           0.05774,
           0.24979,
           -0.12995,
           0.07017000000000001,
           78725451792
          ],
          [
           6.8126,
           3.8679,
           10.36575,
           51.95091,
           39994506432
          ],
          [
           0.15457,
           0.18505,
           -0.75439,
           0.12775,
           17851223575
          ],
          [
           5.28638,
           -6.39757,
           283.09245,
           469.16191,
           12401057439
          ],
          [
           0.09922,
           0.19399999999999998,
           -0.49283000000000005,
           1.23738,
           11690858379
          ],
          [
           0.014119999999999999,
           -0.00009,
           -0.39366999999999996,
           -0.17861,
           9984332159
          ],
          [
           -11.215869999999999,
           -9.65952,
           -10.75445,
           -37.25172,
           9075063387
          ],
          [
           -4.47356,
           -16.41168,
           5.6426099999999995,
           32.13386,
           6809685447
          ],
          [
           0.8839899999999999,
           24.70191,
           33.865140000000004,
           132.72974,
           6477039965
          ],
          [
           -6.231330000000001,
           -18.55655,
           28.739420000000003,
           75.56189,
           5908099282
          ],
          [
           6.63417,
           7.970439999999999,
           366.74066,
           1020.50875,
           5050653818
          ],
          [
           -7.42219,
           2.27673,
           19.85802,
           79.28278,
           5033446616
          ],
          [
           0.70675,
           -5.6788099999999995,
           -36.17615,
           123.38217,
           4356426778
          ],
          [
           -1.19739,
           -24.60959,
           119.94971000000001,
           37.98075,
           4223714261
          ],
          [
           -5.87119,
           -2.29886,
           -33.865120000000005,
           17.127470000000002,
           3975028598
          ],
          [
           -13.07998,
           -5.50211,
           170.57869,
           872.12995,
           3787526079
          ],
          [
           -6.28294,
           -19.12816,
           28.41113,
           77.33924,
           3247495606
          ],
          [
           0.20961,
           0.42313999999999996,
           0.90395,
           3.2223,
           2959570169
          ],
          [
           -0.82099,
           -0.27846,
           -0.78071,
           1.05043,
           2654313697
          ],
          [
           0.19669,
           0.39087,
           1.30063,
           3.8154199999999996,
           2637410118
          ],
          [
           -2.53353,
           -12.60707,
           -68.36827,
           -60.73819,
           2459669983
          ],
          [
           -5.78794,
           -10.46948,
           -27.084640000000004,
           -13.87788,
           1918541514
          ],
          [
           0.8969799999999999,
           -5.59955,
           4.8682099999999995,
           -8.49427,
           1748310358
          ],
          [
           -1.38671,
           -2.48428,
           -40.66217,
           -39.84237,
           1741972076
          ],
          [
           -2.36554,
           -3.41917,
           103.79541,
           790.8890200000001,
           1575741535
          ],
          [
           -0.5532600000000001,
           -0.12866,
           -7.62553,
           -17.91408,
           1553573019
          ],
          [
           -0.038669999999999996,
           0.060320000000000006,
           -0.40769,
           0.17401,
           1490273771
          ],
          [
           6.64705,
           -8.439739999999999,
           -45.19052,
           -37.85029,
           1457911491
          ],
          [
           -8.75872,
           -4.2301,
           15.291520000000002,
           27.99503,
           1200982043
          ],
          [
           -5.9980199999999995,
           0.9848299999999999,
           -47.25438,
           -79.32838000000001,
           1071806195
          ],
          [
           -3.32249,
           -9.18741,
           -33.02975,
           -69.55319,
           1042124127
          ]
         ],
         "hovertemplate": "<b>%{hovertext}</b><br><br>class=%{marker.color}<br>PCA1=%{x}<br>PCA2=%{y}<br>PCA3=%{z}<br>p_change_30d=%{customdata[0]}<br>p_change_60d=%{customdata[1]}<br>p_change_200d=%{customdata[2]}<br>p_change_1y=%{customdata[3]}<br>market_cap_usd=%{customdata[4]}<extra></extra>",
         "hovertext": [
          "Bitcoin",
          "Tether",
          "XRP",
          "Binance USD",
          "Crypto.com Coin",
          "TerraUSD",
          "Dai",
          "Litecoin",
          "TRON",
          "FTX Token",
          "Lido Staked Ether",
          "Decentraland",
          "Hedera",
          "Ethereum Classic",
          "Elrond",
          "Theta Network",
          "ECOMI",
          "cETH",
          "cDAI",
          "Frax",
          "cUSDC",
          "Flow",
          "Maker",
          "Huobi BTC",
          "NEO",
          "KuCoin Token",
          "Huobi Token",
          "TrueUSD",
          "Celsius Network",
          "NEXO",
          "Synthetix Network Token",
          "NEM"
         ],
         "legendgroup": "3",
         "marker": {
          "color": [
           3,
           3,
           3,
           3,
           3,
           3,
           3,
           3,
           3,
           3,
           3,
           3,
           3,
           3,
           3,
           3,
           3,
           3,
           3,
           3,
           3,
           3,
           3,
           3,
           3,
           3,
           3,
           3,
           3,
           3,
           3,
           3
          ],
          "coloraxis": "coloraxis",
          "symbol": "circle"
         },
         "mode": "markers",
         "name": "3",
         "scene": "scene",
         "showlegend": true,
         "type": "scatter3d",
         "x": [
          0.5193044154097931,
          0.5646572953620902,
          0.9182310979106512,
          0.5655923371519782,
          0.8536564269942248,
          0.5641661873141665,
          0.5556984520195016,
          -0.1286669005909124,
          -0.06579891832660861,
          1.328720655530683,
          -0.16529122778168454,
          1.4018831757324315,
          0.3790253608566221,
          0.3820464810962965,
          -0.06688504741826762,
          0.24752809977329562,
          0.11686106229522525,
          -0.18378136729392297,
          0.5760698694047998,
          0.5178046341950118,
          0.5751016037933504,
          0.03498412351951574,
          0.02364301544929491,
          0.4322097631947897,
          0.39351254650664735,
          0.48638738871315235,
          0.5243988936710076,
          0.5555456584803,
          0.5028899772363893,
          0.14067600997069948,
          0.32247222706416373,
          0.14102283914629182
         ],
         "y": [
          -0.8076287735083991,
          -0.7911535854948062,
          -0.9949458029330984,
          -0.7946089671716091,
          -0.30567086748528555,
          -0.7925646358927991,
          -0.7882196357707073,
          -0.4022213119755058,
          -0.5014490729897001,
          -0.962041443302476,
          -0.38503839215155694,
          -0.29729893774912164,
          -0.5538752261140135,
          -0.8284283474037089,
          -0.29186788226941357,
          -0.6666245446191844,
          -0.010389250632870009,
          -0.3791262631231712,
          -0.7949224922354825,
          -0.7626072138577196,
          -0.7934597568653268,
          -0.741012941281379,
          -0.5830900101212905,
          -0.7532335239462398,
          -0.8076728484770445,
          -0.47114867545313316,
          -0.7856075242025443,
          -0.7872695015422381,
          -0.9938651425027112,
          -0.4675729717444336,
          -0.7201956320986215,
          -0.6776428410713032
         ],
         "z": [
          0.16460878086377126,
          -0.16897172667887483,
          -0.09303892548141746,
          -0.18151051921092726,
          -0.12201660196160938,
          -0.172799271188019,
          -0.17614359480620784,
          -0.16594721561688486,
          -0.17815384127257358,
          -0.16564316751519312,
          -0.18195207229054536,
          -0.1648237200954103,
          -0.17610298341355685,
          -0.16258153191574412,
          -0.16906934262078965,
          -0.17543956145938486,
          -0.16736330078099285,
          -0.17704660434387687,
          -0.17467030178016285,
          -0.18308861449948183,
          -0.17530094569919977,
          -0.17973070575727054,
          -0.17710452232050725,
          -0.15431772285050813,
          -0.1671295028050269,
          -0.13372828415095458,
          -0.15430643657630327,
          -0.18349893793832947,
          -0.1764641587049411,
          -0.1778127500989975,
          -0.17822487907200774,
          -0.1724872821557955
         ]
        },
        {
         "customdata": [
          [
           -13.25981,
           -17.85405,
           34.00305,
           234.28902999999997,
           72869407075
          ],
          [
           -21.77488,
           -9.80997,
           -15.593060000000001,
           28.1804,
           35424506748
          ],
          [
           -30.069229999999997,
           -41.14747,
           220.77086,
           1069.36435,
           33126752703
          ],
          [
           -33.34984,
           -12.167119999999999,
           434.10779,
           967.40045,
           23032764548
          ],
          [
           -28.378740000000004,
           -19.780739999999998,
           25.80152,
           -28.24553,
           21586398554
          ],
          [
           -21.77848,
           -14.569379999999999,
           72.51902,
           1610.25615,
           12546602723
          ],
          [
           -32.535270000000004,
           -5.861280000000001,
           -22.72346,
           -46.95319,
           8070686472
          ],
          [
           -30.73337,
           -26.649379999999997,
           16.37564,
           -26.406370000000003,
           6567741349
          ],
          [
           -12.80235,
           -20.54436,
           -38.65615,
           -51.955,
           6446428571
          ],
          [
           -15.58123,
           -14.36464,
           -21.58938,
           -55.415369999999996,
           5469234185
          ],
          [
           -36.656859999999995,
           -24.73637,
           -46.257459999999995,
           -43.532109999999996,
           5161574085
          ],
          [
           -19.65564,
           -31.66018,
           49.83565,
           3082.3305100000002,
           4617906843
          ],
          [
           -22.660439999999998,
           -24.97652,
           -28.9784,
           19.790210000000002,
           4065679770
          ],
          [
           -26.591359999999998,
           -37.41277,
           -56.42,
           -47.80255,
           3634244307
          ],
          [
           -17.193270000000002,
           -17.441489999999998,
           -18.30975,
           -77.06264,
           3010684171
          ],
          [
           -19.409760000000002,
           -19.93078,
           89.77338,
           587.76689,
           2726134780
          ],
          [
           -19.70824,
           -18.41913,
           10.38091,
           -27.768720000000002,
           2531435009
          ],
          [
           -29.127470000000002,
           -6.27789,
           -46.54166,
           -62.136669999999995,
           2330215657
          ],
          [
           -44.60648,
           -3.64515,
           154.0351,
           537.61231,
           2277444328
          ],
          [
           -38.07262,
           -37.97808,
           -42.59881,
           48.971340000000005,
           2106847046
          ],
          [
           -21.05387,
           -14.2021,
           37.76439,
           282.07755,
           1856883322
          ],
          [
           -21.17192,
           -27.35792,
           0.41105,
           216.64068999999998,
           1782568256
          ],
          [
           -28.09023,
           -26.019270000000002,
           213.24022000000002,
           386.66157999999996,
           1774386086
          ],
          [
           -27.2272,
           -26.736320000000003,
           27.25692,
           126.47946,
           1650531139
          ],
          [
           -37.25713,
           -37.19944,
           -10.63463,
           -7.590960000000001,
           1565686432
          ],
          [
           -12.46755,
           -17.47994,
           11.79619,
           -21.584,
           1503860800
          ],
          [
           -24.67438,
           -35.70369,
           -57.5648,
           -12.746739999999999,
           1500304017
          ],
          [
           -29.395559999999996,
           -28.74925,
           -29.31355,
           14.89281,
           1341886372
          ],
          [
           -19.82023,
           -27.021109999999997,
           38.521679999999996,
           58.07499,
           1269814377
          ],
          [
           -38.06279,
           -19.08156,
           13.61179,
           -24.0512,
           1265091720
          ],
          [
           -38.69576,
           -26.380509999999997,
           85.16528000000001,
           16.400679999999998,
           1240693951
          ],
          [
           -28.0427,
           -52.439969999999995,
           295.00001000000003,
           36.56395,
           1223855324
          ],
          [
           -18.40466,
           -17.93309,
           -17.024079999999998,
           541.10153,
           1178795502
          ],
          [
           -21.60526,
           -15.9866,
           -34.831720000000004,
           -57.86175,
           1144242477
          ],
          [
           -25.75737,
           -40.18632,
           -34.62169,
           -1.8992900000000001,
           1066885313
          ]
         ],
         "hovertemplate": "<b>%{hovertext}</b><br><br>class=%{marker.color}<br>PCA1=%{x}<br>PCA2=%{y}<br>PCA3=%{z}<br>p_change_30d=%{customdata[0]}<br>p_change_60d=%{customdata[1]}<br>p_change_200d=%{customdata[2]}<br>p_change_1y=%{customdata[3]}<br>market_cap_usd=%{customdata[4]}<extra></extra>",
         "hovertext": [
          "BNB",
          "Cardano",
          "Solana",
          "Terra",
          "Polkadot",
          "Polygon",
          "Chainlink",
          "Algorand",
          "Bitcoin Cash",
          "Stellar",
          "Uniswap",
          "Axie Infinity",
          "VeChain",
          "Filecoin",
          "The Graph",
          "Helium",
          "IOTA",
          "Aave",
          "Harmony",
          "BitTorrent [OLD]",
          "Enjin Coin",
          "Quant",
          "Arweave",
          "Stacks",
          "Kusama",
          "Zcash",
          "Amp",
          "THORChain",
          "Basic Attention Token",
          "Celo",
          "Curve DAO Token",
          "Loopring",
          "Chiliz",
          "Dash",
          "Waves"
         ],
         "legendgroup": "1",
         "marker": {
          "color": [
           1,
           1,
           1,
           1,
           1,
           1,
           1,
           1,
           1,
           1,
           1,
           1,
           1,
           1,
           1,
           1,
           1,
           1,
           1,
           1,
           1,
           1,
           1,
           1,
           1,
           1,
           1,
           1,
           1,
           1,
           1,
           1,
           1,
           1,
           1
          ],
          "coloraxis": "coloraxis",
          "symbol": "diamond"
         },
         "mode": "markers",
         "name": "1",
         "scene": "scene",
         "showlegend": true,
         "type": "scatter3d",
         "x": [
          -0.3873460790175811,
          -0.5110619915657583,
          -1.4502834875303439,
          -0.5197443118538527,
          -0.9876744082012938,
          -0.5454069215299224,
          -0.7867707253050615,
          -1.276992248215123,
          -0.5246914181799422,
          -0.42887286766680266,
          -1.4962890737380976,
          -0.9715066974930149,
          -0.9897412931864829,
          -1.5129753524011964,
          -0.5706558306932348,
          -0.6045296753196368,
          -0.6577906315217961,
          -0.7026554345545821,
          -0.9649242579000252,
          -1.92048657903292,
          -0.5545182327172917,
          -0.9735696105641388,
          -0.9604625853917843,
          -1.143152103966346,
          -1.8369820852152778,
          -0.373254324992383,
          -1.3972144637374382,
          -1.3362711183533917,
          -0.8781520809460444,
          -1.3228094001266721,
          -1.4801347110137937,
          -1.6326683689495805,
          -0.6217901787684406,
          -0.7019882433179137,
          -1.540051448697893
         ],
         "y": [
          -0.17775494875036776,
          -0.10766326567427743,
          0.8959235565450272,
          1.161480120625162,
          0.25281725585497156,
          0.12936890368651366,
          0.1501173058891988,
          0.36225093005211684,
          -0.3165338558087017,
          -0.2575001659836223,
          0.38835598250131487,
          0.19047996473530784,
          0.025330808192511975,
          0.1922740584487275,
          -0.1776400355564083,
          0.13299710980346624,
          -0.038578932384170844,
          0.008072776085293637,
          0.8386835270506354,
          0.554880250553144,
          0.021025092079463407,
          0.0652456157097851,
          0.6823739315230959,
          0.28623323463364636,
          0.5884626911683629,
          -0.25128265034658404,
          0.12028263586593185,
          0.2509232179337966,
          0.0987012143830219,
          0.4993004072584543,
          0.7269687614941802,
          1.0768044101030718,
          -0.12936530402179583,
          -0.09736868211690738,
          0.23748256440558513
         ],
         "z": [
          0.0867313185384319,
          -0.13309934370806276,
          -0.13135210733319433,
          -0.17087812277361147,
          -0.14480513728451017,
          -0.1433724093511494,
          -0.15761882365465607,
          -0.17419966346768018,
          -0.1585943969379229,
          -0.15371099112415681,
          -0.15574857011102944,
          -0.15557883137018252,
          -0.15841319927098887,
          -0.17978268263350308,
          -0.176864250780887,
          -0.17673271024469747,
          -0.1715744189093943,
          -0.17038680648704152,
          -0.1715247471456542,
          -0.1575722527298769,
          -0.1671422852549205,
          -0.18144081236197343,
          -0.18249176158216138,
          -0.18051653673900375,
          -0.17717709656637493,
          -0.1809899702580833,
          -0.18038350244163784,
          -0.1796362702315314,
          -0.17363869943559118,
          -0.1799404466506296,
          -0.1759403783935046,
          -0.17558851396475667,
          -0.17078997137960447,
          -0.16973770675865946,
          -0.17593636814485614
         ]
        },
        {
         "customdata": [
          [
           3.6250400000000003,
           -14.317979999999999,
           638.73295,
           151.90801000000002,
           23513140117
          ],
          [
           -43.18249,
           35.41557,
           389.81295,
           187.61003,
           7271491454
          ],
          [
           -36.68605,
           47.96417,
           725.2864900000001,
           1096.8111199999998,
           5300297896
          ],
          [
           -12.26446,
           -13.77718,
           555.0697200000001,
           1704.3598,
           4670427937
          ],
          [
           3.96063,
           -24.58148,
           1479.28799,
           2404.9821899999997,
           2579207428
          ],
          [
           -27.74121,
           72.80037,
           769.1103099999999,
           225.78772,
           1656181430
          ],
          [
           -39.59046,
           23.93073,
           306.52067,
           219.25587000000002,
           1101803382
          ],
          [
           -24.86245,
           73.8549,
           532.7548099999999,
           194.12872,
           1093429921
          ]
         ],
         "hovertemplate": "<b>%{hovertext}</b><br><br>class=%{marker.color}<br>PCA1=%{x}<br>PCA2=%{y}<br>PCA3=%{z}<br>p_change_30d=%{customdata[0]}<br>p_change_60d=%{customdata[1]}<br>p_change_200d=%{customdata[2]}<br>p_change_1y=%{customdata[3]}<br>market_cap_usd=%{customdata[4]}<extra></extra>",
         "hovertext": [
          "Avalanche",
          "Near",
          "Fantom",
          "The Sandbox",
          "Gala",
          "Frax Share",
          "Oasis Network",
          "Secret"
         ],
         "legendgroup": "5",
         "marker": {
          "color": [
           5,
           5,
           5,
           5,
           5,
           5,
           5,
           5
          ],
          "coloraxis": "coloraxis",
          "symbol": "square"
         },
         "mode": "markers",
         "name": "5",
         "scene": "scene",
         "showlegend": true,
         "type": "scatter3d",
         "x": [
          0.9311201192897927,
          0.4414692265830741,
          1.3808549276569875,
          0.309723834791634,
          1.5284128660515173,
          2.445994425427527,
          0.15501471915889709,
          2.3352268859478937
         ],
         "y": [
          0.5259405683950137,
          0.9226036274720173,
          1.3113597439805744,
          0.8239812374700474,
          2.3265601118459887,
          0.9136897226397519,
          0.7541841265848559,
          0.3449920755301392
         ],
         "z": [
          -0.16268597836957827,
          -0.1739625447508532,
          -0.17111765193649817,
          -0.15795215364134352,
          -0.17398167249499147,
          -0.18323128748200893,
          -0.1797003511588227,
          -0.1797400992533739
         ]
        },
        {
         "customdata": [
          [
           1.40333,
           -0.74864,
           394.25566000000003,
           402171.27586,
           17077098096
          ]
         ],
         "hovertemplate": "<b>%{hovertext}</b><br><br>class=%{marker.color}<br>PCA1=%{x}<br>PCA2=%{y}<br>PCA3=%{z}<br>p_change_30d=%{customdata[0]}<br>p_change_60d=%{customdata[1]}<br>p_change_200d=%{customdata[2]}<br>p_change_1y=%{customdata[3]}<br>market_cap_usd=%{customdata[4]}<extra></extra>",
         "hovertext": [
          "Shiba Inu"
         ],
         "legendgroup": "2",
         "marker": {
          "color": [
           2
          ],
          "coloraxis": "coloraxis",
          "symbol": "x"
         },
         "mode": "markers",
         "name": "2",
         "scene": "scene",
         "showlegend": true,
         "type": "scatter3d",
         "x": [
          3.8906211501762296
         ],
         "y": [
          4.292217546893222
         ],
         "z": [
          12.522610479111558
         ]
        },
        {
         "customdata": [
          [
           51.708220000000004,
           59.46396,
           92.20095,
           289.17067000000003,
           5386082099
          ],
          [
           26.405409999999996,
           16.044829999999997,
           -31.02246,
           279.6969,
           1886178774
          ]
         ],
         "hovertemplate": "<b>%{hovertext}</b><br><br>class=%{marker.color}<br>PCA1=%{x}<br>PCA2=%{y}<br>PCA3=%{z}<br>p_change_30d=%{customdata[0]}<br>p_change_60d=%{customdata[1]}<br>p_change_200d=%{customdata[2]}<br>p_change_1y=%{customdata[3]}<br>market_cap_usd=%{customdata[4]}<extra></extra>",
         "hovertext": [
          "LEO Token",
          "Theta Fuel"
         ],
         "legendgroup": "0",
         "marker": {
          "color": [
           0,
           0
          ],
          "coloraxis": "coloraxis",
          "symbol": "cross"
         },
         "mode": "markers",
         "name": "0",
         "scene": "scene",
         "showlegend": true,
         "type": "scatter3d",
         "x": [
          4.181692184937329,
          1.9187294686864416
         ],
         "y": [
          -2.606481328710821,
          -1.7450092857104087
         ],
         "z": [
          -0.15691813101122729,
          -0.1756220924863243
         ]
        },
        {
         "customdata": [
          [
           -7.169969999999999,
           -25.15326,
           2372.09894,
           1916.44493,
           1393874010
          ]
         ],
         "hovertemplate": "<b>%{hovertext}</b><br><br>class=%{marker.color}<br>PCA1=%{x}<br>PCA2=%{y}<br>PCA3=%{z}<br>p_change_30d=%{customdata[0]}<br>p_change_60d=%{customdata[1]}<br>p_change_200d=%{customdata[2]}<br>p_change_1y=%{customdata[3]}<br>market_cap_usd=%{customdata[4]}<extra></extra>",
         "hovertext": [
          "Kadena"
         ],
         "legendgroup": "4",
         "marker": {
          "color": [
           4
          ],
          "coloraxis": "coloraxis",
          "symbol": "circle"
         },
         "mode": "markers",
         "name": "4",
         "scene": "scene",
         "showlegend": true,
         "type": "scatter3d",
         "x": [
          2.0308922965767557
         ],
         "y": [
          4.445267383657563
         ],
         "z": [
          -0.17940980538575463
         ]
        }
       ],
       "layout": {
        "coloraxis": {
         "colorbar": {
          "title": {
           "text": "class"
          }
         },
         "colorscale": [
          [
           0,
           "#0d0887"
          ],
          [
           0.1111111111111111,
           "#46039f"
          ],
          [
           0.2222222222222222,
           "#7201a8"
          ],
          [
           0.3333333333333333,
           "#9c179e"
          ],
          [
           0.4444444444444444,
           "#bd3786"
          ],
          [
           0.5555555555555556,
           "#d8576b"
          ],
          [
           0.6666666666666666,
           "#ed7953"
          ],
          [
           0.7777777777777778,
           "#fb9f3a"
          ],
          [
           0.8888888888888888,
           "#fdca26"
          ],
          [
           1,
           "#f0f921"
          ]
         ]
        },
        "legend": {
         "title": {
          "text": "class"
         },
         "tracegroupgap": 0,
         "x": 0,
         "y": 1
        },
        "margin": {
         "t": 60
        },
        "scene": {
         "domain": {
          "x": [
           0,
           1
          ],
          "y": [
           0,
           1
          ]
         },
         "xaxis": {
          "title": {
           "text": "PCA1"
          }
         },
         "yaxis": {
          "title": {
           "text": "PCA2"
          }
         },
         "zaxis": {
          "title": {
           "text": "PCA3"
          }
         }
        },
        "template": {
         "data": {
          "bar": [
           {
            "error_x": {
             "color": "#2a3f5f"
            },
            "error_y": {
             "color": "#2a3f5f"
            },
            "marker": {
             "line": {
              "color": "#E5ECF6",
              "width": 0.5
             },
             "pattern": {
              "fillmode": "overlay",
              "size": 10,
              "solidity": 0.2
             }
            },
            "type": "bar"
           }
          ],
          "barpolar": [
           {
            "marker": {
             "line": {
              "color": "#E5ECF6",
              "width": 0.5
             },
             "pattern": {
              "fillmode": "overlay",
              "size": 10,
              "solidity": 0.2
             }
            },
            "type": "barpolar"
           }
          ],
          "carpet": [
           {
            "aaxis": {
             "endlinecolor": "#2a3f5f",
             "gridcolor": "white",
             "linecolor": "white",
             "minorgridcolor": "white",
             "startlinecolor": "#2a3f5f"
            },
            "baxis": {
             "endlinecolor": "#2a3f5f",
             "gridcolor": "white",
             "linecolor": "white",
             "minorgridcolor": "white",
             "startlinecolor": "#2a3f5f"
            },
            "type": "carpet"
           }
          ],
          "choropleth": [
           {
            "colorbar": {
             "outlinewidth": 0,
             "ticks": ""
            },
            "type": "choropleth"
           }
          ],
          "contour": [
           {
            "colorbar": {
             "outlinewidth": 0,
             "ticks": ""
            },
            "colorscale": [
             [
              0,
              "#0d0887"
             ],
             [
              0.1111111111111111,
              "#46039f"
             ],
             [
              0.2222222222222222,
              "#7201a8"
             ],
             [
              0.3333333333333333,
              "#9c179e"
             ],
             [
              0.4444444444444444,
              "#bd3786"
             ],
             [
              0.5555555555555556,
              "#d8576b"
             ],
             [
              0.6666666666666666,
              "#ed7953"
             ],
             [
              0.7777777777777778,
              "#fb9f3a"
             ],
             [
              0.8888888888888888,
              "#fdca26"
             ],
             [
              1,
              "#f0f921"
             ]
            ],
            "type": "contour"
           }
          ],
          "contourcarpet": [
           {
            "colorbar": {
             "outlinewidth": 0,
             "ticks": ""
            },
            "type": "contourcarpet"
           }
          ],
          "heatmap": [
           {
            "colorbar": {
             "outlinewidth": 0,
             "ticks": ""
            },
            "colorscale": [
             [
              0,
              "#0d0887"
             ],
             [
              0.1111111111111111,
              "#46039f"
             ],
             [
              0.2222222222222222,
              "#7201a8"
             ],
             [
              0.3333333333333333,
              "#9c179e"
             ],
             [
              0.4444444444444444,
              "#bd3786"
             ],
             [
              0.5555555555555556,
              "#d8576b"
             ],
             [
              0.6666666666666666,
              "#ed7953"
             ],
             [
              0.7777777777777778,
              "#fb9f3a"
             ],
             [
              0.8888888888888888,
              "#fdca26"
             ],
             [
              1,
              "#f0f921"
             ]
            ],
            "type": "heatmap"
           }
          ],
          "heatmapgl": [
           {
            "colorbar": {
             "outlinewidth": 0,
             "ticks": ""
            },
            "colorscale": [
             [
              0,
              "#0d0887"
             ],
             [
              0.1111111111111111,
              "#46039f"
             ],
             [
              0.2222222222222222,
              "#7201a8"
             ],
             [
              0.3333333333333333,
              "#9c179e"
             ],
             [
              0.4444444444444444,
              "#bd3786"
             ],
             [
              0.5555555555555556,
              "#d8576b"
             ],
             [
              0.6666666666666666,
              "#ed7953"
             ],
             [
              0.7777777777777778,
              "#fb9f3a"
             ],
             [
              0.8888888888888888,
              "#fdca26"
             ],
             [
              1,
              "#f0f921"
             ]
            ],
            "type": "heatmapgl"
           }
          ],
          "histogram": [
           {
            "marker": {
             "pattern": {
              "fillmode": "overlay",
              "size": 10,
              "solidity": 0.2
             }
            },
            "type": "histogram"
           }
          ],
          "histogram2d": [
           {
            "colorbar": {
             "outlinewidth": 0,
             "ticks": ""
            },
            "colorscale": [
             [
              0,
              "#0d0887"
             ],
             [
              0.1111111111111111,
              "#46039f"
             ],
             [
              0.2222222222222222,
              "#7201a8"
             ],
             [
              0.3333333333333333,
              "#9c179e"
             ],
             [
              0.4444444444444444,
              "#bd3786"
             ],
             [
              0.5555555555555556,
              "#d8576b"
             ],
             [
              0.6666666666666666,
              "#ed7953"
             ],
             [
              0.7777777777777778,
              "#fb9f3a"
             ],
             [
              0.8888888888888888,
              "#fdca26"
             ],
             [
              1,
              "#f0f921"
             ]
            ],
            "type": "histogram2d"
           }
          ],
          "histogram2dcontour": [
           {
            "colorbar": {
             "outlinewidth": 0,
             "ticks": ""
            },
            "colorscale": [
             [
              0,
              "#0d0887"
             ],
             [
              0.1111111111111111,
              "#46039f"
             ],
             [
              0.2222222222222222,
              "#7201a8"
             ],
             [
              0.3333333333333333,
              "#9c179e"
             ],
             [
              0.4444444444444444,
              "#bd3786"
             ],
             [
              0.5555555555555556,
              "#d8576b"
             ],
             [
              0.6666666666666666,
              "#ed7953"
             ],
             [
              0.7777777777777778,
              "#fb9f3a"
             ],
             [
              0.8888888888888888,
              "#fdca26"
             ],
             [
              1,
              "#f0f921"
             ]
            ],
            "type": "histogram2dcontour"
           }
          ],
          "mesh3d": [
           {
            "colorbar": {
             "outlinewidth": 0,
             "ticks": ""
            },
            "type": "mesh3d"
           }
          ],
          "parcoords": [
           {
            "line": {
             "colorbar": {
              "outlinewidth": 0,
              "ticks": ""
             }
            },
            "type": "parcoords"
           }
          ],
          "pie": [
           {
            "automargin": true,
            "type": "pie"
           }
          ],
          "scatter": [
           {
            "marker": {
             "colorbar": {
              "outlinewidth": 0,
              "ticks": ""
             }
            },
            "type": "scatter"
           }
          ],
          "scatter3d": [
           {
            "line": {
             "colorbar": {
              "outlinewidth": 0,
              "ticks": ""
             }
            },
            "marker": {
             "colorbar": {
              "outlinewidth": 0,
              "ticks": ""
             }
            },
            "type": "scatter3d"
           }
          ],
          "scattercarpet": [
           {
            "marker": {
             "colorbar": {
              "outlinewidth": 0,
              "ticks": ""
             }
            },
            "type": "scattercarpet"
           }
          ],
          "scattergeo": [
           {
            "marker": {
             "colorbar": {
              "outlinewidth": 0,
              "ticks": ""
             }
            },
            "type": "scattergeo"
           }
          ],
          "scattergl": [
           {
            "marker": {
             "colorbar": {
              "outlinewidth": 0,
              "ticks": ""
             }
            },
            "type": "scattergl"
           }
          ],
          "scattermapbox": [
           {
            "marker": {
             "colorbar": {
              "outlinewidth": 0,
              "ticks": ""
             }
            },
            "type": "scattermapbox"
           }
          ],
          "scatterpolar": [
           {
            "marker": {
             "colorbar": {
              "outlinewidth": 0,
              "ticks": ""
             }
            },
            "type": "scatterpolar"
           }
          ],
          "scatterpolargl": [
           {
            "marker": {
             "colorbar": {
              "outlinewidth": 0,
              "ticks": ""
             }
            },
            "type": "scatterpolargl"
           }
          ],
          "scatterternary": [
           {
            "marker": {
             "colorbar": {
              "outlinewidth": 0,
              "ticks": ""
             }
            },
            "type": "scatterternary"
           }
          ],
          "surface": [
           {
            "colorbar": {
             "outlinewidth": 0,
             "ticks": ""
            },
            "colorscale": [
             [
              0,
              "#0d0887"
             ],
             [
              0.1111111111111111,
              "#46039f"
             ],
             [
              0.2222222222222222,
              "#7201a8"
             ],
             [
              0.3333333333333333,
              "#9c179e"
             ],
             [
              0.4444444444444444,
              "#bd3786"
             ],
             [
              0.5555555555555556,
              "#d8576b"
             ],
             [
              0.6666666666666666,
              "#ed7953"
             ],
             [
              0.7777777777777778,
              "#fb9f3a"
             ],
             [
              0.8888888888888888,
              "#fdca26"
             ],
             [
              1,
              "#f0f921"
             ]
            ],
            "type": "surface"
           }
          ],
          "table": [
           {
            "cells": {
             "fill": {
              "color": "#EBF0F8"
             },
             "line": {
              "color": "white"
             }
            },
            "header": {
             "fill": {
              "color": "#C8D4E3"
             },
             "line": {
              "color": "white"
             }
            },
            "type": "table"
           }
          ]
         },
         "layout": {
          "annotationdefaults": {
           "arrowcolor": "#2a3f5f",
           "arrowhead": 0,
           "arrowwidth": 1
          },
          "autotypenumbers": "strict",
          "coloraxis": {
           "colorbar": {
            "outlinewidth": 0,
            "ticks": ""
           }
          },
          "colorscale": {
           "diverging": [
            [
             0,
             "#8e0152"
            ],
            [
             0.1,
             "#c51b7d"
            ],
            [
             0.2,
             "#de77ae"
            ],
            [
             0.3,
             "#f1b6da"
            ],
            [
             0.4,
             "#fde0ef"
            ],
            [
             0.5,
             "#f7f7f7"
            ],
            [
             0.6,
             "#e6f5d0"
            ],
            [
             0.7,
             "#b8e186"
            ],
            [
             0.8,
             "#7fbc41"
            ],
            [
             0.9,
             "#4d9221"
            ],
            [
             1,
             "#276419"
            ]
           ],
           "sequential": [
            [
             0,
             "#0d0887"
            ],
            [
             0.1111111111111111,
             "#46039f"
            ],
            [
             0.2222222222222222,
             "#7201a8"
            ],
            [
             0.3333333333333333,
             "#9c179e"
            ],
            [
             0.4444444444444444,
             "#bd3786"
            ],
            [
             0.5555555555555556,
             "#d8576b"
            ],
            [
             0.6666666666666666,
             "#ed7953"
            ],
            [
             0.7777777777777778,
             "#fb9f3a"
            ],
            [
             0.8888888888888888,
             "#fdca26"
            ],
            [
             1,
             "#f0f921"
            ]
           ],
           "sequentialminus": [
            [
             0,
             "#0d0887"
            ],
            [
             0.1111111111111111,
             "#46039f"
            ],
            [
             0.2222222222222222,
             "#7201a8"
            ],
            [
             0.3333333333333333,
             "#9c179e"
            ],
            [
             0.4444444444444444,
             "#bd3786"
            ],
            [
             0.5555555555555556,
             "#d8576b"
            ],
            [
             0.6666666666666666,
             "#ed7953"
            ],
            [
             0.7777777777777778,
             "#fb9f3a"
            ],
            [
             0.8888888888888888,
             "#fdca26"
            ],
            [
             1,
             "#f0f921"
            ]
           ]
          },
          "colorway": [
           "#636efa",
           "#EF553B",
           "#00cc96",
           "#ab63fa",
           "#FFA15A",
           "#19d3f3",
           "#FF6692",
           "#B6E880",
           "#FF97FF",
           "#FECB52"
          ],
          "font": {
           "color": "#2a3f5f"
          },
          "geo": {
           "bgcolor": "white",
           "lakecolor": "white",
           "landcolor": "#E5ECF6",
           "showlakes": true,
           "showland": true,
           "subunitcolor": "white"
          },
          "hoverlabel": {
           "align": "left"
          },
          "hovermode": "closest",
          "mapbox": {
           "style": "light"
          },
          "paper_bgcolor": "white",
          "plot_bgcolor": "#E5ECF6",
          "polar": {
           "angularaxis": {
            "gridcolor": "white",
            "linecolor": "white",
            "ticks": ""
           },
           "bgcolor": "#E5ECF6",
           "radialaxis": {
            "gridcolor": "white",
            "linecolor": "white",
            "ticks": ""
           }
          },
          "scene": {
           "xaxis": {
            "backgroundcolor": "#E5ECF6",
            "gridcolor": "white",
            "gridwidth": 2,
            "linecolor": "white",
            "showbackground": true,
            "ticks": "",
            "zerolinecolor": "white"
           },
           "yaxis": {
            "backgroundcolor": "#E5ECF6",
            "gridcolor": "white",
            "gridwidth": 2,
            "linecolor": "white",
            "showbackground": true,
            "ticks": "",
            "zerolinecolor": "white"
           },
           "zaxis": {
            "backgroundcolor": "#E5ECF6",
            "gridcolor": "white",
            "gridwidth": 2,
            "linecolor": "white",
            "showbackground": true,
            "ticks": "",
            "zerolinecolor": "white"
           }
          },
          "shapedefaults": {
           "line": {
            "color": "#2a3f5f"
           }
          },
          "ternary": {
           "aaxis": {
            "gridcolor": "white",
            "linecolor": "white",
            "ticks": ""
           },
           "baxis": {
            "gridcolor": "white",
            "linecolor": "white",
            "ticks": ""
           },
           "bgcolor": "#E5ECF6",
           "caxis": {
            "gridcolor": "white",
            "linecolor": "white",
            "ticks": ""
           }
          },
          "title": {
           "x": 0.05
          },
          "xaxis": {
           "automargin": true,
           "gridcolor": "white",
           "linecolor": "white",
           "ticks": "",
           "title": {
            "standoff": 15
           },
           "zerolinecolor": "white",
           "zerolinewidth": 2
          },
          "yaxis": {
           "automargin": true,
           "gridcolor": "white",
           "linecolor": "white",
           "ticks": "",
           "title": {
            "standoff": 15
           },
           "zerolinecolor": "white",
           "zerolinewidth": 2
          }
         }
        }
       }
      }
     },
     "metadata": {},
     "output_type": "display_data"
    }
   ],
   "source": [
    "# Create a 3D-Scatter with the PCA data and the clusters\n",
    "fig = px.scatter_3d(\n",
    "    coin_class,\n",
    "    x=\"PCA1\",\n",
    "    y=\"PCA2\",\n",
    "    z=\"PCA3\",\n",
    "    hover_name='name',\n",
    "    hover_data= ['p_change_30d', 'p_change_60d', 'p_change_200d', 'p_change_1y', 'market_cap_usd'],\n",
    "    color=\"class\",\n",
    "    symbol=\"class\",\n",
    ")\n",
    "fig.update_layout(legend=dict(x=0, y=1))\n",
    "fig.show()"
   ]
  },
  {
   "cell_type": "code",
   "execution_count": 36,
   "metadata": {},
   "outputs": [],
   "source": [
    "# Formatting\n",
    "# pd.options.display.float_format = '{:.4E}'.format\n",
    "coin_class['market_cap_usd'] = coin_class['market_cap_usd'].apply(lambda x: float(x))"
   ]
  },
  {
   "cell_type": "code",
   "execution_count": 37,
   "metadata": {},
   "outputs": [
    {
     "data": {
      "text/html": [
       "<div>\n",
       "<style scoped>\n",
       "    .dataframe tbody tr th:only-of-type {\n",
       "        vertical-align: middle;\n",
       "    }\n",
       "\n",
       "    .dataframe tbody tr th {\n",
       "        vertical-align: top;\n",
       "    }\n",
       "\n",
       "    .dataframe thead th {\n",
       "        text-align: right;\n",
       "    }\n",
       "</style>\n",
       "<table border=\"1\" class=\"dataframe\">\n",
       "  <thead>\n",
       "    <tr style=\"text-align: right;\">\n",
       "      <th></th>\n",
       "      <th>PCA1</th>\n",
       "      <th>PCA2</th>\n",
       "      <th>PCA3</th>\n",
       "      <th>class</th>\n",
       "      <th>index</th>\n",
       "      <th>id</th>\n",
       "      <th>symbol</th>\n",
       "      <th>name</th>\n",
       "      <th>hashing_algo</th>\n",
       "      <th>market_cap</th>\n",
       "      <th>...</th>\n",
       "      <th>p_change_30d</th>\n",
       "      <th>p_change_60d</th>\n",
       "      <th>p_change_200d</th>\n",
       "      <th>p_change_1y</th>\n",
       "      <th>market_cap_usd</th>\n",
       "      <th>total_supply</th>\n",
       "      <th>circulating_supply</th>\n",
       "      <th>twt_followers</th>\n",
       "      <th>rdt_followers</th>\n",
       "      <th>total_followers</th>\n",
       "    </tr>\n",
       "  </thead>\n",
       "  <tbody>\n",
       "    <tr>\n",
       "      <th>24</th>\n",
       "      <td>4.181692</td>\n",
       "      <td>-2.606481</td>\n",
       "      <td>-0.156918</td>\n",
       "      <td>0</td>\n",
       "      <td>30</td>\n",
       "      <td>leo-token</td>\n",
       "      <td>leo</td>\n",
       "      <td>LEO Token</td>\n",
       "      <td>NaN</td>\n",
       "      <td>31</td>\n",
       "      <td>...</td>\n",
       "      <td>51.70822</td>\n",
       "      <td>59.46396</td>\n",
       "      <td>92.20095</td>\n",
       "      <td>289.17067</td>\n",
       "      <td>5.386082e+09</td>\n",
       "      <td>9.852395e+08</td>\n",
       "      <td>937161603.9</td>\n",
       "      <td>857014</td>\n",
       "      <td>9713</td>\n",
       "      <td>866727</td>\n",
       "    </tr>\n",
       "    <tr>\n",
       "      <th>50</th>\n",
       "      <td>1.918729</td>\n",
       "      <td>-1.745009</td>\n",
       "      <td>-0.175622</td>\n",
       "      <td>0</td>\n",
       "      <td>65</td>\n",
       "      <td>theta-fuel</td>\n",
       "      <td>tfuel</td>\n",
       "      <td>Theta Fuel</td>\n",
       "      <td>NaN</td>\n",
       "      <td>66</td>\n",
       "      <td>...</td>\n",
       "      <td>26.40541</td>\n",
       "      <td>16.04483</td>\n",
       "      <td>-31.02246</td>\n",
       "      <td>279.69690</td>\n",
       "      <td>1.886179e+09</td>\n",
       "      <td>5.301200e+09</td>\n",
       "      <td>0.0</td>\n",
       "      <td>249088</td>\n",
       "      <td>27818</td>\n",
       "      <td>276906</td>\n",
       "    </tr>\n",
       "  </tbody>\n",
       "</table>\n",
       "<p>2 rows × 22 columns</p>\n",
       "</div>"
      ],
      "text/plain": [
       "        PCA1      PCA2      PCA3  class  index          id symbol        name  \\\n",
       "24  4.181692 -2.606481 -0.156918      0     30   leo-token    leo   LEO Token   \n",
       "50  1.918729 -1.745009 -0.175622      0     65  theta-fuel  tfuel  Theta Fuel   \n",
       "\n",
       "   hashing_algo  market_cap  ...  p_change_30d  p_change_60d  p_change_200d  \\\n",
       "24          NaN          31  ...      51.70822      59.46396       92.20095   \n",
       "50          NaN          66  ...      26.40541      16.04483      -31.02246   \n",
       "\n",
       "    p_change_1y  market_cap_usd  total_supply  circulating_supply  \\\n",
       "24    289.17067    5.386082e+09  9.852395e+08         937161603.9   \n",
       "50    279.69690    1.886179e+09  5.301200e+09                 0.0   \n",
       "\n",
       "    twt_followers  rdt_followers  total_followers  \n",
       "24         857014           9713           866727  \n",
       "50         249088          27818           276906  \n",
       "\n",
       "[2 rows x 22 columns]"
      ]
     },
     "execution_count": 37,
     "metadata": {},
     "output_type": "execute_result"
    }
   ],
   "source": [
    "# Large, positive long term price movement, large market cap\n",
    "coin_class[coin_class['class'] == 0].head(20)"
   ]
  },
  {
   "cell_type": "code",
   "execution_count": 38,
   "metadata": {},
   "outputs": [
    {
     "data": {
      "text/html": [
       "<div>\n",
       "<style scoped>\n",
       "    .dataframe tbody tr th:only-of-type {\n",
       "        vertical-align: middle;\n",
       "    }\n",
       "\n",
       "    .dataframe tbody tr th {\n",
       "        vertical-align: top;\n",
       "    }\n",
       "\n",
       "    .dataframe thead th {\n",
       "        text-align: right;\n",
       "    }\n",
       "</style>\n",
       "<table border=\"1\" class=\"dataframe\">\n",
       "  <thead>\n",
       "    <tr style=\"text-align: right;\">\n",
       "      <th></th>\n",
       "      <th>PCA1</th>\n",
       "      <th>PCA2</th>\n",
       "      <th>PCA3</th>\n",
       "      <th>class</th>\n",
       "      <th>index</th>\n",
       "      <th>id</th>\n",
       "      <th>symbol</th>\n",
       "      <th>name</th>\n",
       "      <th>hashing_algo</th>\n",
       "      <th>market_cap</th>\n",
       "      <th>...</th>\n",
       "      <th>p_change_30d</th>\n",
       "      <th>p_change_60d</th>\n",
       "      <th>p_change_200d</th>\n",
       "      <th>p_change_1y</th>\n",
       "      <th>market_cap_usd</th>\n",
       "      <th>total_supply</th>\n",
       "      <th>circulating_supply</th>\n",
       "      <th>twt_followers</th>\n",
       "      <th>rdt_followers</th>\n",
       "      <th>total_followers</th>\n",
       "    </tr>\n",
       "  </thead>\n",
       "  <tbody>\n",
       "    <tr>\n",
       "      <th>2</th>\n",
       "      <td>-0.387346</td>\n",
       "      <td>-0.177755</td>\n",
       "      <td>0.086731</td>\n",
       "      <td>1</td>\n",
       "      <td>3</td>\n",
       "      <td>binancecoin</td>\n",
       "      <td>bnb</td>\n",
       "      <td>BNB</td>\n",
       "      <td>NaN</td>\n",
       "      <td>4</td>\n",
       "      <td>...</td>\n",
       "      <td>-13.25981</td>\n",
       "      <td>-17.85405</td>\n",
       "      <td>34.00305</td>\n",
       "      <td>234.28903</td>\n",
       "      <td>7.286941e+10</td>\n",
       "      <td>1.681370e+08</td>\n",
       "      <td>1.681370e+08</td>\n",
       "      <td>7674506</td>\n",
       "      <td>801012</td>\n",
       "      <td>8475518</td>\n",
       "    </tr>\n",
       "    <tr>\n",
       "      <th>4</th>\n",
       "      <td>-0.511062</td>\n",
       "      <td>-0.107663</td>\n",
       "      <td>-0.133099</td>\n",
       "      <td>1</td>\n",
       "      <td>6</td>\n",
       "      <td>cardano</td>\n",
       "      <td>ada</td>\n",
       "      <td>Cardano</td>\n",
       "      <td>NaN</td>\n",
       "      <td>7</td>\n",
       "      <td>...</td>\n",
       "      <td>-21.77488</td>\n",
       "      <td>-9.80997</td>\n",
       "      <td>-15.59306</td>\n",
       "      <td>28.18040</td>\n",
       "      <td>3.542451e+10</td>\n",
       "      <td>4.500000e+10</td>\n",
       "      <td>3.206639e+10</td>\n",
       "      <td>825225</td>\n",
       "      <td>691934</td>\n",
       "      <td>1517159</td>\n",
       "    </tr>\n",
       "    <tr>\n",
       "      <th>5</th>\n",
       "      <td>-1.450283</td>\n",
       "      <td>0.895924</td>\n",
       "      <td>-0.131352</td>\n",
       "      <td>1</td>\n",
       "      <td>7</td>\n",
       "      <td>solana</td>\n",
       "      <td>sol</td>\n",
       "      <td>Solana</td>\n",
       "      <td>NaN</td>\n",
       "      <td>8</td>\n",
       "      <td>...</td>\n",
       "      <td>-30.06923</td>\n",
       "      <td>-41.14747</td>\n",
       "      <td>220.77086</td>\n",
       "      <td>1069.36435</td>\n",
       "      <td>3.312675e+10</td>\n",
       "      <td>5.081810e+08</td>\n",
       "      <td>3.192463e+08</td>\n",
       "      <td>1471408</td>\n",
       "      <td>129658</td>\n",
       "      <td>1601066</td>\n",
       "    </tr>\n",
       "    <tr>\n",
       "      <th>7</th>\n",
       "      <td>-0.519744</td>\n",
       "      <td>1.161480</td>\n",
       "      <td>-0.170878</td>\n",
       "      <td>1</td>\n",
       "      <td>9</td>\n",
       "      <td>terra-luna</td>\n",
       "      <td>luna</td>\n",
       "      <td>Terra</td>\n",
       "      <td>NaN</td>\n",
       "      <td>10</td>\n",
       "      <td>...</td>\n",
       "      <td>-33.34984</td>\n",
       "      <td>-12.16712</td>\n",
       "      <td>434.10779</td>\n",
       "      <td>967.40045</td>\n",
       "      <td>2.303276e+10</td>\n",
       "      <td>8.107375e+08</td>\n",
       "      <td>3.968598e+08</td>\n",
       "      <td>333946</td>\n",
       "      <td>30110</td>\n",
       "      <td>364056</td>\n",
       "    </tr>\n",
       "    <tr>\n",
       "      <th>8</th>\n",
       "      <td>-0.987674</td>\n",
       "      <td>0.252817</td>\n",
       "      <td>-0.144805</td>\n",
       "      <td>1</td>\n",
       "      <td>10</td>\n",
       "      <td>polkadot</td>\n",
       "      <td>dot</td>\n",
       "      <td>Polkadot</td>\n",
       "      <td>NaN</td>\n",
       "      <td>11</td>\n",
       "      <td>...</td>\n",
       "      <td>-28.37874</td>\n",
       "      <td>-19.78074</td>\n",
       "      <td>25.80152</td>\n",
       "      <td>-28.24553</td>\n",
       "      <td>2.158640e+10</td>\n",
       "      <td>1.165692e+09</td>\n",
       "      <td>1.084743e+09</td>\n",
       "      <td>1165928</td>\n",
       "      <td>38961</td>\n",
       "      <td>1204889</td>\n",
       "    </tr>\n",
       "    <tr>\n",
       "      <th>11</th>\n",
       "      <td>-0.545407</td>\n",
       "      <td>0.129369</td>\n",
       "      <td>-0.143372</td>\n",
       "      <td>1</td>\n",
       "      <td>14</td>\n",
       "      <td>matic-network</td>\n",
       "      <td>matic</td>\n",
       "      <td>Polygon</td>\n",
       "      <td>NaN</td>\n",
       "      <td>15</td>\n",
       "      <td>...</td>\n",
       "      <td>-21.77848</td>\n",
       "      <td>-14.56938</td>\n",
       "      <td>72.51902</td>\n",
       "      <td>1610.25615</td>\n",
       "      <td>1.254660e+10</td>\n",
       "      <td>1.000000e+10</td>\n",
       "      <td>6.872890e+09</td>\n",
       "      <td>1275092</td>\n",
       "      <td>0</td>\n",
       "      <td>1275092</td>\n",
       "    </tr>\n",
       "    <tr>\n",
       "      <th>16</th>\n",
       "      <td>-0.786771</td>\n",
       "      <td>0.150117</td>\n",
       "      <td>-0.157619</td>\n",
       "      <td>1</td>\n",
       "      <td>21</td>\n",
       "      <td>chainlink</td>\n",
       "      <td>link</td>\n",
       "      <td>Chainlink</td>\n",
       "      <td>NaN</td>\n",
       "      <td>22</td>\n",
       "      <td>...</td>\n",
       "      <td>-32.53527</td>\n",
       "      <td>-5.86128</td>\n",
       "      <td>-22.72346</td>\n",
       "      <td>-46.95319</td>\n",
       "      <td>8.070686e+09</td>\n",
       "      <td>1.000000e+09</td>\n",
       "      <td>4.670095e+08</td>\n",
       "      <td>759754</td>\n",
       "      <td>76300</td>\n",
       "      <td>836054</td>\n",
       "    </tr>\n",
       "    <tr>\n",
       "      <th>19</th>\n",
       "      <td>-1.276992</td>\n",
       "      <td>0.362251</td>\n",
       "      <td>-0.174200</td>\n",
       "      <td>1</td>\n",
       "      <td>24</td>\n",
       "      <td>algorand</td>\n",
       "      <td>algo</td>\n",
       "      <td>Algorand</td>\n",
       "      <td>NaN</td>\n",
       "      <td>25</td>\n",
       "      <td>...</td>\n",
       "      <td>-30.73337</td>\n",
       "      <td>-26.64938</td>\n",
       "      <td>16.37564</td>\n",
       "      <td>-26.40637</td>\n",
       "      <td>6.567741e+09</td>\n",
       "      <td>7.056290e+09</td>\n",
       "      <td>6.616135e+09</td>\n",
       "      <td>240545</td>\n",
       "      <td>64638</td>\n",
       "      <td>305183</td>\n",
       "    </tr>\n",
       "    <tr>\n",
       "      <th>21</th>\n",
       "      <td>-0.524691</td>\n",
       "      <td>-0.316534</td>\n",
       "      <td>-0.158594</td>\n",
       "      <td>1</td>\n",
       "      <td>26</td>\n",
       "      <td>bitcoin-cash</td>\n",
       "      <td>bch</td>\n",
       "      <td>Bitcoin Cash</td>\n",
       "      <td>SHA-256</td>\n",
       "      <td>27</td>\n",
       "      <td>...</td>\n",
       "      <td>-12.80235</td>\n",
       "      <td>-20.54436</td>\n",
       "      <td>-38.65615</td>\n",
       "      <td>-51.95500</td>\n",
       "      <td>6.446429e+09</td>\n",
       "      <td>2.100000e+07</td>\n",
       "      <td>1.898455e+07</td>\n",
       "      <td>0</td>\n",
       "      <td>810169</td>\n",
       "      <td>810169</td>\n",
       "    </tr>\n",
       "    <tr>\n",
       "      <th>23</th>\n",
       "      <td>-0.428873</td>\n",
       "      <td>-0.257500</td>\n",
       "      <td>-0.153711</td>\n",
       "      <td>1</td>\n",
       "      <td>29</td>\n",
       "      <td>stellar</td>\n",
       "      <td>xlm</td>\n",
       "      <td>Stellar</td>\n",
       "      <td>NaN</td>\n",
       "      <td>30</td>\n",
       "      <td>...</td>\n",
       "      <td>-15.58123</td>\n",
       "      <td>-14.36464</td>\n",
       "      <td>-21.58938</td>\n",
       "      <td>-55.41537</td>\n",
       "      <td>5.469234e+09</td>\n",
       "      <td>5.000180e+10</td>\n",
       "      <td>2.491448e+10</td>\n",
       "      <td>739252</td>\n",
       "      <td>211390</td>\n",
       "      <td>950642</td>\n",
       "    </tr>\n",
       "  </tbody>\n",
       "</table>\n",
       "<p>10 rows × 22 columns</p>\n",
       "</div>"
      ],
      "text/plain": [
       "        PCA1      PCA2      PCA3  class  index             id symbol  \\\n",
       "2  -0.387346 -0.177755  0.086731      1      3    binancecoin    bnb   \n",
       "4  -0.511062 -0.107663 -0.133099      1      6        cardano    ada   \n",
       "5  -1.450283  0.895924 -0.131352      1      7         solana    sol   \n",
       "7  -0.519744  1.161480 -0.170878      1      9     terra-luna   luna   \n",
       "8  -0.987674  0.252817 -0.144805      1     10       polkadot    dot   \n",
       "11 -0.545407  0.129369 -0.143372      1     14  matic-network  matic   \n",
       "16 -0.786771  0.150117 -0.157619      1     21      chainlink   link   \n",
       "19 -1.276992  0.362251 -0.174200      1     24       algorand   algo   \n",
       "21 -0.524691 -0.316534 -0.158594      1     26   bitcoin-cash    bch   \n",
       "23 -0.428873 -0.257500 -0.153711      1     29        stellar    xlm   \n",
       "\n",
       "            name hashing_algo  market_cap  ...  p_change_30d  p_change_60d  \\\n",
       "2            BNB          NaN           4  ...     -13.25981     -17.85405   \n",
       "4        Cardano          NaN           7  ...     -21.77488      -9.80997   \n",
       "5         Solana          NaN           8  ...     -30.06923     -41.14747   \n",
       "7          Terra          NaN          10  ...     -33.34984     -12.16712   \n",
       "8       Polkadot          NaN          11  ...     -28.37874     -19.78074   \n",
       "11       Polygon          NaN          15  ...     -21.77848     -14.56938   \n",
       "16     Chainlink          NaN          22  ...     -32.53527      -5.86128   \n",
       "19      Algorand          NaN          25  ...     -30.73337     -26.64938   \n",
       "21  Bitcoin Cash      SHA-256          27  ...     -12.80235     -20.54436   \n",
       "23       Stellar          NaN          30  ...     -15.58123     -14.36464   \n",
       "\n",
       "    p_change_200d  p_change_1y  market_cap_usd  total_supply  \\\n",
       "2        34.00305    234.28903    7.286941e+10  1.681370e+08   \n",
       "4       -15.59306     28.18040    3.542451e+10  4.500000e+10   \n",
       "5       220.77086   1069.36435    3.312675e+10  5.081810e+08   \n",
       "7       434.10779    967.40045    2.303276e+10  8.107375e+08   \n",
       "8        25.80152    -28.24553    2.158640e+10  1.165692e+09   \n",
       "11       72.51902   1610.25615    1.254660e+10  1.000000e+10   \n",
       "16      -22.72346    -46.95319    8.070686e+09  1.000000e+09   \n",
       "19       16.37564    -26.40637    6.567741e+09  7.056290e+09   \n",
       "21      -38.65615    -51.95500    6.446429e+09  2.100000e+07   \n",
       "23      -21.58938    -55.41537    5.469234e+09  5.000180e+10   \n",
       "\n",
       "    circulating_supply  twt_followers  rdt_followers  total_followers  \n",
       "2         1.681370e+08        7674506         801012          8475518  \n",
       "4         3.206639e+10         825225         691934          1517159  \n",
       "5         3.192463e+08        1471408         129658          1601066  \n",
       "7         3.968598e+08         333946          30110           364056  \n",
       "8         1.084743e+09        1165928          38961          1204889  \n",
       "11        6.872890e+09        1275092              0          1275092  \n",
       "16        4.670095e+08         759754          76300           836054  \n",
       "19        6.616135e+09         240545          64638           305183  \n",
       "21        1.898455e+07              0         810169           810169  \n",
       "23        2.491448e+10         739252         211390           950642  \n",
       "\n",
       "[10 rows x 22 columns]"
      ]
     },
     "execution_count": 38,
     "metadata": {},
     "output_type": "execute_result"
    }
   ],
   "source": [
    "# Coins with price drop in recent two months with generally positive long-term reward\n",
    "coin_class[coin_class['class'] == 1].head(10)"
   ]
  },
  {
   "cell_type": "code",
   "execution_count": 39,
   "metadata": {},
   "outputs": [
    {
     "data": {
      "text/html": [
       "<div>\n",
       "<style scoped>\n",
       "    .dataframe tbody tr th:only-of-type {\n",
       "        vertical-align: middle;\n",
       "    }\n",
       "\n",
       "    .dataframe tbody tr th {\n",
       "        vertical-align: top;\n",
       "    }\n",
       "\n",
       "    .dataframe thead th {\n",
       "        text-align: right;\n",
       "    }\n",
       "</style>\n",
       "<table border=\"1\" class=\"dataframe\">\n",
       "  <thead>\n",
       "    <tr style=\"text-align: right;\">\n",
       "      <th></th>\n",
       "      <th>PCA1</th>\n",
       "      <th>PCA2</th>\n",
       "      <th>PCA3</th>\n",
       "      <th>class</th>\n",
       "      <th>index</th>\n",
       "      <th>id</th>\n",
       "      <th>symbol</th>\n",
       "      <th>name</th>\n",
       "      <th>hashing_algo</th>\n",
       "      <th>market_cap</th>\n",
       "      <th>...</th>\n",
       "      <th>p_change_30d</th>\n",
       "      <th>p_change_60d</th>\n",
       "      <th>p_change_200d</th>\n",
       "      <th>p_change_1y</th>\n",
       "      <th>market_cap_usd</th>\n",
       "      <th>total_supply</th>\n",
       "      <th>circulating_supply</th>\n",
       "      <th>twt_followers</th>\n",
       "      <th>rdt_followers</th>\n",
       "      <th>total_followers</th>\n",
       "    </tr>\n",
       "  </thead>\n",
       "  <tbody>\n",
       "    <tr>\n",
       "      <th>10</th>\n",
       "      <td>3.890621</td>\n",
       "      <td>4.292218</td>\n",
       "      <td>12.52261</td>\n",
       "      <td>2</td>\n",
       "      <td>13</td>\n",
       "      <td>shiba-inu</td>\n",
       "      <td>shib</td>\n",
       "      <td>Shiba Inu</td>\n",
       "      <td>NaN</td>\n",
       "      <td>14</td>\n",
       "      <td>...</td>\n",
       "      <td>1.40333</td>\n",
       "      <td>-0.74864</td>\n",
       "      <td>394.25566</td>\n",
       "      <td>402171.27586</td>\n",
       "      <td>1.707710e+10</td>\n",
       "      <td>1.000000e+15</td>\n",
       "      <td>5.491473e+14</td>\n",
       "      <td>2835429</td>\n",
       "      <td>466470</td>\n",
       "      <td>3301899</td>\n",
       "    </tr>\n",
       "  </tbody>\n",
       "</table>\n",
       "<p>1 rows × 22 columns</p>\n",
       "</div>"
      ],
      "text/plain": [
       "        PCA1      PCA2      PCA3  class  index         id symbol       name  \\\n",
       "10  3.890621  4.292218  12.52261      2     13  shiba-inu   shib  Shiba Inu   \n",
       "\n",
       "   hashing_algo  market_cap  ...  p_change_30d  p_change_60d  p_change_200d  \\\n",
       "10          NaN          14  ...       1.40333      -0.74864      394.25566   \n",
       "\n",
       "     p_change_1y  market_cap_usd  total_supply  circulating_supply  \\\n",
       "10  402171.27586    1.707710e+10  1.000000e+15        5.491473e+14   \n",
       "\n",
       "    twt_followers  rdt_followers  total_followers  \n",
       "10        2835429         466470          3301899  \n",
       "\n",
       "[1 rows x 22 columns]"
      ]
     },
     "execution_count": 39,
     "metadata": {},
     "output_type": "execute_result"
    }
   ],
   "source": [
    "# Outliers in long term price change and total supply, no token with similar market movement\n",
    "coin_class[coin_class['class'] == 2].head(10)"
   ]
  },
  {
   "cell_type": "code",
   "execution_count": 40,
   "metadata": {},
   "outputs": [
    {
     "data": {
      "text/html": [
       "<div>\n",
       "<style scoped>\n",
       "    .dataframe tbody tr th:only-of-type {\n",
       "        vertical-align: middle;\n",
       "    }\n",
       "\n",
       "    .dataframe tbody tr th {\n",
       "        vertical-align: top;\n",
       "    }\n",
       "\n",
       "    .dataframe thead th {\n",
       "        text-align: right;\n",
       "    }\n",
       "</style>\n",
       "<table border=\"1\" class=\"dataframe\">\n",
       "  <thead>\n",
       "    <tr style=\"text-align: right;\">\n",
       "      <th></th>\n",
       "      <th>PCA1</th>\n",
       "      <th>PCA2</th>\n",
       "      <th>PCA3</th>\n",
       "      <th>class</th>\n",
       "      <th>index</th>\n",
       "      <th>id</th>\n",
       "      <th>symbol</th>\n",
       "      <th>name</th>\n",
       "      <th>hashing_algo</th>\n",
       "      <th>market_cap</th>\n",
       "      <th>...</th>\n",
       "      <th>p_change_30d</th>\n",
       "      <th>p_change_60d</th>\n",
       "      <th>p_change_200d</th>\n",
       "      <th>p_change_1y</th>\n",
       "      <th>market_cap_usd</th>\n",
       "      <th>total_supply</th>\n",
       "      <th>circulating_supply</th>\n",
       "      <th>twt_followers</th>\n",
       "      <th>rdt_followers</th>\n",
       "      <th>total_followers</th>\n",
       "    </tr>\n",
       "  </thead>\n",
       "  <tbody>\n",
       "    <tr>\n",
       "      <th>0</th>\n",
       "      <td>0.519304</td>\n",
       "      <td>-0.807629</td>\n",
       "      <td>0.164609</td>\n",
       "      <td>3</td>\n",
       "      <td>0</td>\n",
       "      <td>bitcoin</td>\n",
       "      <td>btc</td>\n",
       "      <td>Bitcoin</td>\n",
       "      <td>SHA-256</td>\n",
       "      <td>1</td>\n",
       "      <td>...</td>\n",
       "      <td>2.51977</td>\n",
       "      <td>-4.58115</td>\n",
       "      <td>5.41309</td>\n",
       "      <td>-7.70834</td>\n",
       "      <td>8.392654e+11</td>\n",
       "      <td>2.100000e+07</td>\n",
       "      <td>1.895990e+07</td>\n",
       "      <td>4677076</td>\n",
       "      <td>3911324</td>\n",
       "      <td>8588400</td>\n",
       "    </tr>\n",
       "    <tr>\n",
       "      <th>1</th>\n",
       "      <td>0.564657</td>\n",
       "      <td>-0.791154</td>\n",
       "      <td>-0.168972</td>\n",
       "      <td>3</td>\n",
       "      <td>2</td>\n",
       "      <td>tether</td>\n",
       "      <td>usdt</td>\n",
       "      <td>Tether</td>\n",
       "      <td>NaN</td>\n",
       "      <td>3</td>\n",
       "      <td>...</td>\n",
       "      <td>0.05774</td>\n",
       "      <td>0.24979</td>\n",
       "      <td>-0.12995</td>\n",
       "      <td>0.07017</td>\n",
       "      <td>7.872545e+10</td>\n",
       "      <td>7.864105e+10</td>\n",
       "      <td>7.864105e+10</td>\n",
       "      <td>207281</td>\n",
       "      <td>0</td>\n",
       "      <td>207281</td>\n",
       "    </tr>\n",
       "    <tr>\n",
       "      <th>3</th>\n",
       "      <td>0.918231</td>\n",
       "      <td>-0.994946</td>\n",
       "      <td>-0.093039</td>\n",
       "      <td>3</td>\n",
       "      <td>5</td>\n",
       "      <td>ripple</td>\n",
       "      <td>xrp</td>\n",
       "      <td>XRP</td>\n",
       "      <td>NaN</td>\n",
       "      <td>6</td>\n",
       "      <td>...</td>\n",
       "      <td>6.81260</td>\n",
       "      <td>3.86790</td>\n",
       "      <td>10.36575</td>\n",
       "      <td>51.95091</td>\n",
       "      <td>3.999451e+10</td>\n",
       "      <td>1.000000e+11</td>\n",
       "      <td>4.788839e+10</td>\n",
       "      <td>2424974</td>\n",
       "      <td>346506</td>\n",
       "      <td>2771480</td>\n",
       "    </tr>\n",
       "    <tr>\n",
       "      <th>9</th>\n",
       "      <td>0.565592</td>\n",
       "      <td>-0.794609</td>\n",
       "      <td>-0.181511</td>\n",
       "      <td>3</td>\n",
       "      <td>12</td>\n",
       "      <td>binance-usd</td>\n",
       "      <td>busd</td>\n",
       "      <td>Binance USD</td>\n",
       "      <td>NaN</td>\n",
       "      <td>13</td>\n",
       "      <td>...</td>\n",
       "      <td>0.15457</td>\n",
       "      <td>0.18505</td>\n",
       "      <td>-0.75439</td>\n",
       "      <td>0.12775</td>\n",
       "      <td>1.785122e+10</td>\n",
       "      <td>1.781981e+10</td>\n",
       "      <td>1.781981e+10</td>\n",
       "      <td>29152</td>\n",
       "      <td>0</td>\n",
       "      <td>29152</td>\n",
       "    </tr>\n",
       "    <tr>\n",
       "      <th>12</th>\n",
       "      <td>0.853656</td>\n",
       "      <td>-0.305671</td>\n",
       "      <td>-0.122017</td>\n",
       "      <td>3</td>\n",
       "      <td>15</td>\n",
       "      <td>crypto-com-chain</td>\n",
       "      <td>cro</td>\n",
       "      <td>Crypto.com Coin</td>\n",
       "      <td>Ethash</td>\n",
       "      <td>16</td>\n",
       "      <td>...</td>\n",
       "      <td>5.28638</td>\n",
       "      <td>-6.39757</td>\n",
       "      <td>283.09245</td>\n",
       "      <td>469.16191</td>\n",
       "      <td>1.240106e+10</td>\n",
       "      <td>3.026301e+10</td>\n",
       "      <td>2.526301e+10</td>\n",
       "      <td>1793673</td>\n",
       "      <td>156289</td>\n",
       "      <td>1949962</td>\n",
       "    </tr>\n",
       "    <tr>\n",
       "      <th>13</th>\n",
       "      <td>0.564166</td>\n",
       "      <td>-0.792565</td>\n",
       "      <td>-0.172799</td>\n",
       "      <td>3</td>\n",
       "      <td>16</td>\n",
       "      <td>terrausd</td>\n",
       "      <td>ust</td>\n",
       "      <td>TerraUSD</td>\n",
       "      <td>SHA-256</td>\n",
       "      <td>17</td>\n",
       "      <td>...</td>\n",
       "      <td>0.09922</td>\n",
       "      <td>0.19400</td>\n",
       "      <td>-0.49283</td>\n",
       "      <td>1.23738</td>\n",
       "      <td>1.169086e+10</td>\n",
       "      <td>1.167250e+10</td>\n",
       "      <td>1.167213e+10</td>\n",
       "      <td>331374</td>\n",
       "      <td>0</td>\n",
       "      <td>331374</td>\n",
       "    </tr>\n",
       "    <tr>\n",
       "      <th>14</th>\n",
       "      <td>0.555698</td>\n",
       "      <td>-0.788220</td>\n",
       "      <td>-0.176144</td>\n",
       "      <td>3</td>\n",
       "      <td>18</td>\n",
       "      <td>dai</td>\n",
       "      <td>dai</td>\n",
       "      <td>Dai</td>\n",
       "      <td>NaN</td>\n",
       "      <td>19</td>\n",
       "      <td>...</td>\n",
       "      <td>0.01412</td>\n",
       "      <td>-0.00009</td>\n",
       "      <td>-0.39367</td>\n",
       "      <td>-0.17861</td>\n",
       "      <td>9.984332e+09</td>\n",
       "      <td>9.972624e+09</td>\n",
       "      <td>9.972624e+09</td>\n",
       "      <td>197445</td>\n",
       "      <td>32896</td>\n",
       "      <td>230341</td>\n",
       "    </tr>\n",
       "    <tr>\n",
       "      <th>15</th>\n",
       "      <td>-0.128667</td>\n",
       "      <td>-0.402221</td>\n",
       "      <td>-0.165947</td>\n",
       "      <td>3</td>\n",
       "      <td>19</td>\n",
       "      <td>litecoin</td>\n",
       "      <td>ltc</td>\n",
       "      <td>Litecoin</td>\n",
       "      <td>Scrypt</td>\n",
       "      <td>20</td>\n",
       "      <td>...</td>\n",
       "      <td>-11.21587</td>\n",
       "      <td>-9.65952</td>\n",
       "      <td>-10.75445</td>\n",
       "      <td>-37.25172</td>\n",
       "      <td>9.075063e+09</td>\n",
       "      <td>8.400000e+07</td>\n",
       "      <td>6.965043e+07</td>\n",
       "      <td>209100</td>\n",
       "      <td>356909</td>\n",
       "      <td>566009</td>\n",
       "    </tr>\n",
       "    <tr>\n",
       "      <th>18</th>\n",
       "      <td>-0.065799</td>\n",
       "      <td>-0.501449</td>\n",
       "      <td>-0.178154</td>\n",
       "      <td>3</td>\n",
       "      <td>23</td>\n",
       "      <td>tron</td>\n",
       "      <td>trx</td>\n",
       "      <td>TRON</td>\n",
       "      <td>Delegated Proof-of-Stake</td>\n",
       "      <td>24</td>\n",
       "      <td>...</td>\n",
       "      <td>-4.47356</td>\n",
       "      <td>-16.41168</td>\n",
       "      <td>5.64261</td>\n",
       "      <td>32.13386</td>\n",
       "      <td>6.809685e+09</td>\n",
       "      <td>1.019004e+11</td>\n",
       "      <td>1.017788e+11</td>\n",
       "      <td>738</td>\n",
       "      <td>122589</td>\n",
       "      <td>123327</td>\n",
       "    </tr>\n",
       "    <tr>\n",
       "      <th>20</th>\n",
       "      <td>1.328721</td>\n",
       "      <td>-0.962041</td>\n",
       "      <td>-0.165643</td>\n",
       "      <td>3</td>\n",
       "      <td>25</td>\n",
       "      <td>ftx-token</td>\n",
       "      <td>ftt</td>\n",
       "      <td>FTX Token</td>\n",
       "      <td>NaN</td>\n",
       "      <td>26</td>\n",
       "      <td>...</td>\n",
       "      <td>0.88399</td>\n",
       "      <td>24.70191</td>\n",
       "      <td>33.86514</td>\n",
       "      <td>132.72974</td>\n",
       "      <td>6.477040e+09</td>\n",
       "      <td>3.337954e+08</td>\n",
       "      <td>1.379260e+08</td>\n",
       "      <td>583779</td>\n",
       "      <td>0</td>\n",
       "      <td>583779</td>\n",
       "    </tr>\n",
       "    <tr>\n",
       "      <th>22</th>\n",
       "      <td>-0.165291</td>\n",
       "      <td>-0.385038</td>\n",
       "      <td>-0.181952</td>\n",
       "      <td>3</td>\n",
       "      <td>27</td>\n",
       "      <td>staked-ether</td>\n",
       "      <td>steth</td>\n",
       "      <td>Lido Staked Ether</td>\n",
       "      <td>NaN</td>\n",
       "      <td>28</td>\n",
       "      <td>...</td>\n",
       "      <td>-6.23133</td>\n",
       "      <td>-18.55655</td>\n",
       "      <td>28.73942</td>\n",
       "      <td>75.56189</td>\n",
       "      <td>5.908099e+09</td>\n",
       "      <td>1.877267e+06</td>\n",
       "      <td>1.877217e+06</td>\n",
       "      <td>60563</td>\n",
       "      <td>1769</td>\n",
       "      <td>62332</td>\n",
       "    </tr>\n",
       "    <tr>\n",
       "      <th>27</th>\n",
       "      <td>1.401883</td>\n",
       "      <td>-0.297299</td>\n",
       "      <td>-0.164824</td>\n",
       "      <td>3</td>\n",
       "      <td>33</td>\n",
       "      <td>decentraland</td>\n",
       "      <td>mana</td>\n",
       "      <td>Decentraland</td>\n",
       "      <td>NaN</td>\n",
       "      <td>34</td>\n",
       "      <td>...</td>\n",
       "      <td>6.63417</td>\n",
       "      <td>7.97044</td>\n",
       "      <td>366.74066</td>\n",
       "      <td>1020.50875</td>\n",
       "      <td>5.050654e+09</td>\n",
       "      <td>2.193842e+09</td>\n",
       "      <td>1.510036e+09</td>\n",
       "      <td>529812</td>\n",
       "      <td>83822</td>\n",
       "      <td>613634</td>\n",
       "    </tr>\n",
       "    <tr>\n",
       "      <th>28</th>\n",
       "      <td>0.379025</td>\n",
       "      <td>-0.553875</td>\n",
       "      <td>-0.176103</td>\n",
       "      <td>3</td>\n",
       "      <td>34</td>\n",
       "      <td>hedera-hashgraph</td>\n",
       "      <td>hbar</td>\n",
       "      <td>Hedera</td>\n",
       "      <td>Directed Acyclic Graph (DAG)</td>\n",
       "      <td>35</td>\n",
       "      <td>...</td>\n",
       "      <td>-7.42219</td>\n",
       "      <td>2.27673</td>\n",
       "      <td>19.85802</td>\n",
       "      <td>79.28278</td>\n",
       "      <td>5.033447e+09</td>\n",
       "      <td>5.000000e+10</td>\n",
       "      <td>1.938958e+10</td>\n",
       "      <td>213102</td>\n",
       "      <td>22396</td>\n",
       "      <td>235498</td>\n",
       "    </tr>\n",
       "    <tr>\n",
       "      <th>31</th>\n",
       "      <td>0.382046</td>\n",
       "      <td>-0.828428</td>\n",
       "      <td>-0.162582</td>\n",
       "      <td>3</td>\n",
       "      <td>38</td>\n",
       "      <td>ethereum-classic</td>\n",
       "      <td>etc</td>\n",
       "      <td>Ethereum Classic</td>\n",
       "      <td>Ethash</td>\n",
       "      <td>39</td>\n",
       "      <td>...</td>\n",
       "      <td>0.70675</td>\n",
       "      <td>-5.67881</td>\n",
       "      <td>-36.17615</td>\n",
       "      <td>123.38217</td>\n",
       "      <td>4.356427e+09</td>\n",
       "      <td>2.107000e+08</td>\n",
       "      <td>1.330040e+08</td>\n",
       "      <td>625349</td>\n",
       "      <td>63304</td>\n",
       "      <td>688653</td>\n",
       "    </tr>\n",
       "    <tr>\n",
       "      <th>32</th>\n",
       "      <td>-0.066885</td>\n",
       "      <td>-0.291868</td>\n",
       "      <td>-0.169069</td>\n",
       "      <td>3</td>\n",
       "      <td>39</td>\n",
       "      <td>elrond-erd-2</td>\n",
       "      <td>egld</td>\n",
       "      <td>Elrond</td>\n",
       "      <td>NaN</td>\n",
       "      <td>40</td>\n",
       "      <td>...</td>\n",
       "      <td>-1.19739</td>\n",
       "      <td>-24.60959</td>\n",
       "      <td>119.94971</td>\n",
       "      <td>37.98075</td>\n",
       "      <td>4.223714e+09</td>\n",
       "      <td>2.321011e+07</td>\n",
       "      <td>2.188011e+07</td>\n",
       "      <td>465995</td>\n",
       "      <td>14963</td>\n",
       "      <td>480958</td>\n",
       "    </tr>\n",
       "    <tr>\n",
       "      <th>34</th>\n",
       "      <td>0.247528</td>\n",
       "      <td>-0.666625</td>\n",
       "      <td>-0.175440</td>\n",
       "      <td>3</td>\n",
       "      <td>41</td>\n",
       "      <td>theta-token</td>\n",
       "      <td>theta</td>\n",
       "      <td>Theta Network</td>\n",
       "      <td>NaN</td>\n",
       "      <td>42</td>\n",
       "      <td>...</td>\n",
       "      <td>-5.87119</td>\n",
       "      <td>-2.29886</td>\n",
       "      <td>-33.86512</td>\n",
       "      <td>17.12747</td>\n",
       "      <td>3.975029e+09</td>\n",
       "      <td>1.000000e+09</td>\n",
       "      <td>1.000000e+09</td>\n",
       "      <td>248943</td>\n",
       "      <td>27818</td>\n",
       "      <td>276761</td>\n",
       "    </tr>\n",
       "    <tr>\n",
       "      <th>35</th>\n",
       "      <td>0.116861</td>\n",
       "      <td>-0.010389</td>\n",
       "      <td>-0.167363</td>\n",
       "      <td>3</td>\n",
       "      <td>42</td>\n",
       "      <td>ecomi</td>\n",
       "      <td>omi</td>\n",
       "      <td>ECOMI</td>\n",
       "      <td>NaN</td>\n",
       "      <td>43</td>\n",
       "      <td>...</td>\n",
       "      <td>-13.07998</td>\n",
       "      <td>-5.50211</td>\n",
       "      <td>170.57869</td>\n",
       "      <td>872.12995</td>\n",
       "      <td>3.787526e+09</td>\n",
       "      <td>7.500000e+11</td>\n",
       "      <td>5.819100e+11</td>\n",
       "      <td>171159</td>\n",
       "      <td>0</td>\n",
       "      <td>171159</td>\n",
       "    </tr>\n",
       "    <tr>\n",
       "      <th>37</th>\n",
       "      <td>-0.183781</td>\n",
       "      <td>-0.379126</td>\n",
       "      <td>-0.177047</td>\n",
       "      <td>3</td>\n",
       "      <td>47</td>\n",
       "      <td>compound-ether</td>\n",
       "      <td>ceth</td>\n",
       "      <td>cETH</td>\n",
       "      <td>NaN</td>\n",
       "      <td>48</td>\n",
       "      <td>...</td>\n",
       "      <td>-6.28294</td>\n",
       "      <td>-19.12816</td>\n",
       "      <td>28.41113</td>\n",
       "      <td>77.33924</td>\n",
       "      <td>3.247496e+09</td>\n",
       "      <td>5.136116e+07</td>\n",
       "      <td>5.136294e+07</td>\n",
       "      <td>219104</td>\n",
       "      <td>8895</td>\n",
       "      <td>227999</td>\n",
       "    </tr>\n",
       "    <tr>\n",
       "      <th>39</th>\n",
       "      <td>0.576070</td>\n",
       "      <td>-0.794922</td>\n",
       "      <td>-0.174670</td>\n",
       "      <td>3</td>\n",
       "      <td>49</td>\n",
       "      <td>cdai</td>\n",
       "      <td>cdai</td>\n",
       "      <td>cDAI</td>\n",
       "      <td>NaN</td>\n",
       "      <td>50</td>\n",
       "      <td>...</td>\n",
       "      <td>0.20961</td>\n",
       "      <td>0.42314</td>\n",
       "      <td>0.90395</td>\n",
       "      <td>3.22230</td>\n",
       "      <td>2.959570e+09</td>\n",
       "      <td>1.353178e+11</td>\n",
       "      <td>1.353647e+11</td>\n",
       "      <td>219079</td>\n",
       "      <td>8895</td>\n",
       "      <td>227974</td>\n",
       "    </tr>\n",
       "    <tr>\n",
       "      <th>41</th>\n",
       "      <td>0.517805</td>\n",
       "      <td>-0.762607</td>\n",
       "      <td>-0.183089</td>\n",
       "      <td>3</td>\n",
       "      <td>53</td>\n",
       "      <td>frax</td>\n",
       "      <td>frax</td>\n",
       "      <td>Frax</td>\n",
       "      <td>NaN</td>\n",
       "      <td>54</td>\n",
       "      <td>...</td>\n",
       "      <td>-0.82099</td>\n",
       "      <td>-0.27846</td>\n",
       "      <td>-0.78071</td>\n",
       "      <td>1.05043</td>\n",
       "      <td>2.654314e+09</td>\n",
       "      <td>2.653242e+09</td>\n",
       "      <td>2.653242e+09</td>\n",
       "      <td>34480</td>\n",
       "      <td>0</td>\n",
       "      <td>34480</td>\n",
       "    </tr>\n",
       "  </tbody>\n",
       "</table>\n",
       "<p>20 rows × 22 columns</p>\n",
       "</div>"
      ],
      "text/plain": [
       "        PCA1      PCA2      PCA3  class  index                id symbol  \\\n",
       "0   0.519304 -0.807629  0.164609      3      0           bitcoin    btc   \n",
       "1   0.564657 -0.791154 -0.168972      3      2            tether   usdt   \n",
       "3   0.918231 -0.994946 -0.093039      3      5            ripple    xrp   \n",
       "9   0.565592 -0.794609 -0.181511      3     12       binance-usd   busd   \n",
       "12  0.853656 -0.305671 -0.122017      3     15  crypto-com-chain    cro   \n",
       "13  0.564166 -0.792565 -0.172799      3     16          terrausd    ust   \n",
       "14  0.555698 -0.788220 -0.176144      3     18               dai    dai   \n",
       "15 -0.128667 -0.402221 -0.165947      3     19          litecoin    ltc   \n",
       "18 -0.065799 -0.501449 -0.178154      3     23              tron    trx   \n",
       "20  1.328721 -0.962041 -0.165643      3     25         ftx-token    ftt   \n",
       "22 -0.165291 -0.385038 -0.181952      3     27      staked-ether  steth   \n",
       "27  1.401883 -0.297299 -0.164824      3     33      decentraland   mana   \n",
       "28  0.379025 -0.553875 -0.176103      3     34  hedera-hashgraph   hbar   \n",
       "31  0.382046 -0.828428 -0.162582      3     38  ethereum-classic    etc   \n",
       "32 -0.066885 -0.291868 -0.169069      3     39      elrond-erd-2   egld   \n",
       "34  0.247528 -0.666625 -0.175440      3     41       theta-token  theta   \n",
       "35  0.116861 -0.010389 -0.167363      3     42             ecomi    omi   \n",
       "37 -0.183781 -0.379126 -0.177047      3     47    compound-ether   ceth   \n",
       "39  0.576070 -0.794922 -0.174670      3     49              cdai   cdai   \n",
       "41  0.517805 -0.762607 -0.183089      3     53              frax   frax   \n",
       "\n",
       "                 name                  hashing_algo  market_cap  ...  \\\n",
       "0             Bitcoin                       SHA-256           1  ...   \n",
       "1              Tether                           NaN           3  ...   \n",
       "3                 XRP                           NaN           6  ...   \n",
       "9         Binance USD                           NaN          13  ...   \n",
       "12    Crypto.com Coin                        Ethash          16  ...   \n",
       "13           TerraUSD                       SHA-256          17  ...   \n",
       "14                Dai                           NaN          19  ...   \n",
       "15           Litecoin                        Scrypt          20  ...   \n",
       "18               TRON      Delegated Proof-of-Stake          24  ...   \n",
       "20          FTX Token                           NaN          26  ...   \n",
       "22  Lido Staked Ether                           NaN          28  ...   \n",
       "27       Decentraland                           NaN          34  ...   \n",
       "28             Hedera  Directed Acyclic Graph (DAG)          35  ...   \n",
       "31   Ethereum Classic                        Ethash          39  ...   \n",
       "32             Elrond                           NaN          40  ...   \n",
       "34      Theta Network                           NaN          42  ...   \n",
       "35              ECOMI                           NaN          43  ...   \n",
       "37               cETH                           NaN          48  ...   \n",
       "39               cDAI                           NaN          50  ...   \n",
       "41               Frax                           NaN          54  ...   \n",
       "\n",
       "    p_change_30d  p_change_60d  p_change_200d  p_change_1y  market_cap_usd  \\\n",
       "0        2.51977      -4.58115        5.41309     -7.70834    8.392654e+11   \n",
       "1        0.05774       0.24979       -0.12995      0.07017    7.872545e+10   \n",
       "3        6.81260       3.86790       10.36575     51.95091    3.999451e+10   \n",
       "9        0.15457       0.18505       -0.75439      0.12775    1.785122e+10   \n",
       "12       5.28638      -6.39757      283.09245    469.16191    1.240106e+10   \n",
       "13       0.09922       0.19400       -0.49283      1.23738    1.169086e+10   \n",
       "14       0.01412      -0.00009       -0.39367     -0.17861    9.984332e+09   \n",
       "15     -11.21587      -9.65952      -10.75445    -37.25172    9.075063e+09   \n",
       "18      -4.47356     -16.41168        5.64261     32.13386    6.809685e+09   \n",
       "20       0.88399      24.70191       33.86514    132.72974    6.477040e+09   \n",
       "22      -6.23133     -18.55655       28.73942     75.56189    5.908099e+09   \n",
       "27       6.63417       7.97044      366.74066   1020.50875    5.050654e+09   \n",
       "28      -7.42219       2.27673       19.85802     79.28278    5.033447e+09   \n",
       "31       0.70675      -5.67881      -36.17615    123.38217    4.356427e+09   \n",
       "32      -1.19739     -24.60959      119.94971     37.98075    4.223714e+09   \n",
       "34      -5.87119      -2.29886      -33.86512     17.12747    3.975029e+09   \n",
       "35     -13.07998      -5.50211      170.57869    872.12995    3.787526e+09   \n",
       "37      -6.28294     -19.12816       28.41113     77.33924    3.247496e+09   \n",
       "39       0.20961       0.42314        0.90395      3.22230    2.959570e+09   \n",
       "41      -0.82099      -0.27846       -0.78071      1.05043    2.654314e+09   \n",
       "\n",
       "    total_supply  circulating_supply  twt_followers  rdt_followers  \\\n",
       "0   2.100000e+07        1.895990e+07        4677076        3911324   \n",
       "1   7.864105e+10        7.864105e+10         207281              0   \n",
       "3   1.000000e+11        4.788839e+10        2424974         346506   \n",
       "9   1.781981e+10        1.781981e+10          29152              0   \n",
       "12  3.026301e+10        2.526301e+10        1793673         156289   \n",
       "13  1.167250e+10        1.167213e+10         331374              0   \n",
       "14  9.972624e+09        9.972624e+09         197445          32896   \n",
       "15  8.400000e+07        6.965043e+07         209100         356909   \n",
       "18  1.019004e+11        1.017788e+11            738         122589   \n",
       "20  3.337954e+08        1.379260e+08         583779              0   \n",
       "22  1.877267e+06        1.877217e+06          60563           1769   \n",
       "27  2.193842e+09        1.510036e+09         529812          83822   \n",
       "28  5.000000e+10        1.938958e+10         213102          22396   \n",
       "31  2.107000e+08        1.330040e+08         625349          63304   \n",
       "32  2.321011e+07        2.188011e+07         465995          14963   \n",
       "34  1.000000e+09        1.000000e+09         248943          27818   \n",
       "35  7.500000e+11        5.819100e+11         171159              0   \n",
       "37  5.136116e+07        5.136294e+07         219104           8895   \n",
       "39  1.353178e+11        1.353647e+11         219079           8895   \n",
       "41  2.653242e+09        2.653242e+09          34480              0   \n",
       "\n",
       "    total_followers  \n",
       "0           8588400  \n",
       "1            207281  \n",
       "3           2771480  \n",
       "9             29152  \n",
       "12          1949962  \n",
       "13           331374  \n",
       "14           230341  \n",
       "15           566009  \n",
       "18           123327  \n",
       "20           583779  \n",
       "22            62332  \n",
       "27           613634  \n",
       "28           235498  \n",
       "31           688653  \n",
       "32           480958  \n",
       "34           276761  \n",
       "35           171159  \n",
       "37           227999  \n",
       "39           227974  \n",
       "41            34480  \n",
       "\n",
       "[20 rows x 22 columns]"
      ]
     },
     "execution_count": 40,
     "metadata": {},
     "output_type": "execute_result"
    }
   ],
   "source": [
    "# Relatively stable in short-term and long-term price change (a considerable amount of noise is observed in this class)\n",
    "# Outlier - mana with 1020 p_change_1y\n",
    "coin_class[coin_class['class'] == 3].head(20)"
   ]
  },
  {
   "cell_type": "code",
   "execution_count": 41,
   "metadata": {},
   "outputs": [
    {
     "data": {
      "text/html": [
       "<div>\n",
       "<style scoped>\n",
       "    .dataframe tbody tr th:only-of-type {\n",
       "        vertical-align: middle;\n",
       "    }\n",
       "\n",
       "    .dataframe tbody tr th {\n",
       "        vertical-align: top;\n",
       "    }\n",
       "\n",
       "    .dataframe thead th {\n",
       "        text-align: right;\n",
       "    }\n",
       "</style>\n",
       "<table border=\"1\" class=\"dataframe\">\n",
       "  <thead>\n",
       "    <tr style=\"text-align: right;\">\n",
       "      <th></th>\n",
       "      <th>PCA1</th>\n",
       "      <th>PCA2</th>\n",
       "      <th>PCA3</th>\n",
       "      <th>class</th>\n",
       "      <th>index</th>\n",
       "      <th>id</th>\n",
       "      <th>symbol</th>\n",
       "      <th>name</th>\n",
       "      <th>hashing_algo</th>\n",
       "      <th>market_cap</th>\n",
       "      <th>...</th>\n",
       "      <th>p_change_30d</th>\n",
       "      <th>p_change_60d</th>\n",
       "      <th>p_change_200d</th>\n",
       "      <th>p_change_1y</th>\n",
       "      <th>market_cap_usd</th>\n",
       "      <th>total_supply</th>\n",
       "      <th>circulating_supply</th>\n",
       "      <th>twt_followers</th>\n",
       "      <th>rdt_followers</th>\n",
       "      <th>total_followers</th>\n",
       "    </tr>\n",
       "  </thead>\n",
       "  <tbody>\n",
       "    <tr>\n",
       "      <th>65</th>\n",
       "      <td>2.030892</td>\n",
       "      <td>4.445267</td>\n",
       "      <td>-0.17941</td>\n",
       "      <td>4</td>\n",
       "      <td>84</td>\n",
       "      <td>kadena</td>\n",
       "      <td>kda</td>\n",
       "      <td>Kadena</td>\n",
       "      <td>NaN</td>\n",
       "      <td>85</td>\n",
       "      <td>...</td>\n",
       "      <td>-7.16997</td>\n",
       "      <td>-25.15326</td>\n",
       "      <td>2372.09894</td>\n",
       "      <td>1916.44493</td>\n",
       "      <td>1.393874e+09</td>\n",
       "      <td>1.000000e+09</td>\n",
       "      <td>1.678161e+08</td>\n",
       "      <td>157703</td>\n",
       "      <td>0</td>\n",
       "      <td>157703</td>\n",
       "    </tr>\n",
       "  </tbody>\n",
       "</table>\n",
       "<p>1 rows × 22 columns</p>\n",
       "</div>"
      ],
      "text/plain": [
       "        PCA1      PCA2     PCA3  class  index      id symbol    name  \\\n",
       "65  2.030892  4.445267 -0.17941      4     84  kadena    kda  Kadena   \n",
       "\n",
       "   hashing_algo  market_cap  ...  p_change_30d  p_change_60d  p_change_200d  \\\n",
       "65          NaN          85  ...      -7.16997     -25.15326     2372.09894   \n",
       "\n",
       "    p_change_1y  market_cap_usd  total_supply  circulating_supply  \\\n",
       "65   1916.44493    1.393874e+09  1.000000e+09        1.678161e+08   \n",
       "\n",
       "    twt_followers  rdt_followers  total_followers  \n",
       "65         157703              0           157703  \n",
       "\n",
       "[1 rows x 22 columns]"
      ]
     },
     "execution_count": 41,
     "metadata": {},
     "output_type": "execute_result"
    }
   ],
   "source": [
    "# Negative short term reward, highly positive long term reward\n",
    "coin_class[coin_class['class'] == 4].head(10)"
   ]
  },
  {
   "cell_type": "code",
   "execution_count": 42,
   "metadata": {},
   "outputs": [
    {
     "data": {
      "text/html": [
       "<div>\n",
       "<style scoped>\n",
       "    .dataframe tbody tr th:only-of-type {\n",
       "        vertical-align: middle;\n",
       "    }\n",
       "\n",
       "    .dataframe tbody tr th {\n",
       "        vertical-align: top;\n",
       "    }\n",
       "\n",
       "    .dataframe thead th {\n",
       "        text-align: right;\n",
       "    }\n",
       "</style>\n",
       "<table border=\"1\" class=\"dataframe\">\n",
       "  <thead>\n",
       "    <tr style=\"text-align: right;\">\n",
       "      <th></th>\n",
       "      <th>PCA1</th>\n",
       "      <th>PCA2</th>\n",
       "      <th>PCA3</th>\n",
       "      <th>class</th>\n",
       "      <th>index</th>\n",
       "      <th>id</th>\n",
       "      <th>symbol</th>\n",
       "      <th>name</th>\n",
       "      <th>hashing_algo</th>\n",
       "      <th>market_cap</th>\n",
       "      <th>...</th>\n",
       "      <th>p_change_30d</th>\n",
       "      <th>p_change_60d</th>\n",
       "      <th>p_change_200d</th>\n",
       "      <th>p_change_1y</th>\n",
       "      <th>market_cap_usd</th>\n",
       "      <th>total_supply</th>\n",
       "      <th>circulating_supply</th>\n",
       "      <th>twt_followers</th>\n",
       "      <th>rdt_followers</th>\n",
       "      <th>total_followers</th>\n",
       "    </tr>\n",
       "  </thead>\n",
       "  <tbody>\n",
       "    <tr>\n",
       "      <th>6</th>\n",
       "      <td>0.931120</td>\n",
       "      <td>0.525941</td>\n",
       "      <td>-0.162686</td>\n",
       "      <td>5</td>\n",
       "      <td>8</td>\n",
       "      <td>avalanche-2</td>\n",
       "      <td>AVAX</td>\n",
       "      <td>Avalanche</td>\n",
       "      <td>NaN</td>\n",
       "      <td>9</td>\n",
       "      <td>...</td>\n",
       "      <td>3.62504</td>\n",
       "      <td>-14.31798</td>\n",
       "      <td>638.73295</td>\n",
       "      <td>151.90801</td>\n",
       "      <td>2.351314e+10</td>\n",
       "      <td>3.777522e+08</td>\n",
       "      <td>2.452928e+08</td>\n",
       "      <td>590774</td>\n",
       "      <td>34807</td>\n",
       "      <td>625581</td>\n",
       "    </tr>\n",
       "    <tr>\n",
       "      <th>17</th>\n",
       "      <td>0.441469</td>\n",
       "      <td>0.922604</td>\n",
       "      <td>-0.173963</td>\n",
       "      <td>5</td>\n",
       "      <td>22</td>\n",
       "      <td>near</td>\n",
       "      <td>near</td>\n",
       "      <td>Near</td>\n",
       "      <td>NaN</td>\n",
       "      <td>23</td>\n",
       "      <td>...</td>\n",
       "      <td>-43.18249</td>\n",
       "      <td>35.41557</td>\n",
       "      <td>389.81295</td>\n",
       "      <td>187.61003</td>\n",
       "      <td>7.271491e+09</td>\n",
       "      <td>1.000000e+09</td>\n",
       "      <td>6.366952e+08</td>\n",
       "      <td>314027</td>\n",
       "      <td>0</td>\n",
       "      <td>314027</td>\n",
       "    </tr>\n",
       "    <tr>\n",
       "      <th>25</th>\n",
       "      <td>1.380855</td>\n",
       "      <td>1.311360</td>\n",
       "      <td>-0.171118</td>\n",
       "      <td>5</td>\n",
       "      <td>31</td>\n",
       "      <td>fantom</td>\n",
       "      <td>ftm</td>\n",
       "      <td>Fantom</td>\n",
       "      <td>NaN</td>\n",
       "      <td>32</td>\n",
       "      <td>...</td>\n",
       "      <td>-36.68605</td>\n",
       "      <td>47.96417</td>\n",
       "      <td>725.28649</td>\n",
       "      <td>1096.81112</td>\n",
       "      <td>5.300298e+09</td>\n",
       "      <td>3.175000e+09</td>\n",
       "      <td>2.541153e+09</td>\n",
       "      <td>377290</td>\n",
       "      <td>33023</td>\n",
       "      <td>410313</td>\n",
       "    </tr>\n",
       "    <tr>\n",
       "      <th>29</th>\n",
       "      <td>0.309724</td>\n",
       "      <td>0.823981</td>\n",
       "      <td>-0.157952</td>\n",
       "      <td>5</td>\n",
       "      <td>35</td>\n",
       "      <td>the-sandbox</td>\n",
       "      <td>sand</td>\n",
       "      <td>The Sandbox</td>\n",
       "      <td>NaN</td>\n",
       "      <td>36</td>\n",
       "      <td>...</td>\n",
       "      <td>-12.26446</td>\n",
       "      <td>-13.77718</td>\n",
       "      <td>555.06972</td>\n",
       "      <td>1704.35980</td>\n",
       "      <td>4.670428e+09</td>\n",
       "      <td>3.000000e+09</td>\n",
       "      <td>1.081466e+09</td>\n",
       "      <td>835314</td>\n",
       "      <td>0</td>\n",
       "      <td>835314</td>\n",
       "    </tr>\n",
       "    <tr>\n",
       "      <th>43</th>\n",
       "      <td>1.528413</td>\n",
       "      <td>2.326560</td>\n",
       "      <td>-0.173982</td>\n",
       "      <td>5</td>\n",
       "      <td>55</td>\n",
       "      <td>gala</td>\n",
       "      <td>gala</td>\n",
       "      <td>Gala</td>\n",
       "      <td>NaN</td>\n",
       "      <td>56</td>\n",
       "      <td>...</td>\n",
       "      <td>3.96063</td>\n",
       "      <td>-24.58148</td>\n",
       "      <td>1479.28799</td>\n",
       "      <td>2404.98219</td>\n",
       "      <td>2.579207e+09</td>\n",
       "      <td>3.689532e+10</td>\n",
       "      <td>7.542497e+09</td>\n",
       "      <td>318222</td>\n",
       "      <td>0</td>\n",
       "      <td>318222</td>\n",
       "    </tr>\n",
       "    <tr>\n",
       "      <th>56</th>\n",
       "      <td>2.445994</td>\n",
       "      <td>0.913690</td>\n",
       "      <td>-0.183231</td>\n",
       "      <td>5</td>\n",
       "      <td>73</td>\n",
       "      <td>frax-share</td>\n",
       "      <td>fxs</td>\n",
       "      <td>Frax Share</td>\n",
       "      <td>NaN</td>\n",
       "      <td>74</td>\n",
       "      <td>...</td>\n",
       "      <td>-27.74121</td>\n",
       "      <td>72.80037</td>\n",
       "      <td>769.11031</td>\n",
       "      <td>225.78772</td>\n",
       "      <td>1.656181e+09</td>\n",
       "      <td>9.985427e+07</td>\n",
       "      <td>6.177897e+07</td>\n",
       "      <td>34480</td>\n",
       "      <td>0</td>\n",
       "      <td>34480</td>\n",
       "    </tr>\n",
       "    <tr>\n",
       "      <th>74</th>\n",
       "      <td>0.155015</td>\n",
       "      <td>0.754184</td>\n",
       "      <td>-0.179700</td>\n",
       "      <td>5</td>\n",
       "      <td>95</td>\n",
       "      <td>oasis-network</td>\n",
       "      <td>rose</td>\n",
       "      <td>Oasis Network</td>\n",
       "      <td>Proof of Stake</td>\n",
       "      <td>96</td>\n",
       "      <td>...</td>\n",
       "      <td>-39.59046</td>\n",
       "      <td>23.93073</td>\n",
       "      <td>306.52067</td>\n",
       "      <td>219.25587</td>\n",
       "      <td>1.101803e+09</td>\n",
       "      <td>1.000000e+10</td>\n",
       "      <td>3.490000e+09</td>\n",
       "      <td>138092</td>\n",
       "      <td>8154</td>\n",
       "      <td>146246</td>\n",
       "    </tr>\n",
       "    <tr>\n",
       "      <th>75</th>\n",
       "      <td>2.335227</td>\n",
       "      <td>0.344992</td>\n",
       "      <td>-0.179740</td>\n",
       "      <td>5</td>\n",
       "      <td>96</td>\n",
       "      <td>secret</td>\n",
       "      <td>scrt</td>\n",
       "      <td>Secret</td>\n",
       "      <td>NaN</td>\n",
       "      <td>97</td>\n",
       "      <td>...</td>\n",
       "      <td>-24.86245</td>\n",
       "      <td>73.85490</td>\n",
       "      <td>532.75481</td>\n",
       "      <td>194.12872</td>\n",
       "      <td>1.093430e+09</td>\n",
       "      <td>1.901982e+08</td>\n",
       "      <td>1.634866e+08</td>\n",
       "      <td>148205</td>\n",
       "      <td>0</td>\n",
       "      <td>148205</td>\n",
       "    </tr>\n",
       "  </tbody>\n",
       "</table>\n",
       "<p>8 rows × 22 columns</p>\n",
       "</div>"
      ],
      "text/plain": [
       "        PCA1      PCA2      PCA3  class  index             id symbol  \\\n",
       "6   0.931120  0.525941 -0.162686      5      8    avalanche-2   AVAX   \n",
       "17  0.441469  0.922604 -0.173963      5     22           near   near   \n",
       "25  1.380855  1.311360 -0.171118      5     31         fantom    ftm   \n",
       "29  0.309724  0.823981 -0.157952      5     35    the-sandbox   sand   \n",
       "43  1.528413  2.326560 -0.173982      5     55           gala   gala   \n",
       "56  2.445994  0.913690 -0.183231      5     73     frax-share    fxs   \n",
       "74  0.155015  0.754184 -0.179700      5     95  oasis-network   rose   \n",
       "75  2.335227  0.344992 -0.179740      5     96         secret   scrt   \n",
       "\n",
       "             name    hashing_algo  market_cap  ...  p_change_30d  \\\n",
       "6       Avalanche             NaN           9  ...       3.62504   \n",
       "17           Near             NaN          23  ...     -43.18249   \n",
       "25         Fantom             NaN          32  ...     -36.68605   \n",
       "29    The Sandbox             NaN          36  ...     -12.26446   \n",
       "43           Gala             NaN          56  ...       3.96063   \n",
       "56     Frax Share             NaN          74  ...     -27.74121   \n",
       "74  Oasis Network  Proof of Stake          96  ...     -39.59046   \n",
       "75         Secret             NaN          97  ...     -24.86245   \n",
       "\n",
       "    p_change_60d  p_change_200d  p_change_1y  market_cap_usd  total_supply  \\\n",
       "6      -14.31798      638.73295    151.90801    2.351314e+10  3.777522e+08   \n",
       "17      35.41557      389.81295    187.61003    7.271491e+09  1.000000e+09   \n",
       "25      47.96417      725.28649   1096.81112    5.300298e+09  3.175000e+09   \n",
       "29     -13.77718      555.06972   1704.35980    4.670428e+09  3.000000e+09   \n",
       "43     -24.58148     1479.28799   2404.98219    2.579207e+09  3.689532e+10   \n",
       "56      72.80037      769.11031    225.78772    1.656181e+09  9.985427e+07   \n",
       "74      23.93073      306.52067    219.25587    1.101803e+09  1.000000e+10   \n",
       "75      73.85490      532.75481    194.12872    1.093430e+09  1.901982e+08   \n",
       "\n",
       "    circulating_supply  twt_followers  rdt_followers  total_followers  \n",
       "6         2.452928e+08         590774          34807           625581  \n",
       "17        6.366952e+08         314027              0           314027  \n",
       "25        2.541153e+09         377290          33023           410313  \n",
       "29        1.081466e+09         835314              0           835314  \n",
       "43        7.542497e+09         318222              0           318222  \n",
       "56        6.177897e+07          34480              0            34480  \n",
       "74        3.490000e+09         138092           8154           146246  \n",
       "75        1.634866e+08         148205              0           148205  \n",
       "\n",
       "[8 rows x 22 columns]"
      ]
     },
     "execution_count": 42,
     "metadata": {},
     "output_type": "execute_result"
    }
   ],
   "source": [
    "# Positive long term reward, slightly smaller market_cap\n",
    "coin_class[coin_class['class'] == 5].head(10)"
   ]
  },
  {
   "cell_type": "markdown",
   "metadata": {},
   "source": [
    "### Prediction"
   ]
  },
  {
   "cell_type": "code",
   "execution_count": 43,
   "metadata": {},
   "outputs": [
    {
     "data": {
      "text/html": [
       "<div>\n",
       "<style scoped>\n",
       "    .dataframe tbody tr th:only-of-type {\n",
       "        vertical-align: middle;\n",
       "    }\n",
       "\n",
       "    .dataframe tbody tr th {\n",
       "        vertical-align: top;\n",
       "    }\n",
       "\n",
       "    .dataframe thead th {\n",
       "        text-align: right;\n",
       "    }\n",
       "</style>\n",
       "<table border=\"1\" class=\"dataframe\">\n",
       "  <thead>\n",
       "    <tr style=\"text-align: right;\">\n",
       "      <th></th>\n",
       "      <th>id</th>\n",
       "      <th>symbol</th>\n",
       "      <th>name</th>\n",
       "      <th>p_change_30d</th>\n",
       "      <th>p_change_60d</th>\n",
       "      <th>p_change_200d</th>\n",
       "      <th>p_change_1y</th>\n",
       "      <th>market_cap_usd</th>\n",
       "      <th>total_supply</th>\n",
       "      <th>circulating_supply</th>\n",
       "    </tr>\n",
       "  </thead>\n",
       "  <tbody>\n",
       "    <tr>\n",
       "      <th>0</th>\n",
       "      <td>leo-token</td>\n",
       "      <td>leo</td>\n",
       "      <td>LEO Token</td>\n",
       "      <td>1.93445</td>\n",
       "      <td>-13.00178</td>\n",
       "      <td>51.53024</td>\n",
       "      <td>92.91157</td>\n",
       "      <td>4748678135</td>\n",
       "      <td>985239504.0</td>\n",
       "      <td>935387210.9</td>\n",
       "    </tr>\n",
       "  </tbody>\n",
       "</table>\n",
       "</div>"
      ],
      "text/plain": [
       "          id symbol       name  p_change_30d  p_change_60d  p_change_200d  \\\n",
       "0  leo-token    leo  LEO Token       1.93445     -13.00178       51.53024   \n",
       "\n",
       "   p_change_1y  market_cap_usd  total_supply  circulating_supply  \n",
       "0     92.91157      4748678135   985239504.0         935387210.9  "
      ]
     },
     "execution_count": 43,
     "metadata": {},
     "output_type": "execute_result"
    }
   ],
   "source": [
    "coin_test = 'leo-token'\n",
    "cndtl = requests.get(f'https://api.coingecko.com/api/v3/coins/{coin_test}', headers={'accept': 'application/json'}).json()\n",
    "id = cndtl['id']\n",
    "symbol = cndtl['symbol']\n",
    "name = cndtl['name']\n",
    "p_change_30d = cndtl['market_data']['price_change_percentage_30d']\n",
    "p_change_60d = cndtl['market_data']['price_change_percentage_60d']\n",
    "p_change_200d = cndtl['market_data']['price_change_percentage_200d']\n",
    "p_change_1y = cndtl['market_data']['price_change_percentage_1y']\n",
    "market_cap_usd= cndtl['market_data']['market_cap']['usd']\n",
    "total_supply = cndtl['market_data']['total_supply']\n",
    "circulating_supply = cndtl['market_data']['circulating_supply']\n",
    "data = [[id, symbol, name, p_change_30d, p_change_60d, p_change_200d, p_change_1y, market_cap_usd, total_supply, circulating_supply]]\n",
    "coin_test_df = pd.DataFrame(data, columns=['id', 'symbol', 'name', 'p_change_30d', 'p_change_60d', 'p_change_200d', 'p_change_1y', 'market_cap_usd', 'total_supply', 'circulating_supply'])\n",
    "coin_test_df"
   ]
  },
  {
   "cell_type": "code",
   "execution_count": 44,
   "metadata": {},
   "outputs": [],
   "source": [
    "# Data Preprocessing\n",
    "coin_test_df = coin_test_df.dropna(subset=['p_change_30d', 'p_change_60d', 'p_change_200d', 'p_change_1y', 'market_cap_usd', 'total_supply', 'circulating_supply'])\n",
    "coin_test_df = coin_test_df[coin_test_df['p_change_60d'] != 0]\n",
    "coin_test_df = coin_test_df[coin_test_df['p_change_200d'] != 0]\n",
    "coin_test_df = coin_test_df[coin_test_df['p_change_1y'] != 0]\n",
    "coin_test_df['total_followers'] = 0 # Dummy variable just for standardization"
   ]
  },
  {
   "cell_type": "code",
   "execution_count": 45,
   "metadata": {},
   "outputs": [],
   "source": [
    "# Standardization\n",
    "coin_test_standardized = sc.transform(coin_test_df.iloc[:, 3:])\n",
    "# coin_test_standardized\n",
    "coin_test_pca = pd.DataFrame(coin_test_standardized, columns = ['p_change_30d','p_change_60d','p_change_200d','p_change_1y',\n",
    "                                                        'market_cap_usd','total_supply','circulating_supply','total_followers'])"
   ]
  },
  {
   "cell_type": "code",
   "execution_count": 46,
   "metadata": {},
   "outputs": [
    {
     "data": {
      "text/html": [
       "<div>\n",
       "<style scoped>\n",
       "    .dataframe tbody tr th:only-of-type {\n",
       "        vertical-align: middle;\n",
       "    }\n",
       "\n",
       "    .dataframe tbody tr th {\n",
       "        vertical-align: top;\n",
       "    }\n",
       "\n",
       "    .dataframe thead th {\n",
       "        text-align: right;\n",
       "    }\n",
       "</style>\n",
       "<table border=\"1\" class=\"dataframe\">\n",
       "  <thead>\n",
       "    <tr style=\"text-align: right;\">\n",
       "      <th></th>\n",
       "      <th>p_change_30d</th>\n",
       "      <th>p_change_60d</th>\n",
       "      <th>p_change_200d</th>\n",
       "      <th>p_change_1y</th>\n",
       "      <th>market_cap_usd</th>\n",
       "      <th>total_supply</th>\n",
       "      <th>circulating_supply</th>\n",
       "      <th>total_followers</th>\n",
       "    </tr>\n",
       "  </thead>\n",
       "  <tbody>\n",
       "    <tr>\n",
       "      <th>0</th>\n",
       "      <td>0.926965</td>\n",
       "      <td>-0.185691</td>\n",
       "      <td>-0.227744</td>\n",
       "      <td>-0.117253</td>\n",
       "      <td>-0.144217</td>\n",
       "      <td>-0.113543</td>\n",
       "      <td>-0.113505</td>\n",
       "      <td>-0.528324</td>\n",
       "    </tr>\n",
       "  </tbody>\n",
       "</table>\n",
       "</div>"
      ],
      "text/plain": [
       "   p_change_30d  p_change_60d  p_change_200d  p_change_1y  market_cap_usd  \\\n",
       "0      0.926965     -0.185691      -0.227744    -0.117253       -0.144217   \n",
       "\n",
       "   total_supply  circulating_supply  total_followers  \n",
       "0     -0.113543           -0.113505        -0.528324  "
      ]
     },
     "execution_count": 46,
     "metadata": {},
     "output_type": "execute_result"
    }
   ],
   "source": [
    "coin_test_pca.iloc[:, 0:]"
   ]
  },
  {
   "cell_type": "code",
   "execution_count": 47,
   "metadata": {},
   "outputs": [],
   "source": [
    "# PCA Transformation\n",
    "coin_test_price_mvt = pca_price. transform(coin_test_pca.iloc[:, 0:4])\n",
    "coin_test_market_mvt = pca_market. transform(coin_test_pca.iloc[:, 4:])"
   ]
  },
  {
   "cell_type": "code",
   "execution_count": 48,
   "metadata": {},
   "outputs": [],
   "source": [
    "# Merge into df\n",
    "coin_test_df1 = pd.DataFrame(data = coin_test_price_mvt, columns = ['PCA1', 'PCA2'])\n",
    "coin_test_df2 = pd.DataFrame(data = coin_test_market_mvt, columns = ['PCA3'])"
   ]
  },
  {
   "cell_type": "code",
   "execution_count": 49,
   "metadata": {},
   "outputs": [
    {
     "data": {
      "text/html": [
       "<div>\n",
       "<style scoped>\n",
       "    .dataframe tbody tr th:only-of-type {\n",
       "        vertical-align: middle;\n",
       "    }\n",
       "\n",
       "    .dataframe tbody tr th {\n",
       "        vertical-align: top;\n",
       "    }\n",
       "\n",
       "    .dataframe thead th {\n",
       "        text-align: right;\n",
       "    }\n",
       "</style>\n",
       "<table border=\"1\" class=\"dataframe\">\n",
       "  <thead>\n",
       "    <tr style=\"text-align: right;\">\n",
       "      <th></th>\n",
       "      <th>PCA1</th>\n",
       "      <th>PCA2</th>\n",
       "      <th>PCA3</th>\n",
       "    </tr>\n",
       "  </thead>\n",
       "  <tbody>\n",
       "    <tr>\n",
       "      <th>0</th>\n",
       "      <td>0.305933</td>\n",
       "      <td>-0.622004</td>\n",
       "      <td>-0.207292</td>\n",
       "    </tr>\n",
       "  </tbody>\n",
       "</table>\n",
       "</div>"
      ],
      "text/plain": [
       "       PCA1      PCA2      PCA3\n",
       "0  0.305933 -0.622004 -0.207292"
      ]
     },
     "execution_count": 49,
     "metadata": {},
     "output_type": "execute_result"
    }
   ],
   "source": [
    "# Merge into df\n",
    "coin_test_pca = coin_test_df1.join(coin_test_df2)\n",
    "coin_test_pca"
   ]
  },
  {
   "cell_type": "code",
   "execution_count": 50,
   "metadata": {},
   "outputs": [],
   "source": [
    "# Prediction \n",
    "y = model.predict(coin_test_pca)\n",
    "coin_test_pca['class'] = y"
   ]
  },
  {
   "cell_type": "code",
   "execution_count": 51,
   "metadata": {},
   "outputs": [
    {
     "data": {
      "text/html": [
       "<div>\n",
       "<style scoped>\n",
       "    .dataframe tbody tr th:only-of-type {\n",
       "        vertical-align: middle;\n",
       "    }\n",
       "\n",
       "    .dataframe tbody tr th {\n",
       "        vertical-align: top;\n",
       "    }\n",
       "\n",
       "    .dataframe thead th {\n",
       "        text-align: right;\n",
       "    }\n",
       "</style>\n",
       "<table border=\"1\" class=\"dataframe\">\n",
       "  <thead>\n",
       "    <tr style=\"text-align: right;\">\n",
       "      <th></th>\n",
       "      <th>PCA1</th>\n",
       "      <th>PCA2</th>\n",
       "      <th>PCA3</th>\n",
       "      <th>class</th>\n",
       "    </tr>\n",
       "  </thead>\n",
       "  <tbody>\n",
       "    <tr>\n",
       "      <th>0</th>\n",
       "      <td>0.305933</td>\n",
       "      <td>-0.622004</td>\n",
       "      <td>-0.207292</td>\n",
       "      <td>3</td>\n",
       "    </tr>\n",
       "  </tbody>\n",
       "</table>\n",
       "</div>"
      ],
      "text/plain": [
       "       PCA1      PCA2      PCA3  class\n",
       "0  0.305933 -0.622004 -0.207292      3"
      ]
     },
     "execution_count": 51,
     "metadata": {},
     "output_type": "execute_result"
    }
   ],
   "source": [
    "coin_test_pca"
   ]
  },
  {
   "cell_type": "markdown",
   "metadata": {},
   "source": [
    "## Conclusion\n",
    "This model attempts to perform a basic clustering amongs the top 100 coins ranked by market cap in CoinGecko. A total of 79 entries of coins are fed into the model for training. There are 6 distinct groups with the K-Mean clustering method. \t\n",
    "\n",
    "### Features \n",
    "All the 6 features are reduced to a 3-dimension vector with PCA.\n",
    "- `p_change_30d`\n",
    "- `p_change_60d`\n",
    "- `p_change_1y`\n",
    "- `market_cap_usd`\n",
    "- `total_supply`\n",
    "- `circulating_supply`\n",
    "\n",
    "\n",
    "### Findings\n",
    "- Found groups with large, positive long term price movement, large market cap (Class 0)\n",
    "- Found coins with price drop in recent two months with generally positive long-term reward (Class 1)\n",
    "- Found outliers that could be bullish in long term despite short-term negative reward (class 2)\n",
    "- Found groups with relatively stable  short-term and long-term price change (class 3)\n",
    "- Found outliers in highly flucuated long-term price change and a very high total supply (class 4)\n",
    "- Found groups with positive long-term reward depsite negative short-term reward (class 5)\n",
    "\n",
    "### Improvements\n",
    "- Not taking possible market signals into account such as number of followers as the number may not be reliable\n",
    "- The 1-year price change is nearly in a perfect correlation with total_supply and circulating supply. There may have some issues in the data source.\n",
    "- The current price of the token is not taking into account since the study wants to find out the clusters of the market movement of coins.\n",
    "- The functionalities of the tokens are not taking into account (e.g. the platform that it is operated upon). This has a considerable amount of difficulty since the hashing algorithm is a categorical variable and there is too much missing data which may have to gather and consolidate the data from multiple sources.\n",
    "\n"
   ]
  }
 ],
 "metadata": {
  "kernelspec": {
   "display_name": "Python 3.6.13 ('tensorflow-use-2')",
   "language": "python",
   "name": "python3"
  },
  "language_info": {
   "codemirror_mode": {
    "name": "ipython",
    "version": 3
   },
   "file_extension": ".py",
   "mimetype": "text/x-python",
   "name": "python",
   "nbconvert_exporter": "python",
   "pygments_lexer": "ipython3",
   "version": "3.6.13"
  },
  "orig_nbformat": 4,
  "vscode": {
   "interpreter": {
    "hash": "e94e7c3326c713ecf6a5c84220451e2994432548d3ba8bd7b0e729c4c1584b32"
   }
  }
 },
 "nbformat": 4,
 "nbformat_minor": 2
}
